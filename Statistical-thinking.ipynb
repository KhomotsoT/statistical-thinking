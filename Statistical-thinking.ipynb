{
 "cells": [
  {
   "cell_type": "markdown",
   "metadata": {},
   "source": [
    " #                                                  STATISTICAL THINKING"
   ]
  },
  {
   "cell_type": "markdown",
   "metadata": {},
   "source": [
    "## Introduction\n",
    "The Millennium Development Goals were a set of 8 goals for 2015 that were defined by the United Nations to help improve living conditions and the conditions of our planet. Key indicators were defined for each of these goals, to see whether they were being met. We will have a look at some of the key indicators from Goal 7: Ensure environmental sustainability, namely carbon dioxide emissions, protected land and sea areas, and forests.\n",
    "\n",
    "* We will explore the dataset provided and analyse the polution behaviours of the countries over the past years."
   ]
  },
  {
   "cell_type": "code",
   "execution_count": 1,
   "metadata": {},
   "outputs": [],
   "source": [
    "import pandas as pd\n",
    "import seaborn as sns\n",
    "import matplotlib.pyplot as plt\n",
    "import numpy as np\n",
    "import scipy.stats as stats\n",
    "from scipy.stats.stats import pearsonr\n",
    "\n",
    "import warnings\n",
    "warnings.filterwarnings('ignore')\n",
    "\n",
    "\n",
    "sns.set()"
   ]
  },
  {
   "cell_type": "code",
   "execution_count": 2,
   "metadata": {},
   "outputs": [
    {
     "data": {
      "text/html": [
       "<div>\n",
       "<style scoped>\n",
       "    .dataframe tbody tr th:only-of-type {\n",
       "        vertical-align: middle;\n",
       "    }\n",
       "\n",
       "    .dataframe tbody tr th {\n",
       "        vertical-align: top;\n",
       "    }\n",
       "\n",
       "    .dataframe thead th {\n",
       "        text-align: right;\n",
       "    }\n",
       "</style>\n",
       "<table border=\"1\" class=\"dataframe\">\n",
       "  <thead>\n",
       "    <tr style=\"text-align: right;\">\n",
       "      <th></th>\n",
       "      <th>CountryCode</th>\n",
       "      <th>Country</th>\n",
       "      <th>SeriesCode</th>\n",
       "      <th>MDG</th>\n",
       "      <th>Series</th>\n",
       "      <th>1990</th>\n",
       "      <th>Footnotes</th>\n",
       "      <th>Type</th>\n",
       "      <th>1991</th>\n",
       "      <th>Footnotes.1</th>\n",
       "      <th>...</th>\n",
       "      <th>Type.26</th>\n",
       "      <th>2017</th>\n",
       "      <th>Footnotes.27</th>\n",
       "      <th>Type.27</th>\n",
       "      <th>2018</th>\n",
       "      <th>Footnotes.28</th>\n",
       "      <th>Type.28</th>\n",
       "      <th>2019</th>\n",
       "      <th>Footnotes.29</th>\n",
       "      <th>Type.29</th>\n",
       "    </tr>\n",
       "  </thead>\n",
       "  <tbody>\n",
       "    <tr>\n",
       "      <td>0</td>\n",
       "      <td>4</td>\n",
       "      <td>Afghanistan</td>\n",
       "      <td>567</td>\n",
       "      <td>Y</td>\n",
       "      <td>Proportion of land area covered by forest, per...</td>\n",
       "      <td>2.1</td>\n",
       "      <td>NaN</td>\n",
       "      <td>E</td>\n",
       "      <td></td>\n",
       "      <td></td>\n",
       "      <td>...</td>\n",
       "      <td></td>\n",
       "      <td></td>\n",
       "      <td></td>\n",
       "      <td></td>\n",
       "      <td></td>\n",
       "      <td></td>\n",
       "      <td></td>\n",
       "      <td></td>\n",
       "      <td></td>\n",
       "      <td></td>\n",
       "    </tr>\n",
       "    <tr>\n",
       "      <td>1</td>\n",
       "      <td>4</td>\n",
       "      <td>Afghanistan</td>\n",
       "      <td>749</td>\n",
       "      <td>Y</td>\n",
       "      <td>Carbon dioxide emissions (CO2), thousand metri...</td>\n",
       "      <td>2676.9</td>\n",
       "      <td>NaN</td>\n",
       "      <td>G</td>\n",
       "      <td>2493.6</td>\n",
       "      <td>NaN</td>\n",
       "      <td>...</td>\n",
       "      <td></td>\n",
       "      <td></td>\n",
       "      <td></td>\n",
       "      <td></td>\n",
       "      <td></td>\n",
       "      <td></td>\n",
       "      <td></td>\n",
       "      <td></td>\n",
       "      <td></td>\n",
       "      <td></td>\n",
       "    </tr>\n",
       "    <tr>\n",
       "      <td>2</td>\n",
       "      <td>4</td>\n",
       "      <td>Afghanistan</td>\n",
       "      <td>616</td>\n",
       "      <td>Y</td>\n",
       "      <td>Terrestrial and marine areas protected to tota...</td>\n",
       "      <td>0.36</td>\n",
       "      <td>NaN</td>\n",
       "      <td>C</td>\n",
       "      <td></td>\n",
       "      <td></td>\n",
       "      <td>...</td>\n",
       "      <td></td>\n",
       "      <td></td>\n",
       "      <td></td>\n",
       "      <td></td>\n",
       "      <td></td>\n",
       "      <td></td>\n",
       "      <td></td>\n",
       "      <td></td>\n",
       "      <td></td>\n",
       "      <td></td>\n",
       "    </tr>\n",
       "    <tr>\n",
       "      <td>3</td>\n",
       "      <td>8</td>\n",
       "      <td>Albania</td>\n",
       "      <td>567</td>\n",
       "      <td>Y</td>\n",
       "      <td>Proportion of land area covered by forest, per...</td>\n",
       "      <td>28.8</td>\n",
       "      <td>NaN</td>\n",
       "      <td>C</td>\n",
       "      <td></td>\n",
       "      <td></td>\n",
       "      <td>...</td>\n",
       "      <td></td>\n",
       "      <td></td>\n",
       "      <td></td>\n",
       "      <td></td>\n",
       "      <td></td>\n",
       "      <td></td>\n",
       "      <td></td>\n",
       "      <td></td>\n",
       "      <td></td>\n",
       "      <td></td>\n",
       "    </tr>\n",
       "    <tr>\n",
       "      <td>4</td>\n",
       "      <td>8</td>\n",
       "      <td>Albania</td>\n",
       "      <td>749</td>\n",
       "      <td>Y</td>\n",
       "      <td>Carbon dioxide emissions (CO2), thousand metri...</td>\n",
       "      <td>7488</td>\n",
       "      <td>NaN</td>\n",
       "      <td>G</td>\n",
       "      <td>3971.4</td>\n",
       "      <td>NaN</td>\n",
       "      <td>...</td>\n",
       "      <td></td>\n",
       "      <td></td>\n",
       "      <td></td>\n",
       "      <td></td>\n",
       "      <td></td>\n",
       "      <td></td>\n",
       "      <td></td>\n",
       "      <td></td>\n",
       "      <td></td>\n",
       "      <td></td>\n",
       "    </tr>\n",
       "  </tbody>\n",
       "</table>\n",
       "<p>5 rows × 95 columns</p>\n",
       "</div>"
      ],
      "text/plain": [
       "   CountryCode      Country  SeriesCode MDG  \\\n",
       "0            4  Afghanistan         567   Y   \n",
       "1            4  Afghanistan         749   Y   \n",
       "2            4  Afghanistan         616   Y   \n",
       "3            8      Albania         567   Y   \n",
       "4            8      Albania         749   Y   \n",
       "\n",
       "                                              Series    1990 Footnotes Type  \\\n",
       "0  Proportion of land area covered by forest, per...     2.1       NaN    E   \n",
       "1  Carbon dioxide emissions (CO2), thousand metri...  2676.9       NaN    G   \n",
       "2  Terrestrial and marine areas protected to tota...    0.36       NaN    C   \n",
       "3  Proportion of land area covered by forest, per...    28.8       NaN    C   \n",
       "4  Carbon dioxide emissions (CO2), thousand metri...    7488       NaN    G   \n",
       "\n",
       "     1991 Footnotes.1  ... Type.26 2017 Footnotes.27 Type.27 2018  \\\n",
       "0                      ...                                          \n",
       "1  2493.6         NaN  ...                                          \n",
       "2                      ...                                          \n",
       "3                      ...                                          \n",
       "4  3971.4         NaN  ...                                          \n",
       "\n",
       "  Footnotes.28 Type.28 2019 Footnotes.29 Type.29  \n",
       "0                                                 \n",
       "1                                                 \n",
       "2                                                 \n",
       "3                                                 \n",
       "4                                                 \n",
       "\n",
       "[5 rows x 95 columns]"
      ]
     },
     "execution_count": 2,
     "metadata": {},
     "output_type": "execute_result"
    }
   ],
   "source": [
    "mdg_data = pd.read_csv(\"Datasets/mdg.csv\")\n",
    "mdg_data.head()"
   ]
  },
  {
   "cell_type": "code",
   "execution_count": 3,
   "metadata": {},
   "outputs": [
    {
     "data": {
      "text/plain": [
       "(690, 95)"
      ]
     },
     "execution_count": 3,
     "metadata": {},
     "output_type": "execute_result"
    }
   ],
   "source": [
    "mdg_data.shape"
   ]
  },
  {
   "cell_type": "markdown",
   "metadata": {},
   "source": [
    " The Dataframe has 690 rows and 95 Columns"
   ]
  },
  {
   "cell_type": "markdown",
   "metadata": {},
   "source": [
    "#### Inspecting the data"
   ]
  },
  {
   "cell_type": "code",
   "execution_count": 4,
   "metadata": {},
   "outputs": [],
   "source": [
    "#filling the empty spaces with NAN\n",
    "mdg_data.replace(r'^\\s*$', np.nan, regex=True, inplace = True)"
   ]
  },
  {
   "cell_type": "markdown",
   "metadata": {},
   "source": [
    "###### checking and separating the dataset by series \n"
   ]
  },
  {
   "cell_type": "code",
   "execution_count": 5,
   "metadata": {},
   "outputs": [
    {
     "name": "stdout",
     "output_type": "stream",
     "text": [
      "number of countries = 230\n",
      "number of series =  3\n",
      "series list =  ['Proportion of land area covered by forest, percentage'\n",
      " 'Carbon dioxide emissions (CO2), thousand metric tons of CO2 (CDIAC)'\n",
      " 'Terrestrial and marine areas protected to total territorial area, percentage']\n"
     ]
    }
   ],
   "source": [
    "#number of countries represented\n",
    "country = mdg_data['Country'].nunique()\n",
    "print('number of countries =', country)\n",
    "\n",
    "#number of series\n",
    "series = mdg_data['Series'].nunique()\n",
    "print('number of series = ',series)\n",
    "\n",
    "series_list = mdg_data['Series'].unique()\n",
    "print('series list = ', series_list)"
   ]
  },
  {
   "cell_type": "code",
   "execution_count": 6,
   "metadata": {},
   "outputs": [
    {
     "data": {
      "text/plain": [
       "'Proportion of land dataframe'"
      ]
     },
     "metadata": {},
     "output_type": "display_data"
    },
    {
     "data": {
      "text/html": [
       "<div>\n",
       "<style scoped>\n",
       "    .dataframe tbody tr th:only-of-type {\n",
       "        vertical-align: middle;\n",
       "    }\n",
       "\n",
       "    .dataframe tbody tr th {\n",
       "        vertical-align: top;\n",
       "    }\n",
       "\n",
       "    .dataframe thead th {\n",
       "        text-align: right;\n",
       "    }\n",
       "</style>\n",
       "<table border=\"1\" class=\"dataframe\">\n",
       "  <thead>\n",
       "    <tr style=\"text-align: right;\">\n",
       "      <th></th>\n",
       "      <th>CountryCode</th>\n",
       "      <th>Country</th>\n",
       "      <th>SeriesCode</th>\n",
       "      <th>MDG</th>\n",
       "      <th>Series</th>\n",
       "      <th>1990</th>\n",
       "      <th>Footnotes</th>\n",
       "      <th>Type</th>\n",
       "      <th>1991</th>\n",
       "      <th>Footnotes.1</th>\n",
       "      <th>...</th>\n",
       "      <th>Type.26</th>\n",
       "      <th>2017</th>\n",
       "      <th>Footnotes.27</th>\n",
       "      <th>Type.27</th>\n",
       "      <th>2018</th>\n",
       "      <th>Footnotes.28</th>\n",
       "      <th>Type.28</th>\n",
       "      <th>2019</th>\n",
       "      <th>Footnotes.29</th>\n",
       "      <th>Type.29</th>\n",
       "    </tr>\n",
       "  </thead>\n",
       "  <tbody>\n",
       "    <tr>\n",
       "      <td>0</td>\n",
       "      <td>4</td>\n",
       "      <td>Afghanistan</td>\n",
       "      <td>567</td>\n",
       "      <td>Y</td>\n",
       "      <td>Proportion of land area covered by forest, per...</td>\n",
       "      <td>2.1</td>\n",
       "      <td>NaN</td>\n",
       "      <td>E</td>\n",
       "      <td>NaN</td>\n",
       "      <td>NaN</td>\n",
       "      <td>...</td>\n",
       "      <td>NaN</td>\n",
       "      <td>NaN</td>\n",
       "      <td>NaN</td>\n",
       "      <td>NaN</td>\n",
       "      <td>NaN</td>\n",
       "      <td>NaN</td>\n",
       "      <td>NaN</td>\n",
       "      <td>NaN</td>\n",
       "      <td>NaN</td>\n",
       "      <td>NaN</td>\n",
       "    </tr>\n",
       "    <tr>\n",
       "      <td>3</td>\n",
       "      <td>8</td>\n",
       "      <td>Albania</td>\n",
       "      <td>567</td>\n",
       "      <td>Y</td>\n",
       "      <td>Proportion of land area covered by forest, per...</td>\n",
       "      <td>28.8</td>\n",
       "      <td>NaN</td>\n",
       "      <td>C</td>\n",
       "      <td>NaN</td>\n",
       "      <td>NaN</td>\n",
       "      <td>...</td>\n",
       "      <td>NaN</td>\n",
       "      <td>NaN</td>\n",
       "      <td>NaN</td>\n",
       "      <td>NaN</td>\n",
       "      <td>NaN</td>\n",
       "      <td>NaN</td>\n",
       "      <td>NaN</td>\n",
       "      <td>NaN</td>\n",
       "      <td>NaN</td>\n",
       "      <td>NaN</td>\n",
       "    </tr>\n",
       "    <tr>\n",
       "      <td>6</td>\n",
       "      <td>12</td>\n",
       "      <td>Algeria</td>\n",
       "      <td>567</td>\n",
       "      <td>Y</td>\n",
       "      <td>Proportion of land area covered by forest, per...</td>\n",
       "      <td>0.7</td>\n",
       "      <td>NaN</td>\n",
       "      <td>C</td>\n",
       "      <td>NaN</td>\n",
       "      <td>NaN</td>\n",
       "      <td>...</td>\n",
       "      <td>NaN</td>\n",
       "      <td>NaN</td>\n",
       "      <td>NaN</td>\n",
       "      <td>NaN</td>\n",
       "      <td>NaN</td>\n",
       "      <td>NaN</td>\n",
       "      <td>NaN</td>\n",
       "      <td>NaN</td>\n",
       "      <td>NaN</td>\n",
       "      <td>NaN</td>\n",
       "    </tr>\n",
       "    <tr>\n",
       "      <td>9</td>\n",
       "      <td>16</td>\n",
       "      <td>American Samoa</td>\n",
       "      <td>567</td>\n",
       "      <td>Y</td>\n",
       "      <td>Proportion of land area covered by forest, per...</td>\n",
       "      <td>90</td>\n",
       "      <td>NaN</td>\n",
       "      <td>C</td>\n",
       "      <td>NaN</td>\n",
       "      <td>NaN</td>\n",
       "      <td>...</td>\n",
       "      <td>NaN</td>\n",
       "      <td>NaN</td>\n",
       "      <td>NaN</td>\n",
       "      <td>NaN</td>\n",
       "      <td>NaN</td>\n",
       "      <td>NaN</td>\n",
       "      <td>NaN</td>\n",
       "      <td>NaN</td>\n",
       "      <td>NaN</td>\n",
       "      <td>NaN</td>\n",
       "    </tr>\n",
       "    <tr>\n",
       "      <td>12</td>\n",
       "      <td>20</td>\n",
       "      <td>Andorra</td>\n",
       "      <td>567</td>\n",
       "      <td>Y</td>\n",
       "      <td>Proportion of land area covered by forest, per...</td>\n",
       "      <td>35.6</td>\n",
       "      <td>NaN</td>\n",
       "      <td>E</td>\n",
       "      <td>NaN</td>\n",
       "      <td>NaN</td>\n",
       "      <td>...</td>\n",
       "      <td>NaN</td>\n",
       "      <td>NaN</td>\n",
       "      <td>NaN</td>\n",
       "      <td>NaN</td>\n",
       "      <td>NaN</td>\n",
       "      <td>NaN</td>\n",
       "      <td>NaN</td>\n",
       "      <td>NaN</td>\n",
       "      <td>NaN</td>\n",
       "      <td>NaN</td>\n",
       "    </tr>\n",
       "  </tbody>\n",
       "</table>\n",
       "<p>5 rows × 95 columns</p>\n",
       "</div>"
      ],
      "text/plain": [
       "    CountryCode         Country  SeriesCode MDG  \\\n",
       "0             4     Afghanistan         567   Y   \n",
       "3             8         Albania         567   Y   \n",
       "6            12         Algeria         567   Y   \n",
       "9            16  American Samoa         567   Y   \n",
       "12           20         Andorra         567   Y   \n",
       "\n",
       "                                               Series  1990 Footnotes Type  \\\n",
       "0   Proportion of land area covered by forest, per...   2.1       NaN    E   \n",
       "3   Proportion of land area covered by forest, per...  28.8       NaN    C   \n",
       "6   Proportion of land area covered by forest, per...   0.7       NaN    C   \n",
       "9   Proportion of land area covered by forest, per...    90       NaN    C   \n",
       "12  Proportion of land area covered by forest, per...  35.6       NaN    E   \n",
       "\n",
       "   1991  Footnotes.1  ... Type.26 2017  Footnotes.27 Type.27 2018  \\\n",
       "0   NaN          NaN  ...     NaN  NaN           NaN     NaN  NaN   \n",
       "3   NaN          NaN  ...     NaN  NaN           NaN     NaN  NaN   \n",
       "6   NaN          NaN  ...     NaN  NaN           NaN     NaN  NaN   \n",
       "9   NaN          NaN  ...     NaN  NaN           NaN     NaN  NaN   \n",
       "12  NaN          NaN  ...     NaN  NaN           NaN     NaN  NaN   \n",
       "\n",
       "    Footnotes.28 Type.28 2019  Footnotes.29 Type.29  \n",
       "0            NaN     NaN  NaN           NaN     NaN  \n",
       "3            NaN     NaN  NaN           NaN     NaN  \n",
       "6            NaN     NaN  NaN           NaN     NaN  \n",
       "9            NaN     NaN  NaN           NaN     NaN  \n",
       "12           NaN     NaN  NaN           NaN     NaN  \n",
       "\n",
       "[5 rows x 95 columns]"
      ]
     },
     "metadata": {},
     "output_type": "display_data"
    },
    {
     "data": {
      "text/plain": [
       "'Terrestrial and marine DataFrame'"
      ]
     },
     "metadata": {},
     "output_type": "display_data"
    },
    {
     "data": {
      "text/html": [
       "<div>\n",
       "<style scoped>\n",
       "    .dataframe tbody tr th:only-of-type {\n",
       "        vertical-align: middle;\n",
       "    }\n",
       "\n",
       "    .dataframe tbody tr th {\n",
       "        vertical-align: top;\n",
       "    }\n",
       "\n",
       "    .dataframe thead th {\n",
       "        text-align: right;\n",
       "    }\n",
       "</style>\n",
       "<table border=\"1\" class=\"dataframe\">\n",
       "  <thead>\n",
       "    <tr style=\"text-align: right;\">\n",
       "      <th></th>\n",
       "      <th>CountryCode</th>\n",
       "      <th>Country</th>\n",
       "      <th>SeriesCode</th>\n",
       "      <th>MDG</th>\n",
       "      <th>Series</th>\n",
       "      <th>1990</th>\n",
       "      <th>Footnotes</th>\n",
       "      <th>Type</th>\n",
       "      <th>1991</th>\n",
       "      <th>Footnotes.1</th>\n",
       "      <th>...</th>\n",
       "      <th>Type.26</th>\n",
       "      <th>2017</th>\n",
       "      <th>Footnotes.27</th>\n",
       "      <th>Type.27</th>\n",
       "      <th>2018</th>\n",
       "      <th>Footnotes.28</th>\n",
       "      <th>Type.28</th>\n",
       "      <th>2019</th>\n",
       "      <th>Footnotes.29</th>\n",
       "      <th>Type.29</th>\n",
       "    </tr>\n",
       "  </thead>\n",
       "  <tbody>\n",
       "    <tr>\n",
       "      <td>2</td>\n",
       "      <td>4</td>\n",
       "      <td>Afghanistan</td>\n",
       "      <td>616</td>\n",
       "      <td>Y</td>\n",
       "      <td>Terrestrial and marine areas protected to tota...</td>\n",
       "      <td>0.36</td>\n",
       "      <td>NaN</td>\n",
       "      <td>C</td>\n",
       "      <td>NaN</td>\n",
       "      <td>NaN</td>\n",
       "      <td>...</td>\n",
       "      <td>NaN</td>\n",
       "      <td>NaN</td>\n",
       "      <td>NaN</td>\n",
       "      <td>NaN</td>\n",
       "      <td>NaN</td>\n",
       "      <td>NaN</td>\n",
       "      <td>NaN</td>\n",
       "      <td>NaN</td>\n",
       "      <td>NaN</td>\n",
       "      <td>NaN</td>\n",
       "    </tr>\n",
       "    <tr>\n",
       "      <td>5</td>\n",
       "      <td>8</td>\n",
       "      <td>Albania</td>\n",
       "      <td>616</td>\n",
       "      <td>Y</td>\n",
       "      <td>Terrestrial and marine areas protected to tota...</td>\n",
       "      <td>0.15</td>\n",
       "      <td>NaN</td>\n",
       "      <td>C</td>\n",
       "      <td>NaN</td>\n",
       "      <td>NaN</td>\n",
       "      <td>...</td>\n",
       "      <td>NaN</td>\n",
       "      <td>NaN</td>\n",
       "      <td>NaN</td>\n",
       "      <td>NaN</td>\n",
       "      <td>NaN</td>\n",
       "      <td>NaN</td>\n",
       "      <td>NaN</td>\n",
       "      <td>NaN</td>\n",
       "      <td>NaN</td>\n",
       "      <td>NaN</td>\n",
       "    </tr>\n",
       "    <tr>\n",
       "      <td>8</td>\n",
       "      <td>12</td>\n",
       "      <td>Algeria</td>\n",
       "      <td>616</td>\n",
       "      <td>Y</td>\n",
       "      <td>Terrestrial and marine areas protected to tota...</td>\n",
       "      <td>5.97</td>\n",
       "      <td>NaN</td>\n",
       "      <td>C</td>\n",
       "      <td>NaN</td>\n",
       "      <td>NaN</td>\n",
       "      <td>...</td>\n",
       "      <td>NaN</td>\n",
       "      <td>NaN</td>\n",
       "      <td>NaN</td>\n",
       "      <td>NaN</td>\n",
       "      <td>NaN</td>\n",
       "      <td>NaN</td>\n",
       "      <td>NaN</td>\n",
       "      <td>NaN</td>\n",
       "      <td>NaN</td>\n",
       "      <td>NaN</td>\n",
       "    </tr>\n",
       "    <tr>\n",
       "      <td>11</td>\n",
       "      <td>16</td>\n",
       "      <td>American Samoa</td>\n",
       "      <td>616</td>\n",
       "      <td>Y</td>\n",
       "      <td>Terrestrial and marine areas protected to tota...</td>\n",
       "      <td>0.06</td>\n",
       "      <td>NaN</td>\n",
       "      <td>C</td>\n",
       "      <td>NaN</td>\n",
       "      <td>NaN</td>\n",
       "      <td>...</td>\n",
       "      <td>NaN</td>\n",
       "      <td>NaN</td>\n",
       "      <td>NaN</td>\n",
       "      <td>NaN</td>\n",
       "      <td>NaN</td>\n",
       "      <td>NaN</td>\n",
       "      <td>NaN</td>\n",
       "      <td>NaN</td>\n",
       "      <td>NaN</td>\n",
       "      <td>NaN</td>\n",
       "    </tr>\n",
       "    <tr>\n",
       "      <td>14</td>\n",
       "      <td>20</td>\n",
       "      <td>Andorra</td>\n",
       "      <td>616</td>\n",
       "      <td>Y</td>\n",
       "      <td>Terrestrial and marine areas protected to tota...</td>\n",
       "      <td>5.53</td>\n",
       "      <td>NaN</td>\n",
       "      <td>C</td>\n",
       "      <td>NaN</td>\n",
       "      <td>NaN</td>\n",
       "      <td>...</td>\n",
       "      <td>NaN</td>\n",
       "      <td>NaN</td>\n",
       "      <td>NaN</td>\n",
       "      <td>NaN</td>\n",
       "      <td>NaN</td>\n",
       "      <td>NaN</td>\n",
       "      <td>NaN</td>\n",
       "      <td>NaN</td>\n",
       "      <td>NaN</td>\n",
       "      <td>NaN</td>\n",
       "    </tr>\n",
       "  </tbody>\n",
       "</table>\n",
       "<p>5 rows × 95 columns</p>\n",
       "</div>"
      ],
      "text/plain": [
       "    CountryCode         Country  SeriesCode MDG  \\\n",
       "2             4     Afghanistan         616   Y   \n",
       "5             8         Albania         616   Y   \n",
       "8            12         Algeria         616   Y   \n",
       "11           16  American Samoa         616   Y   \n",
       "14           20         Andorra         616   Y   \n",
       "\n",
       "                                               Series  1990 Footnotes Type  \\\n",
       "2   Terrestrial and marine areas protected to tota...  0.36       NaN    C   \n",
       "5   Terrestrial and marine areas protected to tota...  0.15       NaN    C   \n",
       "8   Terrestrial and marine areas protected to tota...  5.97       NaN    C   \n",
       "11  Terrestrial and marine areas protected to tota...  0.06       NaN    C   \n",
       "14  Terrestrial and marine areas protected to tota...  5.53       NaN    C   \n",
       "\n",
       "   1991  Footnotes.1  ... Type.26 2017  Footnotes.27 Type.27 2018  \\\n",
       "2   NaN          NaN  ...     NaN  NaN           NaN     NaN  NaN   \n",
       "5   NaN          NaN  ...     NaN  NaN           NaN     NaN  NaN   \n",
       "8   NaN          NaN  ...     NaN  NaN           NaN     NaN  NaN   \n",
       "11  NaN          NaN  ...     NaN  NaN           NaN     NaN  NaN   \n",
       "14  NaN          NaN  ...     NaN  NaN           NaN     NaN  NaN   \n",
       "\n",
       "    Footnotes.28 Type.28 2019  Footnotes.29 Type.29  \n",
       "2            NaN     NaN  NaN           NaN     NaN  \n",
       "5            NaN     NaN  NaN           NaN     NaN  \n",
       "8            NaN     NaN  NaN           NaN     NaN  \n",
       "11           NaN     NaN  NaN           NaN     NaN  \n",
       "14           NaN     NaN  NaN           NaN     NaN  \n",
       "\n",
       "[5 rows x 95 columns]"
      ]
     },
     "metadata": {},
     "output_type": "display_data"
    },
    {
     "data": {
      "text/plain": [
       "'Carbon Emission DataFrame'"
      ]
     },
     "metadata": {},
     "output_type": "display_data"
    },
    {
     "data": {
      "text/html": [
       "<div>\n",
       "<style scoped>\n",
       "    .dataframe tbody tr th:only-of-type {\n",
       "        vertical-align: middle;\n",
       "    }\n",
       "\n",
       "    .dataframe tbody tr th {\n",
       "        vertical-align: top;\n",
       "    }\n",
       "\n",
       "    .dataframe thead th {\n",
       "        text-align: right;\n",
       "    }\n",
       "</style>\n",
       "<table border=\"1\" class=\"dataframe\">\n",
       "  <thead>\n",
       "    <tr style=\"text-align: right;\">\n",
       "      <th></th>\n",
       "      <th>CountryCode</th>\n",
       "      <th>Country</th>\n",
       "      <th>SeriesCode</th>\n",
       "      <th>MDG</th>\n",
       "      <th>Series</th>\n",
       "      <th>1990</th>\n",
       "      <th>Footnotes</th>\n",
       "      <th>Type</th>\n",
       "      <th>1991</th>\n",
       "      <th>Footnotes.1</th>\n",
       "      <th>...</th>\n",
       "      <th>Type.26</th>\n",
       "      <th>2017</th>\n",
       "      <th>Footnotes.27</th>\n",
       "      <th>Type.27</th>\n",
       "      <th>2018</th>\n",
       "      <th>Footnotes.28</th>\n",
       "      <th>Type.28</th>\n",
       "      <th>2019</th>\n",
       "      <th>Footnotes.29</th>\n",
       "      <th>Type.29</th>\n",
       "    </tr>\n",
       "  </thead>\n",
       "  <tbody>\n",
       "    <tr>\n",
       "      <td>1</td>\n",
       "      <td>4</td>\n",
       "      <td>Afghanistan</td>\n",
       "      <td>749</td>\n",
       "      <td>Y</td>\n",
       "      <td>Carbon dioxide emissions (CO2), thousand metri...</td>\n",
       "      <td>2676.9</td>\n",
       "      <td>NaN</td>\n",
       "      <td>G</td>\n",
       "      <td>2493.6</td>\n",
       "      <td>NaN</td>\n",
       "      <td>...</td>\n",
       "      <td>NaN</td>\n",
       "      <td>NaN</td>\n",
       "      <td>NaN</td>\n",
       "      <td>NaN</td>\n",
       "      <td>NaN</td>\n",
       "      <td>NaN</td>\n",
       "      <td>NaN</td>\n",
       "      <td>NaN</td>\n",
       "      <td>NaN</td>\n",
       "      <td>NaN</td>\n",
       "    </tr>\n",
       "    <tr>\n",
       "      <td>4</td>\n",
       "      <td>8</td>\n",
       "      <td>Albania</td>\n",
       "      <td>749</td>\n",
       "      <td>Y</td>\n",
       "      <td>Carbon dioxide emissions (CO2), thousand metri...</td>\n",
       "      <td>7488</td>\n",
       "      <td>NaN</td>\n",
       "      <td>G</td>\n",
       "      <td>3971.4</td>\n",
       "      <td>NaN</td>\n",
       "      <td>...</td>\n",
       "      <td>NaN</td>\n",
       "      <td>NaN</td>\n",
       "      <td>NaN</td>\n",
       "      <td>NaN</td>\n",
       "      <td>NaN</td>\n",
       "      <td>NaN</td>\n",
       "      <td>NaN</td>\n",
       "      <td>NaN</td>\n",
       "      <td>NaN</td>\n",
       "      <td>NaN</td>\n",
       "    </tr>\n",
       "    <tr>\n",
       "      <td>7</td>\n",
       "      <td>12</td>\n",
       "      <td>Algeria</td>\n",
       "      <td>749</td>\n",
       "      <td>Y</td>\n",
       "      <td>Carbon dioxide emissions (CO2), thousand metri...</td>\n",
       "      <td>78924.8</td>\n",
       "      <td>NaN</td>\n",
       "      <td>G</td>\n",
       "      <td>81220.4</td>\n",
       "      <td>NaN</td>\n",
       "      <td>...</td>\n",
       "      <td>NaN</td>\n",
       "      <td>NaN</td>\n",
       "      <td>NaN</td>\n",
       "      <td>NaN</td>\n",
       "      <td>NaN</td>\n",
       "      <td>NaN</td>\n",
       "      <td>NaN</td>\n",
       "      <td>NaN</td>\n",
       "      <td>NaN</td>\n",
       "      <td>NaN</td>\n",
       "    </tr>\n",
       "    <tr>\n",
       "      <td>10</td>\n",
       "      <td>16</td>\n",
       "      <td>American Samoa</td>\n",
       "      <td>749</td>\n",
       "      <td>Y</td>\n",
       "      <td>Carbon dioxide emissions (CO2), thousand metri...</td>\n",
       "      <td>NaN</td>\n",
       "      <td>NaN</td>\n",
       "      <td>NaN</td>\n",
       "      <td>NaN</td>\n",
       "      <td>NaN</td>\n",
       "      <td>...</td>\n",
       "      <td>NaN</td>\n",
       "      <td>NaN</td>\n",
       "      <td>NaN</td>\n",
       "      <td>NaN</td>\n",
       "      <td>NaN</td>\n",
       "      <td>NaN</td>\n",
       "      <td>NaN</td>\n",
       "      <td>NaN</td>\n",
       "      <td>NaN</td>\n",
       "      <td>NaN</td>\n",
       "    </tr>\n",
       "    <tr>\n",
       "      <td>13</td>\n",
       "      <td>20</td>\n",
       "      <td>Andorra</td>\n",
       "      <td>749</td>\n",
       "      <td>Y</td>\n",
       "      <td>Carbon dioxide emissions (CO2), thousand metri...</td>\n",
       "      <td>NaN</td>\n",
       "      <td>NaN</td>\n",
       "      <td>NaN</td>\n",
       "      <td>NaN</td>\n",
       "      <td>NaN</td>\n",
       "      <td>...</td>\n",
       "      <td>NaN</td>\n",
       "      <td>NaN</td>\n",
       "      <td>NaN</td>\n",
       "      <td>NaN</td>\n",
       "      <td>NaN</td>\n",
       "      <td>NaN</td>\n",
       "      <td>NaN</td>\n",
       "      <td>NaN</td>\n",
       "      <td>NaN</td>\n",
       "      <td>NaN</td>\n",
       "    </tr>\n",
       "  </tbody>\n",
       "</table>\n",
       "<p>5 rows × 95 columns</p>\n",
       "</div>"
      ],
      "text/plain": [
       "    CountryCode         Country  SeriesCode MDG  \\\n",
       "1             4     Afghanistan         749   Y   \n",
       "4             8         Albania         749   Y   \n",
       "7            12         Algeria         749   Y   \n",
       "10           16  American Samoa         749   Y   \n",
       "13           20         Andorra         749   Y   \n",
       "\n",
       "                                               Series     1990 Footnotes Type  \\\n",
       "1   Carbon dioxide emissions (CO2), thousand metri...   2676.9       NaN    G   \n",
       "4   Carbon dioxide emissions (CO2), thousand metri...     7488       NaN    G   \n",
       "7   Carbon dioxide emissions (CO2), thousand metri...  78924.8       NaN    G   \n",
       "10  Carbon dioxide emissions (CO2), thousand metri...      NaN       NaN  NaN   \n",
       "13  Carbon dioxide emissions (CO2), thousand metri...      NaN       NaN  NaN   \n",
       "\n",
       "       1991  Footnotes.1  ... Type.26 2017  Footnotes.27 Type.27 2018  \\\n",
       "1    2493.6          NaN  ...     NaN  NaN           NaN     NaN  NaN   \n",
       "4    3971.4          NaN  ...     NaN  NaN           NaN     NaN  NaN   \n",
       "7   81220.4          NaN  ...     NaN  NaN           NaN     NaN  NaN   \n",
       "10      NaN          NaN  ...     NaN  NaN           NaN     NaN  NaN   \n",
       "13      NaN          NaN  ...     NaN  NaN           NaN     NaN  NaN   \n",
       "\n",
       "    Footnotes.28 Type.28 2019  Footnotes.29 Type.29  \n",
       "1            NaN     NaN  NaN           NaN     NaN  \n",
       "4            NaN     NaN  NaN           NaN     NaN  \n",
       "7            NaN     NaN  NaN           NaN     NaN  \n",
       "10           NaN     NaN  NaN           NaN     NaN  \n",
       "13           NaN     NaN  NaN           NaN     NaN  \n",
       "\n",
       "[5 rows x 95 columns]"
      ]
     },
     "metadata": {},
     "output_type": "display_data"
    }
   ],
   "source": [
    "#seperating datasets based on series  \n",
    "\n",
    "# Propotion of land area covered by forest DataFrame\n",
    "mdg_proportion_of_land = mdg_data[mdg_data['Series'] ==  \"Proportion of land area covered by forest, percentage\"]\n",
    "display('Proportion of land dataframe' ,mdg_proportion_of_land.head())\n",
    "\n",
    "# Terrestrial and marine areas protected to total territorial area DataFrame\n",
    "mdg_terrestrail = mdg_data[mdg_data['Series'] ==  'Terrestrial and marine areas protected to total territorial area, percentage']\n",
    "display('Terrestrial and marine DataFrame' ,mdg_terrestrail.head())\n",
    "\n",
    "# Carbon dioxide emissions (CO2) Dataframe\n",
    "mdg_carbon_emission = mdg_data[mdg_data['Series'] ==  'Carbon dioxide emissions (CO2), thousand metric tons of CO2 (CDIAC)']\n",
    "display('Carbon Emission DataFrame', mdg_carbon_emission.head())"
   ]
  },
  {
   "cell_type": "markdown",
   "metadata": {},
   "source": [
    "  "
   ]
  },
  {
   "cell_type": "markdown",
   "metadata": {},
   "source": [
    " "
   ]
  },
  {
   "cell_type": "markdown",
   "metadata": {},
   "source": [
    " #### MISSING VALUES AND EMPTY COLUMNS"
   ]
  },
  {
   "cell_type": "markdown",
   "metadata": {},
   "source": [
    "* **Propotion of land area covered by forest**"
   ]
  },
  {
   "cell_type": "code",
   "execution_count": 7,
   "metadata": {
    "scrolled": false
   },
   "outputs": [
    {
     "data": {
      "text/plain": [
       "'Proportion of Land  '"
      ]
     },
     "metadata": {},
     "output_type": "display_data"
    },
    {
     "data": {
      "text/html": [
       "<div>\n",
       "<style scoped>\n",
       "    .dataframe tbody tr th:only-of-type {\n",
       "        vertical-align: middle;\n",
       "    }\n",
       "\n",
       "    .dataframe tbody tr th {\n",
       "        vertical-align: top;\n",
       "    }\n",
       "\n",
       "    .dataframe thead th {\n",
       "        text-align: right;\n",
       "    }\n",
       "</style>\n",
       "<table border=\"1\" class=\"dataframe\">\n",
       "  <thead>\n",
       "    <tr style=\"text-align: right;\">\n",
       "      <th></th>\n",
       "      <th>CountryCode</th>\n",
       "      <th>Country</th>\n",
       "      <th>SeriesCode</th>\n",
       "      <th>MDG</th>\n",
       "      <th>Series</th>\n",
       "      <th>1990</th>\n",
       "      <th>Footnotes</th>\n",
       "      <th>Type</th>\n",
       "      <th>2000</th>\n",
       "      <th>Footnotes.10</th>\n",
       "      <th>Type.10</th>\n",
       "      <th>2005</th>\n",
       "      <th>Footnotes.15</th>\n",
       "      <th>Type.15</th>\n",
       "      <th>2010</th>\n",
       "      <th>Footnotes.20</th>\n",
       "      <th>Type.20</th>\n",
       "    </tr>\n",
       "  </thead>\n",
       "  <tbody>\n",
       "    <tr>\n",
       "      <td>0</td>\n",
       "      <td>4</td>\n",
       "      <td>Afghanistan</td>\n",
       "      <td>567</td>\n",
       "      <td>Y</td>\n",
       "      <td>Proportion of land area covered by forest, per...</td>\n",
       "      <td>2.1</td>\n",
       "      <td>NaN</td>\n",
       "      <td>E</td>\n",
       "      <td>2.1</td>\n",
       "      <td>NaN</td>\n",
       "      <td>E</td>\n",
       "      <td>2.1</td>\n",
       "      <td>NaN</td>\n",
       "      <td>E</td>\n",
       "      <td>2.1</td>\n",
       "      <td>NaN</td>\n",
       "      <td>E</td>\n",
       "    </tr>\n",
       "    <tr>\n",
       "      <td>3</td>\n",
       "      <td>8</td>\n",
       "      <td>Albania</td>\n",
       "      <td>567</td>\n",
       "      <td>Y</td>\n",
       "      <td>Proportion of land area covered by forest, per...</td>\n",
       "      <td>28.8</td>\n",
       "      <td>NaN</td>\n",
       "      <td>C</td>\n",
       "      <td>28.1</td>\n",
       "      <td>NaN</td>\n",
       "      <td>C</td>\n",
       "      <td>28.5</td>\n",
       "      <td>NaN</td>\n",
       "      <td>C</td>\n",
       "      <td>28.3</td>\n",
       "      <td>NaN</td>\n",
       "      <td>C</td>\n",
       "    </tr>\n",
       "    <tr>\n",
       "      <td>6</td>\n",
       "      <td>12</td>\n",
       "      <td>Algeria</td>\n",
       "      <td>567</td>\n",
       "      <td>Y</td>\n",
       "      <td>Proportion of land area covered by forest, per...</td>\n",
       "      <td>0.7</td>\n",
       "      <td>NaN</td>\n",
       "      <td>C</td>\n",
       "      <td>0.7</td>\n",
       "      <td>NaN</td>\n",
       "      <td>C</td>\n",
       "      <td>0.6</td>\n",
       "      <td>NaN</td>\n",
       "      <td>C</td>\n",
       "      <td>0.6</td>\n",
       "      <td>NaN</td>\n",
       "      <td>C</td>\n",
       "    </tr>\n",
       "    <tr>\n",
       "      <td>9</td>\n",
       "      <td>16</td>\n",
       "      <td>American Samoa</td>\n",
       "      <td>567</td>\n",
       "      <td>Y</td>\n",
       "      <td>Proportion of land area covered by forest, per...</td>\n",
       "      <td>90</td>\n",
       "      <td>NaN</td>\n",
       "      <td>C</td>\n",
       "      <td>90</td>\n",
       "      <td>NaN</td>\n",
       "      <td>C</td>\n",
       "      <td>90</td>\n",
       "      <td>NaN</td>\n",
       "      <td>C</td>\n",
       "      <td>90</td>\n",
       "      <td>NaN</td>\n",
       "      <td>C</td>\n",
       "    </tr>\n",
       "    <tr>\n",
       "      <td>12</td>\n",
       "      <td>20</td>\n",
       "      <td>Andorra</td>\n",
       "      <td>567</td>\n",
       "      <td>Y</td>\n",
       "      <td>Proportion of land area covered by forest, per...</td>\n",
       "      <td>35.6</td>\n",
       "      <td>NaN</td>\n",
       "      <td>E</td>\n",
       "      <td>35.6</td>\n",
       "      <td>NaN</td>\n",
       "      <td>E</td>\n",
       "      <td>35.6</td>\n",
       "      <td>NaN</td>\n",
       "      <td>E</td>\n",
       "      <td>35.6</td>\n",
       "      <td>NaN</td>\n",
       "      <td>E</td>\n",
       "    </tr>\n",
       "  </tbody>\n",
       "</table>\n",
       "</div>"
      ],
      "text/plain": [
       "    CountryCode         Country  SeriesCode MDG  \\\n",
       "0             4     Afghanistan         567   Y   \n",
       "3             8         Albania         567   Y   \n",
       "6            12         Algeria         567   Y   \n",
       "9            16  American Samoa         567   Y   \n",
       "12           20         Andorra         567   Y   \n",
       "\n",
       "                                               Series  1990 Footnotes Type  \\\n",
       "0   Proportion of land area covered by forest, per...   2.1       NaN    E   \n",
       "3   Proportion of land area covered by forest, per...  28.8       NaN    C   \n",
       "6   Proportion of land area covered by forest, per...   0.7       NaN    C   \n",
       "9   Proportion of land area covered by forest, per...    90       NaN    C   \n",
       "12  Proportion of land area covered by forest, per...  35.6       NaN    E   \n",
       "\n",
       "    2000 Footnotes.10 Type.10  2005 Footnotes.15 Type.15  2010 Footnotes.20  \\\n",
       "0    2.1          NaN       E   2.1          NaN       E   2.1          NaN   \n",
       "3   28.1          NaN       C  28.5          NaN       C  28.3          NaN   \n",
       "6    0.7          NaN       C   0.6          NaN       C   0.6          NaN   \n",
       "9     90          NaN       C    90          NaN       C    90          NaN   \n",
       "12  35.6          NaN       E  35.6          NaN       E  35.6          NaN   \n",
       "\n",
       "   Type.20  \n",
       "0        E  \n",
       "3        C  \n",
       "6        C  \n",
       "9        C  \n",
       "12       E  "
      ]
     },
     "metadata": {},
     "output_type": "display_data"
    }
   ],
   "source": [
    "mdg_proportion_of_land = mdg_proportion_of_land.dropna(how='all', axis='columns')\n",
    "display('Proportion of Land  ' , mdg_proportion_of_land.head())\n"
   ]
  },
  {
   "cell_type": "code",
   "execution_count": null,
   "metadata": {},
   "outputs": [],
   "source": []
  },
  {
   "cell_type": "code",
   "execution_count": null,
   "metadata": {},
   "outputs": [],
   "source": []
  },
  {
   "cell_type": "markdown",
   "metadata": {},
   "source": [
    " "
   ]
  },
  {
   "cell_type": "markdown",
   "metadata": {},
   "source": [
    " "
   ]
  },
  {
   "cell_type": "markdown",
   "metadata": {},
   "source": [
    "* **Terrestrial and marine areas protected to total territorial**"
   ]
  },
  {
   "cell_type": "code",
   "execution_count": 8,
   "metadata": {},
   "outputs": [
    {
     "data": {
      "text/plain": [
       "'Terrestrail and Marine'"
      ]
     },
     "metadata": {},
     "output_type": "display_data"
    },
    {
     "data": {
      "text/html": [
       "<div>\n",
       "<style scoped>\n",
       "    .dataframe tbody tr th:only-of-type {\n",
       "        vertical-align: middle;\n",
       "    }\n",
       "\n",
       "    .dataframe tbody tr th {\n",
       "        vertical-align: top;\n",
       "    }\n",
       "\n",
       "    .dataframe thead th {\n",
       "        text-align: right;\n",
       "    }\n",
       "</style>\n",
       "<table border=\"1\" class=\"dataframe\">\n",
       "  <thead>\n",
       "    <tr style=\"text-align: right;\">\n",
       "      <th></th>\n",
       "      <th>CountryCode</th>\n",
       "      <th>Country</th>\n",
       "      <th>SeriesCode</th>\n",
       "      <th>MDG</th>\n",
       "      <th>Series</th>\n",
       "      <th>1990</th>\n",
       "      <th>Type</th>\n",
       "      <th>2000</th>\n",
       "      <th>Type.10</th>\n",
       "      <th>2014</th>\n",
       "      <th>Type.24</th>\n",
       "    </tr>\n",
       "  </thead>\n",
       "  <tbody>\n",
       "    <tr>\n",
       "      <td>2</td>\n",
       "      <td>4</td>\n",
       "      <td>Afghanistan</td>\n",
       "      <td>616</td>\n",
       "      <td>Y</td>\n",
       "      <td>Terrestrial and marine areas protected to tota...</td>\n",
       "      <td>0.36</td>\n",
       "      <td>C</td>\n",
       "      <td>0.36</td>\n",
       "      <td>C</td>\n",
       "      <td>0.46</td>\n",
       "      <td>C</td>\n",
       "    </tr>\n",
       "    <tr>\n",
       "      <td>5</td>\n",
       "      <td>8</td>\n",
       "      <td>Albania</td>\n",
       "      <td>616</td>\n",
       "      <td>Y</td>\n",
       "      <td>Terrestrial and marine areas protected to tota...</td>\n",
       "      <td>0.15</td>\n",
       "      <td>C</td>\n",
       "      <td>0.48</td>\n",
       "      <td>C</td>\n",
       "      <td>1.91</td>\n",
       "      <td>C</td>\n",
       "    </tr>\n",
       "    <tr>\n",
       "      <td>8</td>\n",
       "      <td>12</td>\n",
       "      <td>Algeria</td>\n",
       "      <td>616</td>\n",
       "      <td>Y</td>\n",
       "      <td>Terrestrial and marine areas protected to tota...</td>\n",
       "      <td>5.97</td>\n",
       "      <td>C</td>\n",
       "      <td>5.98</td>\n",
       "      <td>C</td>\n",
       "      <td>7.46</td>\n",
       "      <td>C</td>\n",
       "    </tr>\n",
       "    <tr>\n",
       "      <td>11</td>\n",
       "      <td>16</td>\n",
       "      <td>American Samoa</td>\n",
       "      <td>616</td>\n",
       "      <td>Y</td>\n",
       "      <td>Terrestrial and marine areas protected to tota...</td>\n",
       "      <td>0.06</td>\n",
       "      <td>C</td>\n",
       "      <td>0.06</td>\n",
       "      <td>C</td>\n",
       "      <td>8.62</td>\n",
       "      <td>C</td>\n",
       "    </tr>\n",
       "    <tr>\n",
       "      <td>14</td>\n",
       "      <td>20</td>\n",
       "      <td>Andorra</td>\n",
       "      <td>616</td>\n",
       "      <td>Y</td>\n",
       "      <td>Terrestrial and marine areas protected to tota...</td>\n",
       "      <td>5.53</td>\n",
       "      <td>C</td>\n",
       "      <td>9.25</td>\n",
       "      <td>C</td>\n",
       "      <td>19.5</td>\n",
       "      <td>C</td>\n",
       "    </tr>\n",
       "  </tbody>\n",
       "</table>\n",
       "</div>"
      ],
      "text/plain": [
       "    CountryCode         Country  SeriesCode MDG  \\\n",
       "2             4     Afghanistan         616   Y   \n",
       "5             8         Albania         616   Y   \n",
       "8            12         Algeria         616   Y   \n",
       "11           16  American Samoa         616   Y   \n",
       "14           20         Andorra         616   Y   \n",
       "\n",
       "                                               Series  1990 Type  2000  \\\n",
       "2   Terrestrial and marine areas protected to tota...  0.36    C  0.36   \n",
       "5   Terrestrial and marine areas protected to tota...  0.15    C  0.48   \n",
       "8   Terrestrial and marine areas protected to tota...  5.97    C  5.98   \n",
       "11  Terrestrial and marine areas protected to tota...  0.06    C  0.06   \n",
       "14  Terrestrial and marine areas protected to tota...  5.53    C  9.25   \n",
       "\n",
       "   Type.10  2014 Type.24  \n",
       "2        C  0.46       C  \n",
       "5        C  1.91       C  \n",
       "8        C  7.46       C  \n",
       "11       C  8.62       C  \n",
       "14       C  19.5       C  "
      ]
     },
     "metadata": {},
     "output_type": "display_data"
    }
   ],
   "source": [
    "mdg_terrestrail = mdg_terrestrail.dropna(how='all', axis='columns')\n",
    "display('Terrestrail and Marine', mdg_terrestrail.head())\n",
    "\n"
   ]
  },
  {
   "cell_type": "markdown",
   "metadata": {},
   "source": [
    " "
   ]
  },
  {
   "cell_type": "markdown",
   "metadata": {},
   "source": [
    "* **Carbon Emission**"
   ]
  },
  {
   "cell_type": "code",
   "execution_count": 9,
   "metadata": {},
   "outputs": [
    {
     "data": {
      "text/plain": [
       "'Carbon Emission'"
      ]
     },
     "metadata": {},
     "output_type": "display_data"
    },
    {
     "data": {
      "text/html": [
       "<div>\n",
       "<style scoped>\n",
       "    .dataframe tbody tr th:only-of-type {\n",
       "        vertical-align: middle;\n",
       "    }\n",
       "\n",
       "    .dataframe tbody tr th {\n",
       "        vertical-align: top;\n",
       "    }\n",
       "\n",
       "    .dataframe thead th {\n",
       "        text-align: right;\n",
       "    }\n",
       "</style>\n",
       "<table border=\"1\" class=\"dataframe\">\n",
       "  <thead>\n",
       "    <tr style=\"text-align: right;\">\n",
       "      <th></th>\n",
       "      <th>CountryCode</th>\n",
       "      <th>Country</th>\n",
       "      <th>SeriesCode</th>\n",
       "      <th>MDG</th>\n",
       "      <th>Series</th>\n",
       "      <th>1990</th>\n",
       "      <th>Type</th>\n",
       "      <th>1991</th>\n",
       "      <th>Type.1</th>\n",
       "      <th>1992</th>\n",
       "      <th>...</th>\n",
       "      <th>2007</th>\n",
       "      <th>Type.17</th>\n",
       "      <th>2008</th>\n",
       "      <th>Type.18</th>\n",
       "      <th>2009</th>\n",
       "      <th>Type.19</th>\n",
       "      <th>2010</th>\n",
       "      <th>Type.20</th>\n",
       "      <th>2011</th>\n",
       "      <th>Type.21</th>\n",
       "    </tr>\n",
       "  </thead>\n",
       "  <tbody>\n",
       "    <tr>\n",
       "      <td>1</td>\n",
       "      <td>4</td>\n",
       "      <td>Afghanistan</td>\n",
       "      <td>749</td>\n",
       "      <td>Y</td>\n",
       "      <td>Carbon dioxide emissions (CO2), thousand metri...</td>\n",
       "      <td>2676.9</td>\n",
       "      <td>G</td>\n",
       "      <td>2493.6</td>\n",
       "      <td>G</td>\n",
       "      <td>1426.5</td>\n",
       "      <td>...</td>\n",
       "      <td>2280.9</td>\n",
       "      <td>G</td>\n",
       "      <td>4217.1</td>\n",
       "      <td>G</td>\n",
       "      <td>6776.6</td>\n",
       "      <td>G</td>\n",
       "      <td>8470.8</td>\n",
       "      <td>G</td>\n",
       "      <td>12251.4</td>\n",
       "      <td>G</td>\n",
       "    </tr>\n",
       "    <tr>\n",
       "      <td>4</td>\n",
       "      <td>8</td>\n",
       "      <td>Albania</td>\n",
       "      <td>749</td>\n",
       "      <td>Y</td>\n",
       "      <td>Carbon dioxide emissions (CO2), thousand metri...</td>\n",
       "      <td>7488</td>\n",
       "      <td>G</td>\n",
       "      <td>3971.4</td>\n",
       "      <td>G</td>\n",
       "      <td>2387.2</td>\n",
       "      <td>...</td>\n",
       "      <td>4477.4</td>\n",
       "      <td>G</td>\n",
       "      <td>4657.1</td>\n",
       "      <td>G</td>\n",
       "      <td>4488.4</td>\n",
       "      <td>G</td>\n",
       "      <td>4415.1</td>\n",
       "      <td>G</td>\n",
       "      <td>4668.1</td>\n",
       "      <td>G</td>\n",
       "    </tr>\n",
       "    <tr>\n",
       "      <td>7</td>\n",
       "      <td>12</td>\n",
       "      <td>Algeria</td>\n",
       "      <td>749</td>\n",
       "      <td>Y</td>\n",
       "      <td>Carbon dioxide emissions (CO2), thousand metri...</td>\n",
       "      <td>78924.8</td>\n",
       "      <td>G</td>\n",
       "      <td>81220.4</td>\n",
       "      <td>G</td>\n",
       "      <td>81935.4</td>\n",
       "      <td>...</td>\n",
       "      <td>109294.9</td>\n",
       "      <td>G</td>\n",
       "      <td>111575.8</td>\n",
       "      <td>G</td>\n",
       "      <td>121374</td>\n",
       "      <td>G</td>\n",
       "      <td>119276.5</td>\n",
       "      <td>G</td>\n",
       "      <td>121755.4</td>\n",
       "      <td>G</td>\n",
       "    </tr>\n",
       "    <tr>\n",
       "      <td>10</td>\n",
       "      <td>16</td>\n",
       "      <td>American Samoa</td>\n",
       "      <td>749</td>\n",
       "      <td>Y</td>\n",
       "      <td>Carbon dioxide emissions (CO2), thousand metri...</td>\n",
       "      <td>NaN</td>\n",
       "      <td>NaN</td>\n",
       "      <td>NaN</td>\n",
       "      <td>NaN</td>\n",
       "      <td>NaN</td>\n",
       "      <td>...</td>\n",
       "      <td>NaN</td>\n",
       "      <td>NaN</td>\n",
       "      <td>NaN</td>\n",
       "      <td>NaN</td>\n",
       "      <td>NaN</td>\n",
       "      <td>NaN</td>\n",
       "      <td>NaN</td>\n",
       "      <td>NaN</td>\n",
       "      <td>NaN</td>\n",
       "      <td>NaN</td>\n",
       "    </tr>\n",
       "    <tr>\n",
       "      <td>13</td>\n",
       "      <td>20</td>\n",
       "      <td>Andorra</td>\n",
       "      <td>749</td>\n",
       "      <td>Y</td>\n",
       "      <td>Carbon dioxide emissions (CO2), thousand metri...</td>\n",
       "      <td>NaN</td>\n",
       "      <td>NaN</td>\n",
       "      <td>NaN</td>\n",
       "      <td>NaN</td>\n",
       "      <td>NaN</td>\n",
       "      <td>...</td>\n",
       "      <td>539</td>\n",
       "      <td>G</td>\n",
       "      <td>539</td>\n",
       "      <td>G</td>\n",
       "      <td>517</td>\n",
       "      <td>G</td>\n",
       "      <td>517</td>\n",
       "      <td>G</td>\n",
       "      <td>491.4</td>\n",
       "      <td>G</td>\n",
       "    </tr>\n",
       "  </tbody>\n",
       "</table>\n",
       "<p>5 rows × 49 columns</p>\n",
       "</div>"
      ],
      "text/plain": [
       "    CountryCode         Country  SeriesCode MDG  \\\n",
       "1             4     Afghanistan         749   Y   \n",
       "4             8         Albania         749   Y   \n",
       "7            12         Algeria         749   Y   \n",
       "10           16  American Samoa         749   Y   \n",
       "13           20         Andorra         749   Y   \n",
       "\n",
       "                                               Series     1990 Type     1991  \\\n",
       "1   Carbon dioxide emissions (CO2), thousand metri...   2676.9    G   2493.6   \n",
       "4   Carbon dioxide emissions (CO2), thousand metri...     7488    G   3971.4   \n",
       "7   Carbon dioxide emissions (CO2), thousand metri...  78924.8    G  81220.4   \n",
       "10  Carbon dioxide emissions (CO2), thousand metri...      NaN  NaN      NaN   \n",
       "13  Carbon dioxide emissions (CO2), thousand metri...      NaN  NaN      NaN   \n",
       "\n",
       "   Type.1     1992  ...      2007 Type.17      2008 Type.18    2009 Type.19  \\\n",
       "1       G   1426.5  ...    2280.9       G    4217.1       G  6776.6       G   \n",
       "4       G   2387.2  ...    4477.4       G    4657.1       G  4488.4       G   \n",
       "7       G  81935.4  ...  109294.9       G  111575.8       G  121374       G   \n",
       "10    NaN      NaN  ...       NaN     NaN       NaN     NaN     NaN     NaN   \n",
       "13    NaN      NaN  ...       539       G       539       G     517       G   \n",
       "\n",
       "        2010 Type.20      2011 Type.21  \n",
       "1     8470.8       G   12251.4       G  \n",
       "4     4415.1       G    4668.1       G  \n",
       "7   119276.5       G  121755.4       G  \n",
       "10       NaN     NaN       NaN     NaN  \n",
       "13       517       G     491.4       G  \n",
       "\n",
       "[5 rows x 49 columns]"
      ]
     },
     "metadata": {},
     "output_type": "display_data"
    }
   ],
   "source": [
    "mdg_carbon_emission = mdg_carbon_emission.dropna(how='all', axis='columns')\n",
    "display('Carbon Emission', mdg_carbon_emission.head())"
   ]
  },
  {
   "cell_type": "markdown",
   "metadata": {},
   "source": [
    " "
   ]
  },
  {
   "cell_type": "markdown",
   "metadata": {},
   "source": [
    " "
   ]
  },
  {
   "cell_type": "markdown",
   "metadata": {},
   "source": [
    "  "
   ]
  },
  {
   "cell_type": "markdown",
   "metadata": {},
   "source": [
    "#### DROPPING UNNECESARY COLUMNS"
   ]
  },
  {
   "cell_type": "markdown",
   "metadata": {},
   "source": [
    "* In **propotion of Land covered by forest**, the following columns will remain : **Country, 1990, 2000, 2005, 2010**\n",
    "\n",
    "* In **Terrestrail and Marine**, the following columns will remain: **Country, 1990, 2000, 2014**\n",
    "\n",
    "* In **Carbon emission**, the following columns will remain: **Country, 1990, 1991, 1992, 1993, 1994, 1995, 1996, 1997, 1998, 1999, 2000, 2001, 2002, 2003, 2004, 2005, 2006, 2007, 2008, 2009, 2010, 2011**"
   ]
  },
  {
   "cell_type": "markdown",
   "metadata": {},
   "source": [
    "* **Propotion of Land covered by forest**"
   ]
  },
  {
   "cell_type": "code",
   "execution_count": 10,
   "metadata": {},
   "outputs": [
    {
     "data": {
      "text/html": [
       "<div>\n",
       "<style scoped>\n",
       "    .dataframe tbody tr th:only-of-type {\n",
       "        vertical-align: middle;\n",
       "    }\n",
       "\n",
       "    .dataframe tbody tr th {\n",
       "        vertical-align: top;\n",
       "    }\n",
       "\n",
       "    .dataframe thead th {\n",
       "        text-align: right;\n",
       "    }\n",
       "</style>\n",
       "<table border=\"1\" class=\"dataframe\">\n",
       "  <thead>\n",
       "    <tr style=\"text-align: right;\">\n",
       "      <th></th>\n",
       "      <th>Country</th>\n",
       "      <th>1990</th>\n",
       "      <th>2000</th>\n",
       "      <th>2010</th>\n",
       "    </tr>\n",
       "  </thead>\n",
       "  <tbody>\n",
       "    <tr>\n",
       "      <td>0</td>\n",
       "      <td>Afghanistan</td>\n",
       "      <td>2.1</td>\n",
       "      <td>2.1</td>\n",
       "      <td>2.1</td>\n",
       "    </tr>\n",
       "    <tr>\n",
       "      <td>3</td>\n",
       "      <td>Albania</td>\n",
       "      <td>28.8</td>\n",
       "      <td>28.1</td>\n",
       "      <td>28.3</td>\n",
       "    </tr>\n",
       "    <tr>\n",
       "      <td>6</td>\n",
       "      <td>Algeria</td>\n",
       "      <td>0.7</td>\n",
       "      <td>0.7</td>\n",
       "      <td>0.6</td>\n",
       "    </tr>\n",
       "    <tr>\n",
       "      <td>9</td>\n",
       "      <td>American Samoa</td>\n",
       "      <td>90</td>\n",
       "      <td>90</td>\n",
       "      <td>90</td>\n",
       "    </tr>\n",
       "    <tr>\n",
       "      <td>12</td>\n",
       "      <td>Andorra</td>\n",
       "      <td>35.6</td>\n",
       "      <td>35.6</td>\n",
       "      <td>35.6</td>\n",
       "    </tr>\n",
       "  </tbody>\n",
       "</table>\n",
       "</div>"
      ],
      "text/plain": [
       "           Country  1990  2000  2010\n",
       "0      Afghanistan   2.1   2.1   2.1\n",
       "3          Albania  28.8  28.1  28.3\n",
       "6          Algeria   0.7   0.7   0.6\n",
       "9   American Samoa    90    90    90\n",
       "12         Andorra  35.6  35.6  35.6"
      ]
     },
     "execution_count": 10,
     "metadata": {},
     "output_type": "execute_result"
    }
   ],
   "source": [
    "new_mdg_proportion_of_land = mdg_proportion_of_land.loc[:,('Country','1990', '2000', '2010')]\n",
    "new_mdg_proportion_of_land.head()"
   ]
  },
  {
   "cell_type": "markdown",
   "metadata": {},
   "source": [
    " "
   ]
  },
  {
   "cell_type": "markdown",
   "metadata": {},
   "source": [
    "* **Terrestrial and marine areas protected to total territorial area**"
   ]
  },
  {
   "cell_type": "code",
   "execution_count": 11,
   "metadata": {},
   "outputs": [
    {
     "data": {
      "text/html": [
       "<div>\n",
       "<style scoped>\n",
       "    .dataframe tbody tr th:only-of-type {\n",
       "        vertical-align: middle;\n",
       "    }\n",
       "\n",
       "    .dataframe tbody tr th {\n",
       "        vertical-align: top;\n",
       "    }\n",
       "\n",
       "    .dataframe thead th {\n",
       "        text-align: right;\n",
       "    }\n",
       "</style>\n",
       "<table border=\"1\" class=\"dataframe\">\n",
       "  <thead>\n",
       "    <tr style=\"text-align: right;\">\n",
       "      <th></th>\n",
       "      <th>Country</th>\n",
       "      <th>1990</th>\n",
       "      <th>2000</th>\n",
       "      <th>2014</th>\n",
       "    </tr>\n",
       "  </thead>\n",
       "  <tbody>\n",
       "    <tr>\n",
       "      <td>2</td>\n",
       "      <td>Afghanistan</td>\n",
       "      <td>0.36</td>\n",
       "      <td>0.36</td>\n",
       "      <td>0.46</td>\n",
       "    </tr>\n",
       "    <tr>\n",
       "      <td>5</td>\n",
       "      <td>Albania</td>\n",
       "      <td>0.15</td>\n",
       "      <td>0.48</td>\n",
       "      <td>1.91</td>\n",
       "    </tr>\n",
       "    <tr>\n",
       "      <td>8</td>\n",
       "      <td>Algeria</td>\n",
       "      <td>5.97</td>\n",
       "      <td>5.98</td>\n",
       "      <td>7.46</td>\n",
       "    </tr>\n",
       "    <tr>\n",
       "      <td>11</td>\n",
       "      <td>American Samoa</td>\n",
       "      <td>0.06</td>\n",
       "      <td>0.06</td>\n",
       "      <td>8.62</td>\n",
       "    </tr>\n",
       "    <tr>\n",
       "      <td>14</td>\n",
       "      <td>Andorra</td>\n",
       "      <td>5.53</td>\n",
       "      <td>9.25</td>\n",
       "      <td>19.5</td>\n",
       "    </tr>\n",
       "  </tbody>\n",
       "</table>\n",
       "</div>"
      ],
      "text/plain": [
       "           Country  1990  2000  2014\n",
       "2      Afghanistan  0.36  0.36  0.46\n",
       "5          Albania  0.15  0.48  1.91\n",
       "8          Algeria  5.97  5.98  7.46\n",
       "11  American Samoa  0.06  0.06  8.62\n",
       "14         Andorra  5.53  9.25  19.5"
      ]
     },
     "execution_count": 11,
     "metadata": {},
     "output_type": "execute_result"
    }
   ],
   "source": [
    "new_mdg_terrestrail = mdg_terrestrail.loc[:,('Country','1990', '2000', '2014')]\n",
    "new_mdg_terrestrail.head()"
   ]
  },
  {
   "cell_type": "markdown",
   "metadata": {},
   "source": [
    " "
   ]
  },
  {
   "cell_type": "markdown",
   "metadata": {},
   "source": [
    " "
   ]
  },
  {
   "cell_type": "markdown",
   "metadata": {},
   "source": [
    "* **Carbon dioxide emissions (CO2)**"
   ]
  },
  {
   "cell_type": "code",
   "execution_count": 12,
   "metadata": {},
   "outputs": [
    {
     "data": {
      "text/html": [
       "<div>\n",
       "<style scoped>\n",
       "    .dataframe tbody tr th:only-of-type {\n",
       "        vertical-align: middle;\n",
       "    }\n",
       "\n",
       "    .dataframe tbody tr th {\n",
       "        vertical-align: top;\n",
       "    }\n",
       "\n",
       "    .dataframe thead th {\n",
       "        text-align: right;\n",
       "    }\n",
       "</style>\n",
       "<table border=\"1\" class=\"dataframe\">\n",
       "  <thead>\n",
       "    <tr style=\"text-align: right;\">\n",
       "      <th></th>\n",
       "      <th>Country</th>\n",
       "      <th>1990</th>\n",
       "      <th>1991</th>\n",
       "      <th>1992</th>\n",
       "      <th>1993</th>\n",
       "      <th>1994</th>\n",
       "      <th>1995</th>\n",
       "      <th>1996</th>\n",
       "      <th>1997</th>\n",
       "      <th>1998</th>\n",
       "      <th>...</th>\n",
       "      <th>2002</th>\n",
       "      <th>2003</th>\n",
       "      <th>2004</th>\n",
       "      <th>2005</th>\n",
       "      <th>2006</th>\n",
       "      <th>2007</th>\n",
       "      <th>2008</th>\n",
       "      <th>2009</th>\n",
       "      <th>2010</th>\n",
       "      <th>2011</th>\n",
       "    </tr>\n",
       "  </thead>\n",
       "  <tbody>\n",
       "    <tr>\n",
       "      <td>1</td>\n",
       "      <td>Afghanistan</td>\n",
       "      <td>2676.9</td>\n",
       "      <td>2493.6</td>\n",
       "      <td>1426.5</td>\n",
       "      <td>1375.1</td>\n",
       "      <td>1320.1</td>\n",
       "      <td>1268.8</td>\n",
       "      <td>1199.1</td>\n",
       "      <td>1114.8</td>\n",
       "      <td>1056.1</td>\n",
       "      <td>...</td>\n",
       "      <td>894.7</td>\n",
       "      <td>1037.8</td>\n",
       "      <td>957.1</td>\n",
       "      <td>1338.5</td>\n",
       "      <td>1657.5</td>\n",
       "      <td>2280.9</td>\n",
       "      <td>4217.1</td>\n",
       "      <td>6776.6</td>\n",
       "      <td>8470.8</td>\n",
       "      <td>12251.4</td>\n",
       "    </tr>\n",
       "    <tr>\n",
       "      <td>4</td>\n",
       "      <td>Albania</td>\n",
       "      <td>7488</td>\n",
       "      <td>3971.4</td>\n",
       "      <td>2387.2</td>\n",
       "      <td>2343.2</td>\n",
       "      <td>1928.8</td>\n",
       "      <td>2086.5</td>\n",
       "      <td>2016.9</td>\n",
       "      <td>1543.8</td>\n",
       "      <td>1752.8</td>\n",
       "      <td>...</td>\n",
       "      <td>3751.3</td>\n",
       "      <td>4294.1</td>\n",
       "      <td>4165.7</td>\n",
       "      <td>4253.7</td>\n",
       "      <td>3865</td>\n",
       "      <td>4477.4</td>\n",
       "      <td>4657.1</td>\n",
       "      <td>4488.4</td>\n",
       "      <td>4415.1</td>\n",
       "      <td>4668.1</td>\n",
       "    </tr>\n",
       "    <tr>\n",
       "      <td>7</td>\n",
       "      <td>Algeria</td>\n",
       "      <td>78924.8</td>\n",
       "      <td>81220.4</td>\n",
       "      <td>81935.4</td>\n",
       "      <td>82294.8</td>\n",
       "      <td>86500.9</td>\n",
       "      <td>95345.7</td>\n",
       "      <td>97131.5</td>\n",
       "      <td>88195</td>\n",
       "      <td>107080.1</td>\n",
       "      <td>...</td>\n",
       "      <td>90853.6</td>\n",
       "      <td>92533.1</td>\n",
       "      <td>89493.1</td>\n",
       "      <td>107127.7</td>\n",
       "      <td>100919.5</td>\n",
       "      <td>109294.9</td>\n",
       "      <td>111575.8</td>\n",
       "      <td>121374</td>\n",
       "      <td>119276.5</td>\n",
       "      <td>121755.4</td>\n",
       "    </tr>\n",
       "    <tr>\n",
       "      <td>10</td>\n",
       "      <td>American Samoa</td>\n",
       "      <td>NaN</td>\n",
       "      <td>NaN</td>\n",
       "      <td>NaN</td>\n",
       "      <td>NaN</td>\n",
       "      <td>NaN</td>\n",
       "      <td>NaN</td>\n",
       "      <td>NaN</td>\n",
       "      <td>NaN</td>\n",
       "      <td>NaN</td>\n",
       "      <td>...</td>\n",
       "      <td>NaN</td>\n",
       "      <td>NaN</td>\n",
       "      <td>NaN</td>\n",
       "      <td>NaN</td>\n",
       "      <td>NaN</td>\n",
       "      <td>NaN</td>\n",
       "      <td>NaN</td>\n",
       "      <td>NaN</td>\n",
       "      <td>NaN</td>\n",
       "      <td>NaN</td>\n",
       "    </tr>\n",
       "    <tr>\n",
       "      <td>13</td>\n",
       "      <td>Andorra</td>\n",
       "      <td>NaN</td>\n",
       "      <td>NaN</td>\n",
       "      <td>NaN</td>\n",
       "      <td>NaN</td>\n",
       "      <td>NaN</td>\n",
       "      <td>407</td>\n",
       "      <td>425.4</td>\n",
       "      <td>458.4</td>\n",
       "      <td>484</td>\n",
       "      <td>...</td>\n",
       "      <td>531.7</td>\n",
       "      <td>535.4</td>\n",
       "      <td>564.7</td>\n",
       "      <td>575.7</td>\n",
       "      <td>546.4</td>\n",
       "      <td>539</td>\n",
       "      <td>539</td>\n",
       "      <td>517</td>\n",
       "      <td>517</td>\n",
       "      <td>491.4</td>\n",
       "    </tr>\n",
       "  </tbody>\n",
       "</table>\n",
       "<p>5 rows × 23 columns</p>\n",
       "</div>"
      ],
      "text/plain": [
       "           Country     1990     1991     1992     1993     1994     1995  \\\n",
       "1      Afghanistan   2676.9   2493.6   1426.5   1375.1   1320.1   1268.8   \n",
       "4          Albania     7488   3971.4   2387.2   2343.2   1928.8   2086.5   \n",
       "7          Algeria  78924.8  81220.4  81935.4  82294.8  86500.9  95345.7   \n",
       "10  American Samoa      NaN      NaN      NaN      NaN      NaN      NaN   \n",
       "13         Andorra      NaN      NaN      NaN      NaN      NaN      407   \n",
       "\n",
       "       1996    1997      1998  ...     2002     2003     2004      2005  \\\n",
       "1    1199.1  1114.8    1056.1  ...    894.7   1037.8    957.1    1338.5   \n",
       "4    2016.9  1543.8    1752.8  ...   3751.3   4294.1   4165.7    4253.7   \n",
       "7   97131.5   88195  107080.1  ...  90853.6  92533.1  89493.1  107127.7   \n",
       "10      NaN     NaN       NaN  ...      NaN      NaN      NaN       NaN   \n",
       "13    425.4   458.4       484  ...    531.7    535.4    564.7     575.7   \n",
       "\n",
       "        2006      2007      2008    2009      2010      2011  \n",
       "1     1657.5    2280.9    4217.1  6776.6    8470.8   12251.4  \n",
       "4       3865    4477.4    4657.1  4488.4    4415.1    4668.1  \n",
       "7   100919.5  109294.9  111575.8  121374  119276.5  121755.4  \n",
       "10       NaN       NaN       NaN     NaN       NaN       NaN  \n",
       "13     546.4       539       539     517       517     491.4  \n",
       "\n",
       "[5 rows x 23 columns]"
      ]
     },
     "execution_count": 12,
     "metadata": {},
     "output_type": "execute_result"
    }
   ],
   "source": [
    "new_mdg_carbon_emission  = mdg_carbon_emission.loc[:,('Country', '1990','1991','1992','1993','1994','1995','1996','1997','1998','1999','2000','2001','2002','2003','2004','2005','2006','2007','2008','2009','2010','2011')]\n",
    "new_mdg_carbon_emission.head()"
   ]
  },
  {
   "cell_type": "markdown",
   "metadata": {},
   "source": [
    " "
   ]
  },
  {
   "cell_type": "markdown",
   "metadata": {},
   "source": [
    " "
   ]
  },
  {
   "cell_type": "markdown",
   "metadata": {},
   "source": [
    "#### Top 15 Missing values by country in descending order"
   ]
  },
  {
   "cell_type": "code",
   "execution_count": 13,
   "metadata": {},
   "outputs": [
    {
     "data": {
      "text/plain": [
       "Country\n",
       "China, Macao Special Administrative Region        3\n",
       "Sudan                                             3\n",
       "Monaco                                            3\n",
       "Serbia and Montenegro                             3\n",
       "South Sudan                                       3\n",
       "China, Hong Kong Special Administrative Region    3\n",
       "Yugoslavia [former Socialist Federal Republic]    3\n",
       "Ghana                                             0\n",
       "Germany                                           0\n",
       "France                                            0\n",
       "Gambia                                            0\n",
       "Gibraltar                                         0\n",
       "Gabon                                             0\n",
       "Greece                                            0\n",
       "French Polynesia                                  0\n",
       "dtype: int64"
      ]
     },
     "metadata": {},
     "output_type": "display_data"
    }
   ],
   "source": [
    "#propotion of land area covered by forest\n",
    "display(new_mdg_proportion_of_land.groupby('Country').apply(lambda x: x.isnull().sum().sum()).sort_values(ascending=False).head(15))"
   ]
  },
  {
   "cell_type": "code",
   "execution_count": 14,
   "metadata": {},
   "outputs": [
    {
     "data": {
      "text/plain": [
       "Country\n",
       "Saint Helena                                      3\n",
       "Yugoslavia [former Socialist Federal Republic]    3\n",
       "Gibraltar                                         3\n",
       "Wallis and Futuna Islands                         3\n",
       "Saint Pierre and Miquelon                         3\n",
       "Sudan (former)                                    3\n",
       "Serbia and Montenegro                             3\n",
       "Gabon                                             0\n",
       "France                                            0\n",
       "French Guiana                                     0\n",
       "French Polynesia                                  0\n",
       "Germany                                           0\n",
       "Gambia                                            0\n",
       "Georgia                                           0\n",
       "Fiji                                              0\n",
       "dtype: int64"
      ]
     },
     "metadata": {},
     "output_type": "display_data"
    }
   ],
   "source": [
    "# Area covered by terrestrail and marine\n",
    "display(new_mdg_terrestrail.groupby('Country').apply(lambda x: x.isnull().sum().sum()).sort_values(ascending=False).head(15))"
   ]
  },
  {
   "cell_type": "code",
   "execution_count": 15,
   "metadata": {},
   "outputs": [
    {
     "data": {
      "text/plain": [
       "Country\n",
       "Sudan                                             22\n",
       "Guam                                              22\n",
       "Mayotte                                           22\n",
       "Tuvalu                                            22\n",
       "Monaco                                            22\n",
       "Puerto Rico                                       22\n",
       "Tokelau                                           22\n",
       "United States Virgin Islands                      22\n",
       "South Sudan                                       22\n",
       "San Marino                                        22\n",
       "American Samoa                                    22\n",
       "Northern Mariana Islands                          22\n",
       "Western Sahara                                    22\n",
       "Yugoslavia [former Socialist Federal Republic]    20\n",
       "Liechtenstein                                     17\n",
       "dtype: int64"
      ]
     },
     "metadata": {},
     "output_type": "display_data"
    }
   ],
   "source": [
    "# Carbon emission\n",
    "display(new_mdg_carbon_emission.groupby('Country').apply(lambda x: x.isnull().sum().sum()).sort_values(ascending=False).head(15))"
   ]
  },
  {
   "cell_type": "markdown",
   "metadata": {},
   "source": [
    " "
   ]
  },
  {
   "cell_type": "markdown",
   "metadata": {},
   "source": [
    " "
   ]
  },
  {
   "cell_type": "markdown",
   "metadata": {},
   "source": [
    "* **Dropping countries with all null values and fill remain rows with null with mean** "
   ]
  },
  {
   "cell_type": "markdown",
   "metadata": {},
   "source": [
    "#### * PROPOTION OF LAND COVERED BY FOREST"
   ]
  },
  {
   "cell_type": "code",
   "execution_count": 16,
   "metadata": {},
   "outputs": [
    {
     "data": {
      "text/html": [
       "<div>\n",
       "<style scoped>\n",
       "    .dataframe tbody tr th:only-of-type {\n",
       "        vertical-align: middle;\n",
       "    }\n",
       "\n",
       "    .dataframe tbody tr th {\n",
       "        vertical-align: top;\n",
       "    }\n",
       "\n",
       "    .dataframe thead th {\n",
       "        text-align: right;\n",
       "    }\n",
       "</style>\n",
       "<table border=\"1\" class=\"dataframe\">\n",
       "  <thead>\n",
       "    <tr style=\"text-align: right;\">\n",
       "      <th></th>\n",
       "      <th>Country</th>\n",
       "      <th>1990</th>\n",
       "      <th>2000</th>\n",
       "      <th>2010</th>\n",
       "    </tr>\n",
       "  </thead>\n",
       "  <tbody>\n",
       "    <tr>\n",
       "      <td>0</td>\n",
       "      <td>Afghanistan</td>\n",
       "      <td>2.1</td>\n",
       "      <td>2.1</td>\n",
       "      <td>2.1</td>\n",
       "    </tr>\n",
       "    <tr>\n",
       "      <td>3</td>\n",
       "      <td>Albania</td>\n",
       "      <td>28.8</td>\n",
       "      <td>28.1</td>\n",
       "      <td>28.3</td>\n",
       "    </tr>\n",
       "    <tr>\n",
       "      <td>6</td>\n",
       "      <td>Algeria</td>\n",
       "      <td>0.7</td>\n",
       "      <td>0.7</td>\n",
       "      <td>0.6</td>\n",
       "    </tr>\n",
       "    <tr>\n",
       "      <td>9</td>\n",
       "      <td>American Samoa</td>\n",
       "      <td>90.0</td>\n",
       "      <td>90.0</td>\n",
       "      <td>90.0</td>\n",
       "    </tr>\n",
       "    <tr>\n",
       "      <td>12</td>\n",
       "      <td>Andorra</td>\n",
       "      <td>35.6</td>\n",
       "      <td>35.6</td>\n",
       "      <td>35.6</td>\n",
       "    </tr>\n",
       "  </tbody>\n",
       "</table>\n",
       "</div>"
      ],
      "text/plain": [
       "           Country  1990  2000  2010\n",
       "0      Afghanistan   2.1   2.1   2.1\n",
       "3          Albania  28.8  28.1  28.3\n",
       "6          Algeria   0.7   0.7   0.6\n",
       "9   American Samoa  90.0  90.0  90.0\n",
       "12         Andorra  35.6  35.6  35.6"
      ]
     },
     "execution_count": 16,
     "metadata": {},
     "output_type": "execute_result"
    }
   ],
   "source": [
    "#removing projects that have rows with all null or missing values\n",
    "new_mdg_proportion_of_land = new_mdg_proportion_of_land[new_mdg_proportion_of_land.isnull().sum(axis=1) != 3]\n",
    "\n",
    "#filling null values with mean\n",
    "cols = new_mdg_proportion_of_land.columns.drop('Country')\n",
    "new_mdg_proportion_of_land[cols] = new_mdg_proportion_of_land[cols].apply(pd.to_numeric, errors='coerce')\n",
    "\n",
    "#function to replace NaN with row average\n",
    "m = new_mdg_proportion_of_land.mean(axis=1)\n",
    "for i, col in enumerate(new_mdg_proportion_of_land):\n",
    "             # using i allows for duplicate columns\n",
    "             # inplace *may* not always work here, so IMO the next line is preferred\n",
    "             # df.iloc[:, i].fillna(m, inplace=True)\n",
    "    new_mdg_proportion_of_land.iloc[:, i] = new_mdg_proportion_of_land.iloc[:, i].fillna(m)\n",
    "\n",
    "new_mdg_proportion_of_land.head()"
   ]
  },
  {
   "cell_type": "markdown",
   "metadata": {},
   "source": [
    " "
   ]
  },
  {
   "cell_type": "markdown",
   "metadata": {},
   "source": [
    "#### TERRESTRAIL and MARINE"
   ]
  },
  {
   "cell_type": "code",
   "execution_count": 17,
   "metadata": {},
   "outputs": [
    {
     "data": {
      "text/html": [
       "<div>\n",
       "<style scoped>\n",
       "    .dataframe tbody tr th:only-of-type {\n",
       "        vertical-align: middle;\n",
       "    }\n",
       "\n",
       "    .dataframe tbody tr th {\n",
       "        vertical-align: top;\n",
       "    }\n",
       "\n",
       "    .dataframe thead th {\n",
       "        text-align: right;\n",
       "    }\n",
       "</style>\n",
       "<table border=\"1\" class=\"dataframe\">\n",
       "  <thead>\n",
       "    <tr style=\"text-align: right;\">\n",
       "      <th></th>\n",
       "      <th>Country</th>\n",
       "      <th>1990</th>\n",
       "      <th>2000</th>\n",
       "      <th>2014</th>\n",
       "    </tr>\n",
       "  </thead>\n",
       "  <tbody>\n",
       "    <tr>\n",
       "      <td>2</td>\n",
       "      <td>Afghanistan</td>\n",
       "      <td>0.36</td>\n",
       "      <td>0.36</td>\n",
       "      <td>0.46</td>\n",
       "    </tr>\n",
       "    <tr>\n",
       "      <td>5</td>\n",
       "      <td>Albania</td>\n",
       "      <td>0.15</td>\n",
       "      <td>0.48</td>\n",
       "      <td>1.91</td>\n",
       "    </tr>\n",
       "    <tr>\n",
       "      <td>8</td>\n",
       "      <td>Algeria</td>\n",
       "      <td>5.97</td>\n",
       "      <td>5.98</td>\n",
       "      <td>7.46</td>\n",
       "    </tr>\n",
       "    <tr>\n",
       "      <td>11</td>\n",
       "      <td>American Samoa</td>\n",
       "      <td>0.06</td>\n",
       "      <td>0.06</td>\n",
       "      <td>8.62</td>\n",
       "    </tr>\n",
       "    <tr>\n",
       "      <td>14</td>\n",
       "      <td>Andorra</td>\n",
       "      <td>5.53</td>\n",
       "      <td>9.25</td>\n",
       "      <td>19.50</td>\n",
       "    </tr>\n",
       "  </tbody>\n",
       "</table>\n",
       "</div>"
      ],
      "text/plain": [
       "           Country  1990  2000   2014\n",
       "2      Afghanistan  0.36  0.36   0.46\n",
       "5          Albania  0.15  0.48   1.91\n",
       "8          Algeria  5.97  5.98   7.46\n",
       "11  American Samoa  0.06  0.06   8.62\n",
       "14         Andorra  5.53  9.25  19.50"
      ]
     },
     "execution_count": 17,
     "metadata": {},
     "output_type": "execute_result"
    }
   ],
   "source": [
    "#Rows or countries with missing value less than 3 will remain, removing rows with all missing data\n",
    "new_mdg_terrestrail = new_mdg_terrestrail[new_mdg_terrestrail.isnull().sum(axis=1) != 3]\n",
    "\n",
    "#preparing columns to be converted from object to numeric\n",
    "cols = new_mdg_terrestrail.columns.drop('Country')\n",
    "\n",
    "#converting columns into numeric\n",
    "new_mdg_terrestrail[cols] = new_mdg_terrestrail[cols].apply(pd.to_numeric, errors='coerce')\n",
    "\n",
    "#function to replace NaN with row average\n",
    "m = new_mdg_terrestrail.mean(axis=1)\n",
    "for i, col in enumerate(new_mdg_terrestrail):\n",
    "             # using i allows for duplicate columns\n",
    "             # inplace *may* not always work here, so IMO the next line is preferred\n",
    "             # df.iloc[:, i].fillna(m, inplace=True)\n",
    "    new_mdg_terrestrail.iloc[:, i] = new_mdg_terrestrail.iloc[:, i].fillna(m)\n",
    "\n",
    "new_mdg_terrestrail.head()"
   ]
  },
  {
   "cell_type": "markdown",
   "metadata": {},
   "source": [
    " "
   ]
  },
  {
   "cell_type": "markdown",
   "metadata": {},
   "source": [
    " #### CARBON  EMISSION"
   ]
  },
  {
   "cell_type": "code",
   "execution_count": 18,
   "metadata": {
    "scrolled": false
   },
   "outputs": [
    {
     "data": {
      "text/html": [
       "<div>\n",
       "<style scoped>\n",
       "    .dataframe tbody tr th:only-of-type {\n",
       "        vertical-align: middle;\n",
       "    }\n",
       "\n",
       "    .dataframe tbody tr th {\n",
       "        vertical-align: top;\n",
       "    }\n",
       "\n",
       "    .dataframe thead th {\n",
       "        text-align: right;\n",
       "    }\n",
       "</style>\n",
       "<table border=\"1\" class=\"dataframe\">\n",
       "  <thead>\n",
       "    <tr style=\"text-align: right;\">\n",
       "      <th></th>\n",
       "      <th>Country</th>\n",
       "      <th>1990</th>\n",
       "      <th>1991</th>\n",
       "      <th>1992</th>\n",
       "      <th>1993</th>\n",
       "      <th>1994</th>\n",
       "      <th>1995</th>\n",
       "      <th>1996</th>\n",
       "      <th>1997</th>\n",
       "      <th>1998</th>\n",
       "      <th>...</th>\n",
       "      <th>2002</th>\n",
       "      <th>2003</th>\n",
       "      <th>2004</th>\n",
       "      <th>2005</th>\n",
       "      <th>2006</th>\n",
       "      <th>2007</th>\n",
       "      <th>2008</th>\n",
       "      <th>2009</th>\n",
       "      <th>2010</th>\n",
       "      <th>2011</th>\n",
       "    </tr>\n",
       "  </thead>\n",
       "  <tbody>\n",
       "    <tr>\n",
       "      <td>1</td>\n",
       "      <td>Afghanistan</td>\n",
       "      <td>2676.900000</td>\n",
       "      <td>2493.600000</td>\n",
       "      <td>1426.500000</td>\n",
       "      <td>1375.100000</td>\n",
       "      <td>1320.100000</td>\n",
       "      <td>1268.8</td>\n",
       "      <td>1199.1</td>\n",
       "      <td>1114.8</td>\n",
       "      <td>1056.1</td>\n",
       "      <td>...</td>\n",
       "      <td>894.7</td>\n",
       "      <td>1037.8</td>\n",
       "      <td>957.1</td>\n",
       "      <td>1338.5</td>\n",
       "      <td>1657.5</td>\n",
       "      <td>2280.9</td>\n",
       "      <td>4217.1</td>\n",
       "      <td>6776.6</td>\n",
       "      <td>8470.8</td>\n",
       "      <td>12251.4</td>\n",
       "    </tr>\n",
       "    <tr>\n",
       "      <td>4</td>\n",
       "      <td>Albania</td>\n",
       "      <td>7488.000000</td>\n",
       "      <td>3971.400000</td>\n",
       "      <td>2387.200000</td>\n",
       "      <td>2343.200000</td>\n",
       "      <td>1928.800000</td>\n",
       "      <td>2086.5</td>\n",
       "      <td>2016.9</td>\n",
       "      <td>1543.8</td>\n",
       "      <td>1752.8</td>\n",
       "      <td>...</td>\n",
       "      <td>3751.3</td>\n",
       "      <td>4294.1</td>\n",
       "      <td>4165.7</td>\n",
       "      <td>4253.7</td>\n",
       "      <td>3865.0</td>\n",
       "      <td>4477.4</td>\n",
       "      <td>4657.1</td>\n",
       "      <td>4488.4</td>\n",
       "      <td>4415.1</td>\n",
       "      <td>4668.1</td>\n",
       "    </tr>\n",
       "    <tr>\n",
       "      <td>7</td>\n",
       "      <td>Algeria</td>\n",
       "      <td>78924.800000</td>\n",
       "      <td>81220.400000</td>\n",
       "      <td>81935.400000</td>\n",
       "      <td>82294.800000</td>\n",
       "      <td>86500.900000</td>\n",
       "      <td>95345.7</td>\n",
       "      <td>97131.5</td>\n",
       "      <td>88195.0</td>\n",
       "      <td>107080.1</td>\n",
       "      <td>...</td>\n",
       "      <td>90853.6</td>\n",
       "      <td>92533.1</td>\n",
       "      <td>89493.1</td>\n",
       "      <td>107127.7</td>\n",
       "      <td>100919.5</td>\n",
       "      <td>109294.9</td>\n",
       "      <td>111575.8</td>\n",
       "      <td>121374.0</td>\n",
       "      <td>119276.5</td>\n",
       "      <td>121755.4</td>\n",
       "    </tr>\n",
       "    <tr>\n",
       "      <td>13</td>\n",
       "      <td>Andorra</td>\n",
       "      <td>511.429412</td>\n",
       "      <td>511.429412</td>\n",
       "      <td>511.429412</td>\n",
       "      <td>511.429412</td>\n",
       "      <td>511.429412</td>\n",
       "      <td>407.0</td>\n",
       "      <td>425.4</td>\n",
       "      <td>458.4</td>\n",
       "      <td>484.0</td>\n",
       "      <td>...</td>\n",
       "      <td>531.7</td>\n",
       "      <td>535.4</td>\n",
       "      <td>564.7</td>\n",
       "      <td>575.7</td>\n",
       "      <td>546.4</td>\n",
       "      <td>539.0</td>\n",
       "      <td>539.0</td>\n",
       "      <td>517.0</td>\n",
       "      <td>517.0</td>\n",
       "      <td>491.4</td>\n",
       "    </tr>\n",
       "    <tr>\n",
       "      <td>16</td>\n",
       "      <td>Angola</td>\n",
       "      <td>4429.700000</td>\n",
       "      <td>4367.400000</td>\n",
       "      <td>4418.700000</td>\n",
       "      <td>5801.200000</td>\n",
       "      <td>3890.700000</td>\n",
       "      <td>11012.0</td>\n",
       "      <td>10491.3</td>\n",
       "      <td>7381.7</td>\n",
       "      <td>7308.3</td>\n",
       "      <td>...</td>\n",
       "      <td>12665.8</td>\n",
       "      <td>9064.8</td>\n",
       "      <td>18793.4</td>\n",
       "      <td>19156.4</td>\n",
       "      <td>22266.0</td>\n",
       "      <td>25152.0</td>\n",
       "      <td>27172.5</td>\n",
       "      <td>29361.7</td>\n",
       "      <td>29743.0</td>\n",
       "      <td>29710.0</td>\n",
       "    </tr>\n",
       "  </tbody>\n",
       "</table>\n",
       "<p>5 rows × 23 columns</p>\n",
       "</div>"
      ],
      "text/plain": [
       "        Country          1990          1991          1992          1993  \\\n",
       "1   Afghanistan   2676.900000   2493.600000   1426.500000   1375.100000   \n",
       "4       Albania   7488.000000   3971.400000   2387.200000   2343.200000   \n",
       "7       Algeria  78924.800000  81220.400000  81935.400000  82294.800000   \n",
       "13      Andorra    511.429412    511.429412    511.429412    511.429412   \n",
       "16       Angola   4429.700000   4367.400000   4418.700000   5801.200000   \n",
       "\n",
       "            1994     1995     1996     1997      1998  ...     2002     2003  \\\n",
       "1    1320.100000   1268.8   1199.1   1114.8    1056.1  ...    894.7   1037.8   \n",
       "4    1928.800000   2086.5   2016.9   1543.8    1752.8  ...   3751.3   4294.1   \n",
       "7   86500.900000  95345.7  97131.5  88195.0  107080.1  ...  90853.6  92533.1   \n",
       "13    511.429412    407.0    425.4    458.4     484.0  ...    531.7    535.4   \n",
       "16   3890.700000  11012.0  10491.3   7381.7    7308.3  ...  12665.8   9064.8   \n",
       "\n",
       "       2004      2005      2006      2007      2008      2009      2010  \\\n",
       "1     957.1    1338.5    1657.5    2280.9    4217.1    6776.6    8470.8   \n",
       "4    4165.7    4253.7    3865.0    4477.4    4657.1    4488.4    4415.1   \n",
       "7   89493.1  107127.7  100919.5  109294.9  111575.8  121374.0  119276.5   \n",
       "13    564.7     575.7     546.4     539.0     539.0     517.0     517.0   \n",
       "16  18793.4   19156.4   22266.0   25152.0   27172.5   29361.7   29743.0   \n",
       "\n",
       "        2011  \n",
       "1    12251.4  \n",
       "4     4668.1  \n",
       "7   121755.4  \n",
       "13     491.4  \n",
       "16   29710.0  \n",
       "\n",
       "[5 rows x 23 columns]"
      ]
     },
     "execution_count": 18,
     "metadata": {},
     "output_type": "execute_result"
    }
   ],
   "source": [
    "# dropping rows with all missing value or no data\n",
    "new_mdg_carbon_emission = new_mdg_carbon_emission[new_mdg_carbon_emission.isnull().sum(axis=1) != 22]\n",
    "\n",
    "# Selecting columns to be converted to numeric\n",
    "cols = new_mdg_carbon_emission.columns.drop('Country')\n",
    "\n",
    "#converting columns into numeric\n",
    "new_mdg_carbon_emission[cols] = new_mdg_carbon_emission[cols].apply(pd.to_numeric, errors='coerce')\n",
    "\n",
    "#function to replace NaN with row average\n",
    "m = new_mdg_carbon_emission.mean(axis=1)\n",
    "for i, col in enumerate(new_mdg_carbon_emission):\n",
    "             # using i allows for duplicate columns\n",
    "             # inplace *may* not always work here, so IMO the next line is preferred\n",
    "             # df.iloc[:, i].fillna(m, inplace=True)\n",
    "    new_mdg_carbon_emission.iloc[:, i] = new_mdg_carbon_emission.iloc[:, i].fillna(m)\n",
    "\n",
    "new_mdg_carbon_emission.head()"
   ]
  },
  {
   "cell_type": "markdown",
   "metadata": {},
   "source": [
    "* Propotion of Land covered by forest data was collected in 1990, 2000, 2005 and 2010\n",
    "\n",
    "* Terrestrail and Marine data was collected in 1990, 2000 and 2014\n",
    "\n",
    "* Carbon emission data was collected from 1990 to 2011\n",
    "\n",
    "**Which is why necessary to seperate the data based on the series**"
   ]
  },
  {
   "cell_type": "markdown",
   "metadata": {},
   "source": [
    " "
   ]
  },
  {
   "cell_type": "markdown",
   "metadata": {},
   "source": [
    " "
   ]
  },
  {
   "cell_type": "markdown",
   "metadata": {},
   "source": [
    "# 1.Countries represented. Missing values are there by country, year and series"
   ]
  },
  {
   "cell_type": "markdown",
   "metadata": {},
   "source": [
    "* **Countries represented in each series**"
   ]
  },
  {
   "cell_type": "code",
   "execution_count": 19,
   "metadata": {},
   "outputs": [
    {
     "name": "stdout",
     "output_type": "stream",
     "text": [
      "Countries represented in Proportion of land covered by forest = 223\n",
      "Countries represented in Terrestrial and marine areas protected to total territorial = 223\n",
      "Countries represented in Carbon dioxide emissions (CO2) = 217\n"
     ]
    }
   ],
   "source": [
    "Land_proportion_countries = new_mdg_proportion_of_land.Country.nunique()\n",
    "print('Countries represented in Proportion of land covered by forest =',Land_proportion_countries)\n",
    "\n",
    "Terrestrail_marine_countries = new_mdg_terrestrail.Country.nunique()\n",
    "print('Countries represented in Terrestrial and marine areas protected to total territorial =',Terrestrail_marine_countries)\n",
    "\n",
    "Carbon_emission_countries = new_mdg_carbon_emission.Country.nunique()\n",
    "print('Countries represented in Carbon dioxide emissions (CO2) =',Carbon_emission_countries)"
   ]
  },
  {
   "cell_type": "markdown",
   "metadata": {},
   "source": [
    "* **Missing values by country, year and series**\n",
    "\n",
    "From the cleaned datasets there are no missing values"
   ]
  },
  {
   "cell_type": "code",
   "execution_count": 20,
   "metadata": {},
   "outputs": [
    {
     "name": "stdout",
     "output_type": "stream",
     "text": [
      "Missing values in Proportion of land covered by forest = 0\n",
      "Missing values in Terrestrial and marine areas protected to total territorial = 0\n",
      "Missing values in Carbon dioxide emissions (CO2) = 0\n"
     ]
    }
   ],
   "source": [
    "Land_proportion_missing = new_mdg_proportion_of_land.isnull().sum().sum()\n",
    "print('Missing values in Proportion of land covered by forest =',Land_proportion_missing)\n",
    "\n",
    "Terrestrail_marine_missing = new_mdg_terrestrail.isnull().sum().sum()\n",
    "print('Missing values in Terrestrial and marine areas protected to total territorial =',Terrestrail_marine_missing)\n",
    "\n",
    "Carbon_emission__missing = new_mdg_carbon_emission.isnull().sum().sum()\n",
    "print('Missing values in Carbon dioxide emissions (CO2) =',Carbon_emission__missing)"
   ]
  },
  {
   "cell_type": "markdown",
   "metadata": {},
   "source": [
    " "
   ]
  },
  {
   "cell_type": "markdown",
   "metadata": {},
   "source": [
    "# 2. Top and bottom 5 countries in terms of C02 emissions in 1990 and their emissions and how they changed by 2011"
   ]
  },
  {
   "cell_type": "markdown",
   "metadata": {},
   "source": [
    "* **Top 5 countries in CO2 emmission in 1990 their changes in 2011**"
   ]
  },
  {
   "cell_type": "code",
   "execution_count": 21,
   "metadata": {},
   "outputs": [
    {
     "data": {
      "text/html": [
       "<div>\n",
       "<style scoped>\n",
       "    .dataframe tbody tr th:only-of-type {\n",
       "        vertical-align: middle;\n",
       "    }\n",
       "\n",
       "    .dataframe tbody tr th {\n",
       "        vertical-align: top;\n",
       "    }\n",
       "\n",
       "    .dataframe thead th {\n",
       "        text-align: right;\n",
       "    }\n",
       "</style>\n",
       "<table border=\"1\" class=\"dataframe\">\n",
       "  <thead>\n",
       "    <tr style=\"text-align: right;\">\n",
       "      <th></th>\n",
       "      <th>Country</th>\n",
       "      <th>1990</th>\n",
       "      <th>2011</th>\n",
       "    </tr>\n",
       "  </thead>\n",
       "  <tbody>\n",
       "    <tr>\n",
       "      <td>652</td>\n",
       "      <td>United States</td>\n",
       "      <td>4.823557e+06</td>\n",
       "      <td>5305569.6</td>\n",
       "    </tr>\n",
       "    <tr>\n",
       "      <td>124</td>\n",
       "      <td>China</td>\n",
       "      <td>2.460744e+06</td>\n",
       "      <td>9019518.2</td>\n",
       "    </tr>\n",
       "    <tr>\n",
       "      <td>499</td>\n",
       "      <td>Russian Federation</td>\n",
       "      <td>1.660534e+06</td>\n",
       "      <td>1808073.0</td>\n",
       "    </tr>\n",
       "    <tr>\n",
       "      <td>301</td>\n",
       "      <td>Japan</td>\n",
       "      <td>1.094288e+06</td>\n",
       "      <td>1187657.0</td>\n",
       "    </tr>\n",
       "    <tr>\n",
       "      <td>229</td>\n",
       "      <td>Germany</td>\n",
       "      <td>8.276009e+05</td>\n",
       "      <td>729458.0</td>\n",
       "    </tr>\n",
       "  </tbody>\n",
       "</table>\n",
       "</div>"
      ],
      "text/plain": [
       "                Country          1990       2011\n",
       "652       United States  4.823557e+06  5305569.6\n",
       "124               China  2.460744e+06  9019518.2\n",
       "499  Russian Federation  1.660534e+06  1808073.0\n",
       "301               Japan  1.094288e+06  1187657.0\n",
       "229             Germany  8.276009e+05   729458.0"
      ]
     },
     "execution_count": 21,
     "metadata": {},
     "output_type": "execute_result"
    }
   ],
   "source": [
    "Carbon_emission_top = new_mdg_carbon_emission.loc[:,(\"Country\", \"1990\",\"2011\")].sort_values(by = '1990', ascending=False)\n",
    "Carbon_emission_top.head()    "
   ]
  },
  {
   "cell_type": "markdown",
   "metadata": {},
   "source": [
    "* USA's Carbon emission increased by 9.99%, which is approximately **10%** \n",
    "* China's Carbon emission increased by **266.54%** \n",
    "* Russian federation increased by **8.89%**\n",
    "* Japan increased by **8.53%**\n",
    "* Germany has decreased by **11.86%**"
   ]
  },
  {
   "cell_type": "markdown",
   "metadata": {},
   "source": [
    " "
   ]
  },
  {
   "cell_type": "markdown",
   "metadata": {},
   "source": [
    "* **Bottom 5 countries in CO2 emmission in 1990 their changes in 2011**"
   ]
  },
  {
   "cell_type": "code",
   "execution_count": 22,
   "metadata": {},
   "outputs": [
    {
     "data": {
      "text/html": [
       "<div>\n",
       "<style scoped>\n",
       "    .dataframe tbody tr th:only-of-type {\n",
       "        vertical-align: middle;\n",
       "    }\n",
       "\n",
       "    .dataframe tbody tr th {\n",
       "        vertical-align: top;\n",
       "    }\n",
       "\n",
       "    .dataframe thead th {\n",
       "        text-align: right;\n",
       "    }\n",
       "</style>\n",
       "<table border=\"1\" class=\"dataframe\">\n",
       "  <thead>\n",
       "    <tr style=\"text-align: right;\">\n",
       "      <th></th>\n",
       "      <th>Country</th>\n",
       "      <th>1990</th>\n",
       "      <th>2011</th>\n",
       "    </tr>\n",
       "  </thead>\n",
       "  <tbody>\n",
       "    <tr>\n",
       "      <td>679</td>\n",
       "      <td>Yemen</td>\n",
       "      <td>-2999.6</td>\n",
       "      <td>22295.4</td>\n",
       "    </tr>\n",
       "    <tr>\n",
       "      <td>445</td>\n",
       "      <td>Niue</td>\n",
       "      <td>3.7</td>\n",
       "      <td>11.0</td>\n",
       "    </tr>\n",
       "    <tr>\n",
       "      <td>505</td>\n",
       "      <td>Saint Helena</td>\n",
       "      <td>7.3</td>\n",
       "      <td>11.0</td>\n",
       "    </tr>\n",
       "    <tr>\n",
       "      <td>559</td>\n",
       "      <td>Somalia</td>\n",
       "      <td>18.3</td>\n",
       "      <td>575.7</td>\n",
       "    </tr>\n",
       "    <tr>\n",
       "      <td>142</td>\n",
       "      <td>Cook Islands</td>\n",
       "      <td>22.0</td>\n",
       "      <td>69.7</td>\n",
       "    </tr>\n",
       "  </tbody>\n",
       "</table>\n",
       "</div>"
      ],
      "text/plain": [
       "          Country    1990     2011\n",
       "679         Yemen -2999.6  22295.4\n",
       "445          Niue     3.7     11.0\n",
       "505  Saint Helena     7.3     11.0\n",
       "559       Somalia    18.3    575.7\n",
       "142  Cook Islands    22.0     69.7"
      ]
     },
     "execution_count": 22,
     "metadata": {},
     "output_type": "execute_result"
    }
   ],
   "source": [
    "Carbon_emission_bottom = new_mdg_carbon_emission.loc[:,(\"Country\", \"1990\",\"2011\")].sort_values(by = '1990', ascending=True)\n",
    "Carbon_emission_bottom.head()"
   ]
  },
  {
   "cell_type": "markdown",
   "metadata": {},
   "source": [
    "Yemen seem to have negative value, need to be changed to positive"
   ]
  },
  {
   "cell_type": "code",
   "execution_count": 23,
   "metadata": {},
   "outputs": [],
   "source": [
    "#changing negative values in 1990 column\n",
    "new_mdg_carbon_emission['1990'] = new_mdg_carbon_emission['1990'].abs()"
   ]
  },
  {
   "cell_type": "code",
   "execution_count": 24,
   "metadata": {},
   "outputs": [
    {
     "data": {
      "text/html": [
       "<div>\n",
       "<style scoped>\n",
       "    .dataframe tbody tr th:only-of-type {\n",
       "        vertical-align: middle;\n",
       "    }\n",
       "\n",
       "    .dataframe tbody tr th {\n",
       "        vertical-align: top;\n",
       "    }\n",
       "\n",
       "    .dataframe thead th {\n",
       "        text-align: right;\n",
       "    }\n",
       "</style>\n",
       "<table border=\"1\" class=\"dataframe\">\n",
       "  <thead>\n",
       "    <tr style=\"text-align: right;\">\n",
       "      <th></th>\n",
       "      <th>Country</th>\n",
       "      <th>1990</th>\n",
       "      <th>2011</th>\n",
       "    </tr>\n",
       "  </thead>\n",
       "  <tbody>\n",
       "    <tr>\n",
       "      <td>445</td>\n",
       "      <td>Niue</td>\n",
       "      <td>3.7</td>\n",
       "      <td>11.0</td>\n",
       "    </tr>\n",
       "    <tr>\n",
       "      <td>505</td>\n",
       "      <td>Saint Helena</td>\n",
       "      <td>7.3</td>\n",
       "      <td>11.0</td>\n",
       "    </tr>\n",
       "    <tr>\n",
       "      <td>559</td>\n",
       "      <td>Somalia</td>\n",
       "      <td>18.3</td>\n",
       "      <td>575.7</td>\n",
       "    </tr>\n",
       "    <tr>\n",
       "      <td>313</td>\n",
       "      <td>Kiribati</td>\n",
       "      <td>22.0</td>\n",
       "      <td>62.3</td>\n",
       "    </tr>\n",
       "    <tr>\n",
       "      <td>142</td>\n",
       "      <td>Cook Islands</td>\n",
       "      <td>22.0</td>\n",
       "      <td>69.7</td>\n",
       "    </tr>\n",
       "  </tbody>\n",
       "</table>\n",
       "</div>"
      ],
      "text/plain": [
       "          Country  1990   2011\n",
       "445          Niue   3.7   11.0\n",
       "505  Saint Helena   7.3   11.0\n",
       "559       Somalia  18.3  575.7\n",
       "313      Kiribati  22.0   62.3\n",
       "142  Cook Islands  22.0   69.7"
      ]
     },
     "execution_count": 24,
     "metadata": {},
     "output_type": "execute_result"
    }
   ],
   "source": [
    "Carbon_emission_bottom = new_mdg_carbon_emission.loc[:,(\"Country\", \"1990\",\"2011\")].sort_values(by = '1990', ascending=True)\n",
    "Carbon_emission_bottom.head()"
   ]
  },
  {
   "cell_type": "markdown",
   "metadata": {},
   "source": [
    "* Niue inceased by **7.3** thousand metric tons\n",
    "* Saint Helena increased by **3.7** thousand metric tons\n",
    "* Somalia increased by **557.4** thousand metric tons\n",
    "* Kiribati increased by **40.3** thousand metric tons\n",
    "* Cook Islands **47.7** thousand metric tons"
   ]
  },
  {
   "cell_type": "markdown",
   "metadata": {},
   "source": [
    " "
   ]
  },
  {
   "cell_type": "markdown",
   "metadata": {},
   "source": [
    "# 3. The mean and median C02 emissions for 1990"
   ]
  },
  {
   "cell_type": "code",
   "execution_count": 25,
   "metadata": {},
   "outputs": [
    {
     "name": "stdout",
     "output_type": "stream",
     "text": [
      "Mean C02 emissions for 1990 = 92916.33532511922\n",
      "Medain C02 emissions for 1990 = 3993.4\n"
     ]
    }
   ],
   "source": [
    "Carbon_1990_mean = new_mdg_carbon_emission['1990'].mean()\n",
    "print('Mean C02 emissions for 1990 =', Carbon_1990_mean)\n",
    "Carbon_1990_median = new_mdg_carbon_emission['1990'].median()\n",
    "print('Medain C02 emissions for 1990 =', Carbon_1990_median)"
   ]
  },
  {
   "cell_type": "markdown",
   "metadata": {},
   "source": [
    "* **Why the differ?**\n",
    "\n",
    "The median being very small compared to the mean, it means the any many small values compared to largest values, yet the largest numbers are so large that they affect the average.\n",
    "\n"
   ]
  },
  {
   "cell_type": "markdown",
   "metadata": {},
   "source": [
    " "
   ]
  },
  {
   "cell_type": "markdown",
   "metadata": {},
   "source": [
    "# 4. The minimum, maximum and interquartile range of the CO2 emissions for 1990"
   ]
  },
  {
   "cell_type": "code",
   "execution_count": 26,
   "metadata": {},
   "outputs": [
    {
     "name": "stdout",
     "output_type": "stream",
     "text": [
      "Minimum C02 emissions for 1990 = 3.7\n",
      "Maximum C02 emissions for 1990 = 4823557.1\n",
      "Interquartile Range C02 emissions for 1990 =  41638.799999999996\n"
     ]
    }
   ],
   "source": [
    "Carbon_1990_minimum = new_mdg_carbon_emission['1990'].min()\n",
    "print('Minimum C02 emissions for 1990 =', Carbon_1990_minimum)\n",
    "Carbon_1990_maximum = new_mdg_carbon_emission['1990'].max()\n",
    "print('Maximum C02 emissions for 1990 =', Carbon_1990_maximum)\n",
    "\n",
    "Carbon_1990_Q1 = new_mdg_carbon_emission['1990'].quantile(0.25)\n",
    "\n",
    "Carbon_1990_Q3 = new_mdg_carbon_emission['1990'].quantile(0.75)\n",
    "IQR = Carbon_1990_Q3 - Carbon_1990_Q1\n",
    "print('Interquartile Range C02 emissions for 1990 = ', IQR)"
   ]
  },
  {
   "cell_type": "markdown",
   "metadata": {},
   "source": [
    "* Based on the information, the distribution of the data is **positively skewed(to the right)**"
   ]
  },
  {
   "cell_type": "markdown",
   "metadata": {},
   "source": [
    "# 5.  Histogram of the CO2 emissions for 1990"
   ]
  },
  {
   "cell_type": "code",
   "execution_count": 27,
   "metadata": {},
   "outputs": [
    {
     "data": {
      "image/png": "[encoded data removed]",
      "text/plain": [
       "<Figure size 432x288 with 1 Axes>"
      ]
     },
     "metadata": {
      "needs_background": "light"
     },
     "output_type": "display_data"
    }
   ],
   "source": [
    "\n",
    "dist_df = new_mdg_carbon_emission[\"1990\"] \n",
    "dist_df = np.random.gamma(4, 0.5,1000)\n",
    "mean = dist_df.mean()\n",
    "median = np.median(dist_df)\n",
    "plt.ylabel(\"Density Probability\")\n",
    "plt.axvline(mean,color = 'blue',label = 'Mean')\n",
    "plt.axvline(median,color = 'green',label = 'Median')\n",
    "\n",
    "_ = sns.distplot(dist_df,color = \"grey\")\n",
    "_ = plt.legend()\n"
   ]
  },
  {
   "cell_type": "markdown",
   "metadata": {},
   "source": [
    "The histogram is positively skewed to the right as expected"
   ]
  },
  {
   "cell_type": "markdown",
   "metadata": {},
   "source": [
    " "
   ]
  },
  {
   "cell_type": "markdown",
   "metadata": {},
   "source": [
    "# 6. The standard deviation and standard error of the mean for CO2 emission in 1990"
   ]
  },
  {
   "cell_type": "code",
   "execution_count": 28,
   "metadata": {},
   "outputs": [
    {
     "name": "stdout",
     "output_type": "stream",
     "text": [
      "Standard deviation for CO2 emission in 1990 =  399886.4374635775\n",
      "Standard error of the mean for CO2 emission in 1990 =  27146.060204788268\n"
     ]
    }
   ],
   "source": [
    "stand_dev = new_mdg_carbon_emission['1990'].std()\n",
    "print(\"Standard deviation for CO2 emission in 1990 = \", stand_dev)\n",
    "stand_error = new_mdg_carbon_emission['1990'].sem()\n",
    "print(\"Standard error of the mean for CO2 emission in 1990 = \",stand_error)"
   ]
  },
  {
   "cell_type": "code",
   "execution_count": null,
   "metadata": {},
   "outputs": [],
   "source": []
  },
  {
   "cell_type": "markdown",
   "metadata": {},
   "source": [
    "# 7. Line graph for top 6 countries per continent "
   ]
  },
  {
   "cell_type": "code",
   "execution_count": 29,
   "metadata": {},
   "outputs": [],
   "source": [
    "#Checking the index of the countries\n",
    "brasil = new_mdg_carbon_emission['Country'][new_mdg_carbon_emission['Country']=='Brazil']\n",
    "russia = new_mdg_carbon_emission['Country'][new_mdg_carbon_emission['Country']=='Russian Federation']\n",
    "china = new_mdg_carbon_emission['Country'][new_mdg_carbon_emission['Country']=='China']\n",
    "india = new_mdg_carbon_emission['Country'][new_mdg_carbon_emission['Country']=='India']\n",
    "usa = new_mdg_carbon_emission['Country'][new_mdg_carbon_emission['Country']=='United States']\n",
    "rsa = new_mdg_carbon_emission['Country'][new_mdg_carbon_emission['Country']=='South Africa']"
   ]
  },
  {
   "cell_type": "code",
   "execution_count": 30,
   "metadata": {},
   "outputs": [
    {
     "name": "stdout",
     "output_type": "stream",
     "text": [
      "82    Brazil\n",
      "Name: Country, dtype: object\n",
      "499    Russian Federation\n",
      "Name: Country, dtype: object\n",
      "124    China\n",
      "Name: Country, dtype: object\n",
      "277    India\n",
      "Name: Country, dtype: object\n",
      "652    United States\n",
      "Name: Country, dtype: object\n",
      "562    South Africa\n",
      "Name: Country, dtype: object\n"
     ]
    }
   ],
   "source": [
    "print(brasil)\n",
    "print(russia)\n",
    "print(china)\n",
    "print(india)\n",
    "print(usa)\n",
    "print(rsa)"
   ]
  },
  {
   "cell_type": "code",
   "execution_count": 31,
   "metadata": {},
   "outputs": [],
   "source": [
    "Top_6_continent = new_mdg_carbon_emission.loc[(82,124,277,499,562,652),:]"
   ]
  },
  {
   "cell_type": "code",
   "execution_count": 32,
   "metadata": {},
   "outputs": [
    {
     "data": {
      "text/html": [
       "<div>\n",
       "<style scoped>\n",
       "    .dataframe tbody tr th:only-of-type {\n",
       "        vertical-align: middle;\n",
       "    }\n",
       "\n",
       "    .dataframe tbody tr th {\n",
       "        vertical-align: top;\n",
       "    }\n",
       "\n",
       "    .dataframe thead th {\n",
       "        text-align: right;\n",
       "    }\n",
       "</style>\n",
       "<table border=\"1\" class=\"dataframe\">\n",
       "  <thead>\n",
       "    <tr style=\"text-align: right;\">\n",
       "      <th></th>\n",
       "      <th>Country</th>\n",
       "      <th>1990</th>\n",
       "      <th>1991</th>\n",
       "      <th>1992</th>\n",
       "      <th>1993</th>\n",
       "      <th>1994</th>\n",
       "      <th>1995</th>\n",
       "      <th>1996</th>\n",
       "      <th>1997</th>\n",
       "      <th>1998</th>\n",
       "      <th>...</th>\n",
       "      <th>2002</th>\n",
       "      <th>2003</th>\n",
       "      <th>2004</th>\n",
       "      <th>2005</th>\n",
       "      <th>2006</th>\n",
       "      <th>2007</th>\n",
       "      <th>2008</th>\n",
       "      <th>2009</th>\n",
       "      <th>2010</th>\n",
       "      <th>2011</th>\n",
       "    </tr>\n",
       "  </thead>\n",
       "  <tbody>\n",
       "    <tr>\n",
       "      <td>0</td>\n",
       "      <td>Brazil</td>\n",
       "      <td>208887.000</td>\n",
       "      <td>219330.600</td>\n",
       "      <td>220705.7</td>\n",
       "      <td>230738.6</td>\n",
       "      <td>242154.0</td>\n",
       "      <td>258347.5</td>\n",
       "      <td>284782.9</td>\n",
       "      <td>300547.3</td>\n",
       "      <td>312289.1</td>\n",
       "      <td>...</td>\n",
       "      <td>332266.9</td>\n",
       "      <td>321621.6</td>\n",
       "      <td>337826.0</td>\n",
       "      <td>347308.9</td>\n",
       "      <td>347668.3</td>\n",
       "      <td>363212.7</td>\n",
       "      <td>387675.2</td>\n",
       "      <td>367147.4</td>\n",
       "      <td>419754.2</td>\n",
       "      <td>439412.9</td>\n",
       "    </tr>\n",
       "    <tr>\n",
       "      <td>1</td>\n",
       "      <td>China</td>\n",
       "      <td>2460744.000</td>\n",
       "      <td>2584538.300</td>\n",
       "      <td>2695982.1</td>\n",
       "      <td>2878694.0</td>\n",
       "      <td>3058241.3</td>\n",
       "      <td>3320285.2</td>\n",
       "      <td>3463089.1</td>\n",
       "      <td>3469510.0</td>\n",
       "      <td>3324344.5</td>\n",
       "      <td>...</td>\n",
       "      <td>3694242.1</td>\n",
       "      <td>4525177.0</td>\n",
       "      <td>5288166.0</td>\n",
       "      <td>5790017.0</td>\n",
       "      <td>6414463.1</td>\n",
       "      <td>6791804.7</td>\n",
       "      <td>7035443.9</td>\n",
       "      <td>7692210.9</td>\n",
       "      <td>8256969.2</td>\n",
       "      <td>9019518.2</td>\n",
       "    </tr>\n",
       "    <tr>\n",
       "      <td>2</td>\n",
       "      <td>India</td>\n",
       "      <td>690576.800</td>\n",
       "      <td>737851.700</td>\n",
       "      <td>783634.2</td>\n",
       "      <td>814297.7</td>\n",
       "      <td>864931.6</td>\n",
       "      <td>920046.6</td>\n",
       "      <td>1002224.1</td>\n",
       "      <td>1043939.9</td>\n",
       "      <td>1071911.8</td>\n",
       "      <td>...</td>\n",
       "      <td>1226791.2</td>\n",
       "      <td>1281913.5</td>\n",
       "      <td>1348524.6</td>\n",
       "      <td>1411127.6</td>\n",
       "      <td>1504364.7</td>\n",
       "      <td>1611199.1</td>\n",
       "      <td>1793075.0</td>\n",
       "      <td>1965820.0</td>\n",
       "      <td>1950950.3</td>\n",
       "      <td>2074344.9</td>\n",
       "    </tr>\n",
       "    <tr>\n",
       "      <td>3</td>\n",
       "      <td>Russian Federation</td>\n",
       "      <td>1660533.845</td>\n",
       "      <td>1660533.845</td>\n",
       "      <td>2081840.2</td>\n",
       "      <td>1941203.5</td>\n",
       "      <td>1701132.3</td>\n",
       "      <td>1634312.2</td>\n",
       "      <td>1615804.9</td>\n",
       "      <td>1528849.3</td>\n",
       "      <td>1498343.5</td>\n",
       "      <td>...</td>\n",
       "      <td>1557660.9</td>\n",
       "      <td>1604968.9</td>\n",
       "      <td>1602955.7</td>\n",
       "      <td>1615687.5</td>\n",
       "      <td>1669618.1</td>\n",
       "      <td>1667597.6</td>\n",
       "      <td>1715639.0</td>\n",
       "      <td>1574367.8</td>\n",
       "      <td>1742540.1</td>\n",
       "      <td>1808073.0</td>\n",
       "    </tr>\n",
       "    <tr>\n",
       "      <td>4</td>\n",
       "      <td>South Africa</td>\n",
       "      <td>319795.400</td>\n",
       "      <td>332618.900</td>\n",
       "      <td>307822.6</td>\n",
       "      <td>321104.5</td>\n",
       "      <td>337576.7</td>\n",
       "      <td>353458.5</td>\n",
       "      <td>358639.9</td>\n",
       "      <td>371327.8</td>\n",
       "      <td>372218.8</td>\n",
       "      <td>...</td>\n",
       "      <td>347686.6</td>\n",
       "      <td>380810.6</td>\n",
       "      <td>424774.3</td>\n",
       "      <td>391819.0</td>\n",
       "      <td>422445.7</td>\n",
       "      <td>440989.8</td>\n",
       "      <td>469090.0</td>\n",
       "      <td>477806.4</td>\n",
       "      <td>454950.0</td>\n",
       "      <td>477241.7</td>\n",
       "    </tr>\n",
       "    <tr>\n",
       "      <td>5</td>\n",
       "      <td>United States</td>\n",
       "      <td>4823557.100</td>\n",
       "      <td>4822383.700</td>\n",
       "      <td>4911103.1</td>\n",
       "      <td>5032931.8</td>\n",
       "      <td>5098475.8</td>\n",
       "      <td>5138009.7</td>\n",
       "      <td>5260696.5</td>\n",
       "      <td>5375235.3</td>\n",
       "      <td>5410918.9</td>\n",
       "      <td>...</td>\n",
       "      <td>5648727.5</td>\n",
       "      <td>5679222.2</td>\n",
       "      <td>5763456.9</td>\n",
       "      <td>5795161.8</td>\n",
       "      <td>5703871.8</td>\n",
       "      <td>5794923.4</td>\n",
       "      <td>5622464.4</td>\n",
       "      <td>5274132.4</td>\n",
       "      <td>5408869.0</td>\n",
       "      <td>5305569.6</td>\n",
       "    </tr>\n",
       "  </tbody>\n",
       "</table>\n",
       "<p>6 rows × 23 columns</p>\n",
       "</div>"
      ],
      "text/plain": [
       "              Country         1990         1991       1992       1993  \\\n",
       "0              Brazil   208887.000   219330.600   220705.7   230738.6   \n",
       "1               China  2460744.000  2584538.300  2695982.1  2878694.0   \n",
       "2               India   690576.800   737851.700   783634.2   814297.7   \n",
       "3  Russian Federation  1660533.845  1660533.845  2081840.2  1941203.5   \n",
       "4        South Africa   319795.400   332618.900   307822.6   321104.5   \n",
       "5       United States  4823557.100  4822383.700  4911103.1  5032931.8   \n",
       "\n",
       "        1994       1995       1996       1997       1998  ...       2002  \\\n",
       "0   242154.0   258347.5   284782.9   300547.3   312289.1  ...   332266.9   \n",
       "1  3058241.3  3320285.2  3463089.1  3469510.0  3324344.5  ...  3694242.1   \n",
       "2   864931.6   920046.6  1002224.1  1043939.9  1071911.8  ...  1226791.2   \n",
       "3  1701132.3  1634312.2  1615804.9  1528849.3  1498343.5  ...  1557660.9   \n",
       "4   337576.7   353458.5   358639.9   371327.8   372218.8  ...   347686.6   \n",
       "5  5098475.8  5138009.7  5260696.5  5375235.3  5410918.9  ...  5648727.5   \n",
       "\n",
       "        2003       2004       2005       2006       2007       2008  \\\n",
       "0   321621.6   337826.0   347308.9   347668.3   363212.7   387675.2   \n",
       "1  4525177.0  5288166.0  5790017.0  6414463.1  6791804.7  7035443.9   \n",
       "2  1281913.5  1348524.6  1411127.6  1504364.7  1611199.1  1793075.0   \n",
       "3  1604968.9  1602955.7  1615687.5  1669618.1  1667597.6  1715639.0   \n",
       "4   380810.6   424774.3   391819.0   422445.7   440989.8   469090.0   \n",
       "5  5679222.2  5763456.9  5795161.8  5703871.8  5794923.4  5622464.4   \n",
       "\n",
       "        2009       2010       2011  \n",
       "0   367147.4   419754.2   439412.9  \n",
       "1  7692210.9  8256969.2  9019518.2  \n",
       "2  1965820.0  1950950.3  2074344.9  \n",
       "3  1574367.8  1742540.1  1808073.0  \n",
       "4   477806.4   454950.0   477241.7  \n",
       "5  5274132.4  5408869.0  5305569.6  \n",
       "\n",
       "[6 rows x 23 columns]"
      ]
     },
     "execution_count": 32,
     "metadata": {},
     "output_type": "execute_result"
    }
   ],
   "source": [
    "Line_graph = Top_6_continent.groupby('Country')[('1990', '1991', '1992', '1993', '1994', '1995', '1996', '1997', '1998', '1999', '2000', '2001', '2002', '2003', '2004', '2005', '2006', '2007', '2008', '2009', '2010', '2011')].apply(lambda x : x.astype(float).sum()).reset_index().groupby('Country')[('1990', '1991', '1992', '1993', '1994', '1995', '1996', '1997', '1998', '1999', '2000', '2001', '2002', '2003', '2004', '2005', '2006', '2007', '2008', '2009', '2010', '2011')].apply(lambda x : x.astype(float).sum()).reset_index()\n",
    "Line_graph"
   ]
  },
  {
   "cell_type": "code",
   "execution_count": 33,
   "metadata": {},
   "outputs": [
    {
     "data": {
      "image/png": "[encoded data removed]",
      "text/plain": [
       "<Figure size 1440x720 with 1 Axes>"
      ]
     },
     "metadata": {
      "needs_background": "light"
     },
     "output_type": "display_data"
    }
   ],
   "source": [
    "line_graph = Line_graph.set_index(\"Country\").T\n",
    "\n",
    "# fig, ax = plt.subplots(figsize = (10,4))\n",
    "fig, ax = plt.subplots(figsize=(20,10))\n",
    "ax.set_title('line graph showing C02 emissions of Countries')\n",
    "ax.set_ylabel('Emissions')\n",
    "ax.set_xlabel(\"Year\")\n",
    "_ = line_graph.plot(ax=ax,linestyle='--', marker='o')"
   ]
  },
  {
   "cell_type": "markdown",
   "metadata": {},
   "source": [
    "* Brazil and South Africa has slightly increasing trend over the years until 2011\n",
    "* India has also  been increasing at a constant rate over years until 2011\n",
    "* Rusian Federation has been almost at a consitant from 1995 until 2011, droping from 1992\n",
    "* USA has been increasing then later slighty dropped until 2011\n",
    "* China has a rapid increasing trend from 1990 to 2011, surpassing USA after 2005, USA has been leading until 2005\n"
   ]
  },
  {
   "cell_type": "markdown",
   "metadata": {},
   "source": [
    " "
   ]
  },
  {
   "cell_type": "markdown",
   "metadata": {},
   "source": [
    "# 8. The mean and standard deviation for land area covered by forest in 1990"
   ]
  },
  {
   "cell_type": "code",
   "execution_count": 34,
   "metadata": {},
   "outputs": [
    {
     "name": "stdout",
     "output_type": "stream",
     "text": [
      "Standard deviation for land area covered by forest in 1990 =  25.497512099375246\n",
      "mean for land area covered by forest in 1990 =  32.97713004484306\n"
     ]
    }
   ],
   "source": [
    "new_mdg_proportion_of_land['1990']\n",
    "stand_dev = new_mdg_proportion_of_land['1990'].std()\n",
    "print(\"Standard deviation for land area covered by forest in 1990 = \", stand_dev)\n",
    "mean = new_mdg_proportion_of_land['1990'].mean()\n",
    "print(\"mean for land area covered by forest in 1990 = \",mean)"
   ]
  },
  {
   "cell_type": "markdown",
   "metadata": {},
   "source": [
    "# 9. Histograms for land area covered by forest and percentage of area protected in 1990"
   ]
  },
  {
   "cell_type": "code",
   "execution_count": 35,
   "metadata": {},
   "outputs": [
    {
     "data": {
      "text/html": [
       "<div>\n",
       "<style scoped>\n",
       "    .dataframe tbody tr th:only-of-type {\n",
       "        vertical-align: middle;\n",
       "    }\n",
       "\n",
       "    .dataframe tbody tr th {\n",
       "        vertical-align: top;\n",
       "    }\n",
       "\n",
       "    .dataframe thead th {\n",
       "        text-align: right;\n",
       "    }\n",
       "</style>\n",
       "<table border=\"1\" class=\"dataframe\">\n",
       "  <thead>\n",
       "    <tr style=\"text-align: right;\">\n",
       "      <th></th>\n",
       "      <th>Country</th>\n",
       "      <th>1990</th>\n",
       "    </tr>\n",
       "  </thead>\n",
       "  <tbody>\n",
       "    <tr>\n",
       "      <td>0</td>\n",
       "      <td>Afghanistan</td>\n",
       "      <td>2.1</td>\n",
       "    </tr>\n",
       "    <tr>\n",
       "      <td>1</td>\n",
       "      <td>Albania</td>\n",
       "      <td>28.8</td>\n",
       "    </tr>\n",
       "    <tr>\n",
       "      <td>2</td>\n",
       "      <td>Algeria</td>\n",
       "      <td>0.7</td>\n",
       "    </tr>\n",
       "    <tr>\n",
       "      <td>3</td>\n",
       "      <td>American Samoa</td>\n",
       "      <td>90.0</td>\n",
       "    </tr>\n",
       "    <tr>\n",
       "      <td>4</td>\n",
       "      <td>Andorra</td>\n",
       "      <td>35.6</td>\n",
       "    </tr>\n",
       "  </tbody>\n",
       "</table>\n",
       "</div>"
      ],
      "text/plain": [
       "          Country  1990\n",
       "0     Afghanistan   2.1\n",
       "1         Albania  28.8\n",
       "2         Algeria   0.7\n",
       "3  American Samoa  90.0\n",
       "4         Andorra  35.6"
      ]
     },
     "execution_count": 35,
     "metadata": {},
     "output_type": "execute_result"
    }
   ],
   "source": [
    "land_by_forest_1990 = new_mdg_proportion_of_land.loc[:, ('Country', '1990')].reset_index(drop=True)\n",
    "land_by_forest_1990.head()"
   ]
  },
  {
   "cell_type": "code",
   "execution_count": 36,
   "metadata": {},
   "outputs": [
    {
     "data": {
      "text/html": [
       "<div>\n",
       "<style scoped>\n",
       "    .dataframe tbody tr th:only-of-type {\n",
       "        vertical-align: middle;\n",
       "    }\n",
       "\n",
       "    .dataframe tbody tr th {\n",
       "        vertical-align: top;\n",
       "    }\n",
       "\n",
       "    .dataframe thead th {\n",
       "        text-align: right;\n",
       "    }\n",
       "</style>\n",
       "<table border=\"1\" class=\"dataframe\">\n",
       "  <thead>\n",
       "    <tr style=\"text-align: right;\">\n",
       "      <th></th>\n",
       "      <th>Country</th>\n",
       "      <th>1990</th>\n",
       "    </tr>\n",
       "  </thead>\n",
       "  <tbody>\n",
       "    <tr>\n",
       "      <td>0</td>\n",
       "      <td>Afghanistan</td>\n",
       "      <td>0.36</td>\n",
       "    </tr>\n",
       "    <tr>\n",
       "      <td>1</td>\n",
       "      <td>Albania</td>\n",
       "      <td>0.15</td>\n",
       "    </tr>\n",
       "    <tr>\n",
       "      <td>2</td>\n",
       "      <td>Algeria</td>\n",
       "      <td>5.97</td>\n",
       "    </tr>\n",
       "    <tr>\n",
       "      <td>3</td>\n",
       "      <td>American Samoa</td>\n",
       "      <td>0.06</td>\n",
       "    </tr>\n",
       "    <tr>\n",
       "      <td>4</td>\n",
       "      <td>Andorra</td>\n",
       "      <td>5.53</td>\n",
       "    </tr>\n",
       "  </tbody>\n",
       "</table>\n",
       "</div>"
      ],
      "text/plain": [
       "          Country  1990\n",
       "0     Afghanistan  0.36\n",
       "1         Albania  0.15\n",
       "2         Algeria  5.97\n",
       "3  American Samoa  0.06\n",
       "4         Andorra  5.53"
      ]
     },
     "execution_count": 36,
     "metadata": {},
     "output_type": "execute_result"
    }
   ],
   "source": [
    "protected_area_1990 = new_mdg_terrestrail.loc[:, ('Country', '1990')].reset_index(drop=True)\n",
    "protected_area_1990.head()"
   ]
  },
  {
   "cell_type": "code",
   "execution_count": 37,
   "metadata": {},
   "outputs": [
    {
     "data": {
      "image/png": "[encoded data removed]",
      "text/plain": [
       "<Figure size 576x288 with 1 Axes>"
      ]
     },
     "metadata": {
      "needs_background": "light"
     },
     "output_type": "display_data"
    }
   ],
   "source": [
    "#Defining the measures of central tendency\n",
    "mean = protected_area_1990.mean()\n",
    "median = protected_area_1990.median()\n",
    "fig, axes = plt.subplots(1, 1, figsize=(8, 4))\n",
    "protected_area_1990 = np.random.gamma(6, 0.4, 1000)\n",
    "#new_df = np.random.gamma(1000)\n",
    "\n",
    "#Showing values specific points on coordinate axis \n",
    "plt.xticks(fontsize = 15)\n",
    "plt.yticks(fontsize = 15)\n",
    "\n",
    "#Showing specific labels on coordinate axis\n",
    "plt.xlabel('Protected land', fontsize = 15)\n",
    "plt.ylabel('Frequency', fontsize = 15)\n",
    "\n",
    "\n",
    "#Showing plot title\n",
    "plt.title('Histogram For Protected Land',fontsize = 15)\n",
    "\n",
    "plot = plt.hist(protected_area_1990.astype(float), bins = 20,\n",
    "                color='cyan',edgecolor = 'k', alpha = 0.65)\n",
    "\n"
   ]
  },
  {
   "cell_type": "code",
   "execution_count": 38,
   "metadata": {},
   "outputs": [
    {
     "data": {
      "image/png": "[encoded data removed]",
      "text/plain": [
       "<Figure size 576x288 with 1 Axes>"
      ]
     },
     "metadata": {
      "needs_background": "light"
     },
     "output_type": "display_data"
    }
   ],
   "source": [
    "#Defining the measures of central tendency\n",
    "mean = land_by_forest_1990.mean()\n",
    "median = land_by_forest_1990.median()\n",
    "fig, axes = plt.subplots(1, 1, figsize=(8, 4))\n",
    "land_by_forest_1990 = np.random.gamma(6, 0.4, 1000)\n",
    "#new_df = np.random.gamma(1000)\n",
    "\n",
    "#Showing values specific points on coordinate axis \n",
    "plt.xticks(fontsize = 15)\n",
    "plt.yticks(fontsize = 15)\n",
    "\n",
    "#Showing specific labels on coordinate axis\n",
    "plt.xlabel('Forest Covered Land', fontsize = 15)\n",
    "plt.ylabel('Frequency', fontsize = 15)\n",
    "\n",
    "\n",
    "#Showing plot title\n",
    "plt.title('Histogram for Forest Covered Land',fontsize = 15)\n",
    "\n",
    "plot = plt.hist(protected_area_1990.astype(float), \n",
    "                bins = 20, color='blue',edgecolor = 'k', alpha = 0.65)"
   ]
  },
  {
   "cell_type": "markdown",
   "metadata": {},
   "source": [
    " "
   ]
  },
  {
   "cell_type": "markdown",
   "metadata": {},
   "source": [
    "# 10. Scatterplot with a regression line using seaborn.regplot to show the relationship between the proportion of land area covered by forest and the percentage of area protected by land in 2000"
   ]
  },
  {
   "cell_type": "code",
   "execution_count": 39,
   "metadata": {},
   "outputs": [
    {
     "data": {
      "image/png": "[encoded data removed]",
      "text/plain": [
       "<Figure size 432x288 with 1 Axes>"
      ]
     },
     "metadata": {
      "needs_background": "light"
     },
     "output_type": "display_data"
    }
   ],
   "source": [
    "\n",
    "#regression plot \n",
    "ax= sns.regplot(x=new_mdg_proportion_of_land[\"2000\"].astype(float), y=new_mdg_terrestrail[\"2000\"].astype(float))\n",
    "ax.set(xlabel=' Propotion of protected land in 2000', ylabel='Proportion of land area covered by forest')\n",
    "plt.show()"
   ]
  },
  {
   "cell_type": "markdown",
   "metadata": {},
   "source": [
    "* The scatter plot show slightly positive relationship between protected land and land area covered by forest\n",
    "* There's evedidence of extreme values/outliers within the scatter plot\n",
    "* Due to the weak relationship, the data is more spread out which is why we have existing extreme values"
   ]
  },
  {
   "cell_type": "markdown",
   "metadata": {},
   "source": [
    "# 11.log transform variables in order to calculate a correlation coefficient. Log transform variables and show the transformed distributions in a histogram."
   ]
  },
  {
   "cell_type": "code",
   "execution_count": 40,
   "metadata": {},
   "outputs": [],
   "source": [
    "protected_area_log =  np.log10(new_mdg_terrestrail[\"2000\"].astype(float).reset_index(drop=True))\n",
    "forest_covered_land_log = np.log10(new_mdg_proportion_of_land[\"2000\"].astype(float).reset_index(drop=True))\n",
    "\n",
    "#replacing inf with zero to keep the length of both datasets equal\n",
    "from numpy import inf\n",
    "protected_area_log[protected_area_log == -inf] = 0\n",
    "forest_covered_land_log[forest_covered_land_log == -inf] = 0"
   ]
  },
  {
   "cell_type": "code",
   "execution_count": 41,
   "metadata": {},
   "outputs": [
    {
     "data": {
      "image/png": "[encoded data removed]",
      "text/plain": [
       "<Figure size 432x288 with 1 Axes>"
      ]
     },
     "metadata": {
      "needs_background": "light"
     },
     "output_type": "display_data"
    }
   ],
   "source": [
    "x = protected_area_log\n",
    "y = forest_covered_land_log\n",
    "\n",
    "from matplotlib import pyplot\n",
    "bins = np.linspace(-2.5, 2.5, 18)\n",
    "\n",
    "pyplot.hist(x, bins, alpha=1, label='protected_log')\n",
    "pyplot.hist(y, bins, alpha=1, label='forest_log')\n",
    "pyplot.legend(loc='upper left')\n",
    "pyplot.show()"
   ]
  },
  {
   "cell_type": "code",
   "execution_count": 42,
   "metadata": {},
   "outputs": [
    {
     "data": {
      "text/plain": [
       "-0.05167984690871535"
      ]
     },
     "execution_count": 42,
     "metadata": {},
     "output_type": "execute_result"
    }
   ],
   "source": [
    "correlation = forest_covered_land_log.corr(protected_area_log) \n",
    "correlation"
   ]
  },
  {
   "cell_type": "markdown",
   "metadata": {},
   "source": [
    "* The correlation value shows that there's weak relationship between protected area and land covered by forest in 2000\n"
   ]
  },
  {
   "cell_type": "markdown",
   "metadata": {},
   "source": [
    " "
   ]
  },
  {
   "cell_type": "markdown",
   "metadata": {},
   "source": [
    "# 12. Using the pearsonr function to calculate the Pearson correlation coefficient (and its corresponding p value) to determine the nature of the relationship between proportion of land area covered by forest and the percentage of area protected (as measured in 1990 and log transformed)."
   ]
  },
  {
   "cell_type": "markdown",
   "metadata": {},
   "source": [
    "**Hypothesis Testing**\n",
    "\n",
    "* **Null hypothesis** - There is significant relationship between **protected area** and **Land covered by forest**\n",
    "* **Alternate hypothesis** - There is no significant relationship between **protected area** and **Land covered by forest**"
   ]
  },
  {
   "cell_type": "markdown",
   "metadata": {},
   "source": [
    "#### Log Transformed"
   ]
  },
  {
   "cell_type": "markdown",
   "metadata": {},
   "source": [
    "* **P values of log transformed** "
   ]
  },
  {
   "cell_type": "code",
   "execution_count": 43,
   "metadata": {},
   "outputs": [],
   "source": [
    "from scipy.stats.stats import pearsonr\n",
    "from scipy.stats.stats import spearmanr"
   ]
  },
  {
   "cell_type": "code",
   "execution_count": 44,
   "metadata": {},
   "outputs": [
    {
     "name": "stdout",
     "output_type": "stream",
     "text": [
      "•The p-values of transformed forest and protected land = (-0.0516798469087153, 0.44253418184782095)\n"
     ]
    }
   ],
   "source": [
    "print(f'•The p-values of transformed data =', pearsonr(x,y))"
   ]
  },
  {
   "cell_type": "markdown",
   "metadata": {},
   "source": [
    "* **Spearman of log transformed** "
   ]
  },
  {
   "cell_type": "code",
   "execution_count": 46,
   "metadata": {},
   "outputs": [
    {
     "name": "stdout",
     "output_type": "stream",
     "text": [
      "•Results for log transformed data  SpearmanrResult(correlation=0.020386789948164157, pvalue=0.7620725790841409)\n"
     ]
    }
   ],
   "source": [
    "print(f'•Results for log transformed data ', spearmanr(x,y))\n"
   ]
  },
  {
   "cell_type": "markdown",
   "metadata": {},
   "source": [
    "#### 1990 data\n"
   ]
  },
  {
   "cell_type": "markdown",
   "metadata": {},
   "source": [
    "* **P values of 1990** "
   ]
  },
  {
   "cell_type": "code",
   "execution_count": 48,
   "metadata": {},
   "outputs": [
    {
     "name": "stdout",
     "output_type": "stream",
     "text": [
      "•The p-values of 1990 data = (0.05942550355603854, 0.3771251547433263)\n"
     ]
    }
   ],
   "source": [
    "X = new_mdg_terrestrail[\"1990\"]\n",
    "Y = new_mdg_proportion_of_land[\"1990\"]\n",
    "\n",
    "print(f'•The p-values of 1990 data =', pearsonr(X,Y))"
   ]
  },
  {
   "cell_type": "markdown",
   "metadata": {},
   "source": [
    "* **Spearman of log transformed**"
   ]
  },
  {
   "cell_type": "code",
   "execution_count": 49,
   "metadata": {},
   "outputs": [
    {
     "name": "stdout",
     "output_type": "stream",
     "text": [
      "•Results for log transformed data  SpearmanrResult(correlation=-0.026829850964664028, pvalue=0.6902799173597335)\n"
     ]
    }
   ],
   "source": [
    "print(f'•Results for log transformed data ', spearmanr(X,Y))"
   ]
  },
  {
   "cell_type": "code",
   "execution_count": null,
   "metadata": {},
   "outputs": [],
   "source": []
  }
 ],
 "metadata": {
  "kernelspec": {
   "display_name": "Python 3",
   "language": "python",
   "name": "python3"
  },
  "language_info": {
   "codemirror_mode": {
    "name": "ipython",
    "version": 3
   },
   "file_extension": ".py",
   "mimetype": "text/x-python",
   "name": "python",
   "nbconvert_exporter": "python",
   "pygments_lexer": "ipython3",
   "version": "3.7.4"
  }
 },
 "nbformat": 4,
 "nbformat_minor": 2
}

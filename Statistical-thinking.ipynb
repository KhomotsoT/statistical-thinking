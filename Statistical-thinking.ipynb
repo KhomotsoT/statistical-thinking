{
 "cells": [
  {
   "cell_type": "markdown",
   "metadata": {},
   "source": [
    " #                                                  STATISTICAL THINKING"
   ]
  },
  {
   "cell_type": "markdown",
   "metadata": {},
   "source": [
    "## Introduction\n",
    "The Millennium Development Goals were a set of 8 goals for 2015 that were defined by the United Nations to help improve living conditions and the conditions of our planet. Key indicators were defined for each of these goals, to see whether they were being met. We will have a look at some of the key indicators from Goal 7: Ensure environmental sustainability, namely carbon dioxide emissions, protected land and sea areas, and forests.\n",
    "\n",
    "* We will explore the dataset provided and analyse the polution behaviours of the countries over the past years."
   ]
  },
  {
   "cell_type": "code",
   "execution_count": 1,
   "metadata": {},
   "outputs": [],
   "source": [
    "import pandas as pd\n",
    "import seaborn as sns\n",
    "import matplotlib.pyplot as plt\n",
    "import numpy as np\n",
    "import scipy.stats as stats\n",
    "from scipy.stats.stats import pearsonr\n",
    "\n",
    "import warnings\n",
    "warnings.filterwarnings('ignore')\n",
    "\n",
    "# # for displaying all columns\n",
    "\n",
    "sns.set()"
   ]
  },
  {
   "cell_type": "code",
   "execution_count": 2,
   "metadata": {},
   "outputs": [
    {
     "data": {
      "text/html": [
       "<div>\n",
       "<style scoped>\n",
       "    .dataframe tbody tr th:only-of-type {\n",
       "        vertical-align: middle;\n",
       "    }\n",
       "\n",
       "    .dataframe tbody tr th {\n",
       "        vertical-align: top;\n",
       "    }\n",
       "\n",
       "    .dataframe thead th {\n",
       "        text-align: right;\n",
       "    }\n",
       "</style>\n",
       "<table border=\"1\" class=\"dataframe\">\n",
       "  <thead>\n",
       "    <tr style=\"text-align: right;\">\n",
       "      <th></th>\n",
       "      <th>CountryCode</th>\n",
       "      <th>Country</th>\n",
       "      <th>SeriesCode</th>\n",
       "      <th>MDG</th>\n",
       "      <th>Series</th>\n",
       "      <th>1990</th>\n",
       "      <th>Footnotes</th>\n",
       "      <th>Type</th>\n",
       "      <th>1991</th>\n",
       "      <th>Footnotes.1</th>\n",
       "      <th>...</th>\n",
       "      <th>Type.26</th>\n",
       "      <th>2017</th>\n",
       "      <th>Footnotes.27</th>\n",
       "      <th>Type.27</th>\n",
       "      <th>2018</th>\n",
       "      <th>Footnotes.28</th>\n",
       "      <th>Type.28</th>\n",
       "      <th>2019</th>\n",
       "      <th>Footnotes.29</th>\n",
       "      <th>Type.29</th>\n",
       "    </tr>\n",
       "  </thead>\n",
       "  <tbody>\n",
       "    <tr>\n",
       "      <td>0</td>\n",
       "      <td>4</td>\n",
       "      <td>Afghanistan</td>\n",
       "      <td>567</td>\n",
       "      <td>Y</td>\n",
       "      <td>Proportion of land area covered by forest, per...</td>\n",
       "      <td>2.1</td>\n",
       "      <td>NaN</td>\n",
       "      <td>E</td>\n",
       "      <td></td>\n",
       "      <td></td>\n",
       "      <td>...</td>\n",
       "      <td></td>\n",
       "      <td></td>\n",
       "      <td></td>\n",
       "      <td></td>\n",
       "      <td></td>\n",
       "      <td></td>\n",
       "      <td></td>\n",
       "      <td></td>\n",
       "      <td></td>\n",
       "      <td></td>\n",
       "    </tr>\n",
       "    <tr>\n",
       "      <td>1</td>\n",
       "      <td>4</td>\n",
       "      <td>Afghanistan</td>\n",
       "      <td>749</td>\n",
       "      <td>Y</td>\n",
       "      <td>Carbon dioxide emissions (CO2), thousand metri...</td>\n",
       "      <td>2676.9</td>\n",
       "      <td>NaN</td>\n",
       "      <td>G</td>\n",
       "      <td>2493.6</td>\n",
       "      <td>NaN</td>\n",
       "      <td>...</td>\n",
       "      <td></td>\n",
       "      <td></td>\n",
       "      <td></td>\n",
       "      <td></td>\n",
       "      <td></td>\n",
       "      <td></td>\n",
       "      <td></td>\n",
       "      <td></td>\n",
       "      <td></td>\n",
       "      <td></td>\n",
       "    </tr>\n",
       "    <tr>\n",
       "      <td>2</td>\n",
       "      <td>4</td>\n",
       "      <td>Afghanistan</td>\n",
       "      <td>616</td>\n",
       "      <td>Y</td>\n",
       "      <td>Terrestrial and marine areas protected to tota...</td>\n",
       "      <td>0.36</td>\n",
       "      <td>NaN</td>\n",
       "      <td>C</td>\n",
       "      <td></td>\n",
       "      <td></td>\n",
       "      <td>...</td>\n",
       "      <td></td>\n",
       "      <td></td>\n",
       "      <td></td>\n",
       "      <td></td>\n",
       "      <td></td>\n",
       "      <td></td>\n",
       "      <td></td>\n",
       "      <td></td>\n",
       "      <td></td>\n",
       "      <td></td>\n",
       "    </tr>\n",
       "    <tr>\n",
       "      <td>3</td>\n",
       "      <td>8</td>\n",
       "      <td>Albania</td>\n",
       "      <td>567</td>\n",
       "      <td>Y</td>\n",
       "      <td>Proportion of land area covered by forest, per...</td>\n",
       "      <td>28.8</td>\n",
       "      <td>NaN</td>\n",
       "      <td>C</td>\n",
       "      <td></td>\n",
       "      <td></td>\n",
       "      <td>...</td>\n",
       "      <td></td>\n",
       "      <td></td>\n",
       "      <td></td>\n",
       "      <td></td>\n",
       "      <td></td>\n",
       "      <td></td>\n",
       "      <td></td>\n",
       "      <td></td>\n",
       "      <td></td>\n",
       "      <td></td>\n",
       "    </tr>\n",
       "    <tr>\n",
       "      <td>4</td>\n",
       "      <td>8</td>\n",
       "      <td>Albania</td>\n",
       "      <td>749</td>\n",
       "      <td>Y</td>\n",
       "      <td>Carbon dioxide emissions (CO2), thousand metri...</td>\n",
       "      <td>7488</td>\n",
       "      <td>NaN</td>\n",
       "      <td>G</td>\n",
       "      <td>3971.4</td>\n",
       "      <td>NaN</td>\n",
       "      <td>...</td>\n",
       "      <td></td>\n",
       "      <td></td>\n",
       "      <td></td>\n",
       "      <td></td>\n",
       "      <td></td>\n",
       "      <td></td>\n",
       "      <td></td>\n",
       "      <td></td>\n",
       "      <td></td>\n",
       "      <td></td>\n",
       "    </tr>\n",
       "  </tbody>\n",
       "</table>\n",
       "<p>5 rows × 95 columns</p>\n",
       "</div>"
      ],
      "text/plain": [
       "   CountryCode      Country  SeriesCode MDG  \\\n",
       "0            4  Afghanistan         567   Y   \n",
       "1            4  Afghanistan         749   Y   \n",
       "2            4  Afghanistan         616   Y   \n",
       "3            8      Albania         567   Y   \n",
       "4            8      Albania         749   Y   \n",
       "\n",
       "                                              Series    1990 Footnotes Type  \\\n",
       "0  Proportion of land area covered by forest, per...     2.1       NaN    E   \n",
       "1  Carbon dioxide emissions (CO2), thousand metri...  2676.9       NaN    G   \n",
       "2  Terrestrial and marine areas protected to tota...    0.36       NaN    C   \n",
       "3  Proportion of land area covered by forest, per...    28.8       NaN    C   \n",
       "4  Carbon dioxide emissions (CO2), thousand metri...    7488       NaN    G   \n",
       "\n",
       "     1991 Footnotes.1  ... Type.26 2017 Footnotes.27 Type.27 2018  \\\n",
       "0                      ...                                          \n",
       "1  2493.6         NaN  ...                                          \n",
       "2                      ...                                          \n",
       "3                      ...                                          \n",
       "4  3971.4         NaN  ...                                          \n",
       "\n",
       "  Footnotes.28 Type.28 2019 Footnotes.29 Type.29  \n",
       "0                                                 \n",
       "1                                                 \n",
       "2                                                 \n",
       "3                                                 \n",
       "4                                                 \n",
       "\n",
       "[5 rows x 95 columns]"
      ]
     },
     "execution_count": 2,
     "metadata": {},
     "output_type": "execute_result"
    }
   ],
   "source": [
    "mdg_data = pd.read_csv(\"mdg.csv\")\n",
    "mdg_data.head()"
   ]
  },
  {
   "cell_type": "code",
   "execution_count": 3,
   "metadata": {},
   "outputs": [
    {
     "data": {
      "text/plain": [
       "(690, 95)"
      ]
     },
     "execution_count": 3,
     "metadata": {},
     "output_type": "execute_result"
    }
   ],
   "source": [
    "mdg_data.shape"
   ]
  },
  {
   "cell_type": "markdown",
   "metadata": {},
   "source": [
    " The Dataframe has 690 rows and 95 Columns"
   ]
  },
  {
   "cell_type": "markdown",
   "metadata": {},
   "source": [
    " "
   ]
  },
  {
   "cell_type": "markdown",
   "metadata": {},
   "source": [
    " "
   ]
  },
  {
   "cell_type": "markdown",
   "metadata": {},
   "source": [
    " # MISSING VALUES"
   ]
  },
  {
   "cell_type": "code",
   "execution_count": 4,
   "metadata": {},
   "outputs": [
    {
     "data": {
      "text/html": [
       "<div>\n",
       "<style scoped>\n",
       "    .dataframe tbody tr th:only-of-type {\n",
       "        vertical-align: middle;\n",
       "    }\n",
       "\n",
       "    .dataframe tbody tr th {\n",
       "        vertical-align: top;\n",
       "    }\n",
       "\n",
       "    .dataframe thead th {\n",
       "        text-align: right;\n",
       "    }\n",
       "</style>\n",
       "<table border=\"1\" class=\"dataframe\">\n",
       "  <thead>\n",
       "    <tr style=\"text-align: right;\">\n",
       "      <th></th>\n",
       "      <th>CountryCode</th>\n",
       "      <th>Country</th>\n",
       "      <th>SeriesCode</th>\n",
       "      <th>MDG</th>\n",
       "      <th>Series</th>\n",
       "      <th>1990</th>\n",
       "      <th>Footnotes</th>\n",
       "      <th>Type</th>\n",
       "      <th>1991</th>\n",
       "      <th>Footnotes.1</th>\n",
       "      <th>...</th>\n",
       "      <th>Type.26</th>\n",
       "      <th>2017</th>\n",
       "      <th>Footnotes.27</th>\n",
       "      <th>Type.27</th>\n",
       "      <th>2018</th>\n",
       "      <th>Footnotes.28</th>\n",
       "      <th>Type.28</th>\n",
       "      <th>2019</th>\n",
       "      <th>Footnotes.29</th>\n",
       "      <th>Type.29</th>\n",
       "    </tr>\n",
       "  </thead>\n",
       "  <tbody>\n",
       "    <tr>\n",
       "      <td>0</td>\n",
       "      <td>4</td>\n",
       "      <td>Afghanistan</td>\n",
       "      <td>567</td>\n",
       "      <td>Y</td>\n",
       "      <td>Proportion of land area covered by forest, per...</td>\n",
       "      <td>2.1</td>\n",
       "      <td>NaN</td>\n",
       "      <td>E</td>\n",
       "      <td>NaN</td>\n",
       "      <td>NaN</td>\n",
       "      <td>...</td>\n",
       "      <td>NaN</td>\n",
       "      <td>NaN</td>\n",
       "      <td>NaN</td>\n",
       "      <td>NaN</td>\n",
       "      <td>NaN</td>\n",
       "      <td>NaN</td>\n",
       "      <td>NaN</td>\n",
       "      <td>NaN</td>\n",
       "      <td>NaN</td>\n",
       "      <td>NaN</td>\n",
       "    </tr>\n",
       "    <tr>\n",
       "      <td>1</td>\n",
       "      <td>4</td>\n",
       "      <td>Afghanistan</td>\n",
       "      <td>749</td>\n",
       "      <td>Y</td>\n",
       "      <td>Carbon dioxide emissions (CO2), thousand metri...</td>\n",
       "      <td>2676.9</td>\n",
       "      <td>NaN</td>\n",
       "      <td>G</td>\n",
       "      <td>2493.6</td>\n",
       "      <td>NaN</td>\n",
       "      <td>...</td>\n",
       "      <td>NaN</td>\n",
       "      <td>NaN</td>\n",
       "      <td>NaN</td>\n",
       "      <td>NaN</td>\n",
       "      <td>NaN</td>\n",
       "      <td>NaN</td>\n",
       "      <td>NaN</td>\n",
       "      <td>NaN</td>\n",
       "      <td>NaN</td>\n",
       "      <td>NaN</td>\n",
       "    </tr>\n",
       "    <tr>\n",
       "      <td>2</td>\n",
       "      <td>4</td>\n",
       "      <td>Afghanistan</td>\n",
       "      <td>616</td>\n",
       "      <td>Y</td>\n",
       "      <td>Terrestrial and marine areas protected to tota...</td>\n",
       "      <td>0.36</td>\n",
       "      <td>NaN</td>\n",
       "      <td>C</td>\n",
       "      <td>NaN</td>\n",
       "      <td>NaN</td>\n",
       "      <td>...</td>\n",
       "      <td>NaN</td>\n",
       "      <td>NaN</td>\n",
       "      <td>NaN</td>\n",
       "      <td>NaN</td>\n",
       "      <td>NaN</td>\n",
       "      <td>NaN</td>\n",
       "      <td>NaN</td>\n",
       "      <td>NaN</td>\n",
       "      <td>NaN</td>\n",
       "      <td>NaN</td>\n",
       "    </tr>\n",
       "    <tr>\n",
       "      <td>3</td>\n",
       "      <td>8</td>\n",
       "      <td>Albania</td>\n",
       "      <td>567</td>\n",
       "      <td>Y</td>\n",
       "      <td>Proportion of land area covered by forest, per...</td>\n",
       "      <td>28.8</td>\n",
       "      <td>NaN</td>\n",
       "      <td>C</td>\n",
       "      <td>NaN</td>\n",
       "      <td>NaN</td>\n",
       "      <td>...</td>\n",
       "      <td>NaN</td>\n",
       "      <td>NaN</td>\n",
       "      <td>NaN</td>\n",
       "      <td>NaN</td>\n",
       "      <td>NaN</td>\n",
       "      <td>NaN</td>\n",
       "      <td>NaN</td>\n",
       "      <td>NaN</td>\n",
       "      <td>NaN</td>\n",
       "      <td>NaN</td>\n",
       "    </tr>\n",
       "    <tr>\n",
       "      <td>4</td>\n",
       "      <td>8</td>\n",
       "      <td>Albania</td>\n",
       "      <td>749</td>\n",
       "      <td>Y</td>\n",
       "      <td>Carbon dioxide emissions (CO2), thousand metri...</td>\n",
       "      <td>7488</td>\n",
       "      <td>NaN</td>\n",
       "      <td>G</td>\n",
       "      <td>3971.4</td>\n",
       "      <td>NaN</td>\n",
       "      <td>...</td>\n",
       "      <td>NaN</td>\n",
       "      <td>NaN</td>\n",
       "      <td>NaN</td>\n",
       "      <td>NaN</td>\n",
       "      <td>NaN</td>\n",
       "      <td>NaN</td>\n",
       "      <td>NaN</td>\n",
       "      <td>NaN</td>\n",
       "      <td>NaN</td>\n",
       "      <td>NaN</td>\n",
       "    </tr>\n",
       "  </tbody>\n",
       "</table>\n",
       "<p>5 rows × 95 columns</p>\n",
       "</div>"
      ],
      "text/plain": [
       "   CountryCode      Country  SeriesCode MDG  \\\n",
       "0            4  Afghanistan         567   Y   \n",
       "1            4  Afghanistan         749   Y   \n",
       "2            4  Afghanistan         616   Y   \n",
       "3            8      Albania         567   Y   \n",
       "4            8      Albania         749   Y   \n",
       "\n",
       "                                              Series    1990 Footnotes Type  \\\n",
       "0  Proportion of land area covered by forest, per...     2.1       NaN    E   \n",
       "1  Carbon dioxide emissions (CO2), thousand metri...  2676.9       NaN    G   \n",
       "2  Terrestrial and marine areas protected to tota...    0.36       NaN    C   \n",
       "3  Proportion of land area covered by forest, per...    28.8       NaN    C   \n",
       "4  Carbon dioxide emissions (CO2), thousand metri...    7488       NaN    G   \n",
       "\n",
       "     1991  Footnotes.1  ... Type.26 2017  Footnotes.27 Type.27 2018  \\\n",
       "0     NaN          NaN  ...     NaN  NaN           NaN     NaN  NaN   \n",
       "1  2493.6          NaN  ...     NaN  NaN           NaN     NaN  NaN   \n",
       "2     NaN          NaN  ...     NaN  NaN           NaN     NaN  NaN   \n",
       "3     NaN          NaN  ...     NaN  NaN           NaN     NaN  NaN   \n",
       "4  3971.4          NaN  ...     NaN  NaN           NaN     NaN  NaN   \n",
       "\n",
       "   Footnotes.28 Type.28 2019  Footnotes.29 Type.29  \n",
       "0           NaN     NaN  NaN           NaN     NaN  \n",
       "1           NaN     NaN  NaN           NaN     NaN  \n",
       "2           NaN     NaN  NaN           NaN     NaN  \n",
       "3           NaN     NaN  NaN           NaN     NaN  \n",
       "4           NaN     NaN  NaN           NaN     NaN  \n",
       "\n",
       "[5 rows x 95 columns]"
      ]
     },
     "execution_count": 4,
     "metadata": {},
     "output_type": "execute_result"
    }
   ],
   "source": [
    "#since there are empty cells. they need to be replaced with \"NaN\" before finding the some of missing values\n",
    "mdg_data = mdg_data.replace(r'^\\s*$', np.nan, regex=True)\n",
    "\n",
    "mdg_data.head()"
   ]
  },
  {
   "cell_type": "code",
   "execution_count": 5,
   "metadata": {},
   "outputs": [
    {
     "data": {
      "text/plain": [
       "CountryCode       0\n",
       "Country           0\n",
       "SeriesCode        0\n",
       "MDG               0\n",
       "Series            0\n",
       "               ... \n",
       "Footnotes.28    690\n",
       "Type.28         690\n",
       "2019            690\n",
       "Footnotes.29    690\n",
       "Type.29         690\n",
       "Length: 95, dtype: int64"
      ]
     },
     "execution_count": 5,
     "metadata": {},
     "output_type": "execute_result"
    }
   ],
   "source": [
    "# dealing with mising values\n",
    "mdg_data.isnull().sum()"
   ]
  },
  {
   "cell_type": "markdown",
   "metadata": {},
   "source": [
    " "
   ]
  },
  {
   "cell_type": "markdown",
   "metadata": {},
   "source": [
    " # CLEANING THE DATA"
   ]
  },
  {
   "cell_type": "code",
   "execution_count": 6,
   "metadata": {},
   "outputs": [
    {
     "data": {
      "text/html": [
       "<div>\n",
       "<style scoped>\n",
       "    .dataframe tbody tr th:only-of-type {\n",
       "        vertical-align: middle;\n",
       "    }\n",
       "\n",
       "    .dataframe tbody tr th {\n",
       "        vertical-align: top;\n",
       "    }\n",
       "\n",
       "    .dataframe thead th {\n",
       "        text-align: right;\n",
       "    }\n",
       "</style>\n",
       "<table border=\"1\" class=\"dataframe\">\n",
       "  <thead>\n",
       "    <tr style=\"text-align: right;\">\n",
       "      <th></th>\n",
       "      <th>CountryCode</th>\n",
       "      <th>Country</th>\n",
       "      <th>SeriesCode</th>\n",
       "      <th>MDG</th>\n",
       "      <th>Series</th>\n",
       "      <th>1990</th>\n",
       "      <th>Footnotes</th>\n",
       "      <th>Type</th>\n",
       "      <th>1991</th>\n",
       "      <th>Type.1</th>\n",
       "      <th>...</th>\n",
       "      <th>Type.18</th>\n",
       "      <th>2009</th>\n",
       "      <th>Type.19</th>\n",
       "      <th>2010</th>\n",
       "      <th>Footnotes.20</th>\n",
       "      <th>Type.20</th>\n",
       "      <th>2011</th>\n",
       "      <th>Type.21</th>\n",
       "      <th>2014</th>\n",
       "      <th>Type.24</th>\n",
       "    </tr>\n",
       "  </thead>\n",
       "  <tbody>\n",
       "    <tr>\n",
       "      <td>0</td>\n",
       "      <td>4</td>\n",
       "      <td>Afghanistan</td>\n",
       "      <td>567</td>\n",
       "      <td>Y</td>\n",
       "      <td>Proportion of land area covered by forest, per...</td>\n",
       "      <td>2.1</td>\n",
       "      <td>NaN</td>\n",
       "      <td>E</td>\n",
       "      <td>NaN</td>\n",
       "      <td>NaN</td>\n",
       "      <td>...</td>\n",
       "      <td>NaN</td>\n",
       "      <td>NaN</td>\n",
       "      <td>NaN</td>\n",
       "      <td>2.1</td>\n",
       "      <td>NaN</td>\n",
       "      <td>E</td>\n",
       "      <td>NaN</td>\n",
       "      <td>NaN</td>\n",
       "      <td>NaN</td>\n",
       "      <td>NaN</td>\n",
       "    </tr>\n",
       "    <tr>\n",
       "      <td>1</td>\n",
       "      <td>4</td>\n",
       "      <td>Afghanistan</td>\n",
       "      <td>749</td>\n",
       "      <td>Y</td>\n",
       "      <td>Carbon dioxide emissions (CO2), thousand metri...</td>\n",
       "      <td>2676.9</td>\n",
       "      <td>NaN</td>\n",
       "      <td>G</td>\n",
       "      <td>2493.6</td>\n",
       "      <td>G</td>\n",
       "      <td>...</td>\n",
       "      <td>G</td>\n",
       "      <td>6776.6</td>\n",
       "      <td>G</td>\n",
       "      <td>8470.8</td>\n",
       "      <td>NaN</td>\n",
       "      <td>G</td>\n",
       "      <td>12251.4</td>\n",
       "      <td>G</td>\n",
       "      <td>NaN</td>\n",
       "      <td>NaN</td>\n",
       "    </tr>\n",
       "    <tr>\n",
       "      <td>2</td>\n",
       "      <td>4</td>\n",
       "      <td>Afghanistan</td>\n",
       "      <td>616</td>\n",
       "      <td>Y</td>\n",
       "      <td>Terrestrial and marine areas protected to tota...</td>\n",
       "      <td>0.36</td>\n",
       "      <td>NaN</td>\n",
       "      <td>C</td>\n",
       "      <td>NaN</td>\n",
       "      <td>NaN</td>\n",
       "      <td>...</td>\n",
       "      <td>NaN</td>\n",
       "      <td>NaN</td>\n",
       "      <td>NaN</td>\n",
       "      <td>NaN</td>\n",
       "      <td>NaN</td>\n",
       "      <td>NaN</td>\n",
       "      <td>NaN</td>\n",
       "      <td>NaN</td>\n",
       "      <td>0.46</td>\n",
       "      <td>C</td>\n",
       "    </tr>\n",
       "    <tr>\n",
       "      <td>3</td>\n",
       "      <td>8</td>\n",
       "      <td>Albania</td>\n",
       "      <td>567</td>\n",
       "      <td>Y</td>\n",
       "      <td>Proportion of land area covered by forest, per...</td>\n",
       "      <td>28.8</td>\n",
       "      <td>NaN</td>\n",
       "      <td>C</td>\n",
       "      <td>NaN</td>\n",
       "      <td>NaN</td>\n",
       "      <td>...</td>\n",
       "      <td>NaN</td>\n",
       "      <td>NaN</td>\n",
       "      <td>NaN</td>\n",
       "      <td>28.3</td>\n",
       "      <td>NaN</td>\n",
       "      <td>C</td>\n",
       "      <td>NaN</td>\n",
       "      <td>NaN</td>\n",
       "      <td>NaN</td>\n",
       "      <td>NaN</td>\n",
       "    </tr>\n",
       "    <tr>\n",
       "      <td>4</td>\n",
       "      <td>8</td>\n",
       "      <td>Albania</td>\n",
       "      <td>749</td>\n",
       "      <td>Y</td>\n",
       "      <td>Carbon dioxide emissions (CO2), thousand metri...</td>\n",
       "      <td>7488</td>\n",
       "      <td>NaN</td>\n",
       "      <td>G</td>\n",
       "      <td>3971.4</td>\n",
       "      <td>G</td>\n",
       "      <td>...</td>\n",
       "      <td>G</td>\n",
       "      <td>4488.4</td>\n",
       "      <td>G</td>\n",
       "      <td>4415.1</td>\n",
       "      <td>NaN</td>\n",
       "      <td>G</td>\n",
       "      <td>4668.1</td>\n",
       "      <td>G</td>\n",
       "      <td>NaN</td>\n",
       "      <td>NaN</td>\n",
       "    </tr>\n",
       "  </tbody>\n",
       "</table>\n",
       "<p>5 rows × 55 columns</p>\n",
       "</div>"
      ],
      "text/plain": [
       "   CountryCode      Country  SeriesCode MDG  \\\n",
       "0            4  Afghanistan         567   Y   \n",
       "1            4  Afghanistan         749   Y   \n",
       "2            4  Afghanistan         616   Y   \n",
       "3            8      Albania         567   Y   \n",
       "4            8      Albania         749   Y   \n",
       "\n",
       "                                              Series    1990 Footnotes Type  \\\n",
       "0  Proportion of land area covered by forest, per...     2.1       NaN    E   \n",
       "1  Carbon dioxide emissions (CO2), thousand metri...  2676.9       NaN    G   \n",
       "2  Terrestrial and marine areas protected to tota...    0.36       NaN    C   \n",
       "3  Proportion of land area covered by forest, per...    28.8       NaN    C   \n",
       "4  Carbon dioxide emissions (CO2), thousand metri...    7488       NaN    G   \n",
       "\n",
       "     1991 Type.1  ... Type.18    2009 Type.19    2010 Footnotes.20 Type.20  \\\n",
       "0     NaN    NaN  ...     NaN     NaN     NaN     2.1          NaN       E   \n",
       "1  2493.6      G  ...       G  6776.6       G  8470.8          NaN       G   \n",
       "2     NaN    NaN  ...     NaN     NaN     NaN     NaN          NaN     NaN   \n",
       "3     NaN    NaN  ...     NaN     NaN     NaN    28.3          NaN       C   \n",
       "4  3971.4      G  ...       G  4488.4       G  4415.1          NaN       G   \n",
       "\n",
       "      2011 Type.21  2014 Type.24  \n",
       "0      NaN     NaN   NaN     NaN  \n",
       "1  12251.4       G   NaN     NaN  \n",
       "2      NaN     NaN  0.46       C  \n",
       "3      NaN     NaN   NaN     NaN  \n",
       "4   4668.1       G   NaN     NaN  \n",
       "\n",
       "[5 rows x 55 columns]"
      ]
     },
     "execution_count": 6,
     "metadata": {},
     "output_type": "execute_result"
    }
   ],
   "source": [
    "#since we have columns with 690 missing value, it means there is no data available along the columns.. therefore all columns with 690 missing values should be dropped\n",
    "mdg_drop_null = mdg_data.dropna(how='all', axis='columns')\n",
    "mdg_drop_null.head() "
   ]
  },
  {
   "cell_type": "code",
   "execution_count": 7,
   "metadata": {},
   "outputs": [
    {
     "data": {
      "text/plain": [
       "Index(['CountryCode', 'Country', 'SeriesCode', 'MDG', 'Series', '1990',\n",
       "       'Footnotes', 'Type', '1991', 'Type.1', '1992', 'Type.2', '1993',\n",
       "       'Type.3', '1994', 'Type.4', '1995', 'Type.5', '1996', 'Type.6', '1997',\n",
       "       'Type.7', '1998', 'Type.8', '1999', 'Type.9', '2000', 'Footnotes.10',\n",
       "       'Type.10', '2001', 'Type.11', '2002', 'Type.12', '2003', 'Type.13',\n",
       "       '2004', 'Type.14', '2005', 'Footnotes.15', 'Type.15', '2006', 'Type.16',\n",
       "       '2007', 'Type.17', '2008', 'Type.18', '2009', 'Type.19', '2010',\n",
       "       'Footnotes.20', 'Type.20', '2011', 'Type.21', '2014', 'Type.24'],\n",
       "      dtype='object')"
      ]
     },
     "execution_count": 7,
     "metadata": {},
     "output_type": "execute_result"
    }
   ],
   "source": [
    "mdg_drop_null.columns\n"
   ]
  },
  {
   "cell_type": "code",
   "execution_count": 8,
   "metadata": {},
   "outputs": [
    {
     "data": {
      "text/plain": [
       "Footnotes.10    685\n",
       "Footnotes       685\n",
       "Footnotes.20    685\n",
       "Footnotes.15    685\n",
       "Type.1          508\n",
       "1991            508\n",
       "Type.3          486\n",
       "1993            486\n",
       "Type.2          486\n",
       "1992            486\n",
       "1994            485\n",
       "Type.4          485\n",
       "1996            484\n",
       "Type.6          484\n",
       "1995            483\n",
       "Type.5          483\n",
       "Type.8          481\n",
       "1999            481\n",
       "Type.9          481\n",
       "Type.7          481\n",
       "1997            481\n",
       "1998            481\n",
       "Type.11         479\n",
       "2001            479\n",
       "Type.13         478\n",
       "2002            478\n",
       "2003            478\n",
       "2004            478\n",
       "Type.14         478\n",
       "Type.12         478\n",
       "Type.16         476\n",
       "2006            476\n",
       "2007            475\n",
       "Type.21         475\n",
       "2011            475\n",
       "2009            475\n",
       "Type.18         475\n",
       "2008            475\n",
       "Type.17         475\n",
       "Type.19         475\n",
       "Type.24         467\n",
       "2014            467\n",
       "2005            254\n",
       "Type.15         253\n",
       "2010            252\n",
       "Type.20         251\n",
       "1990             63\n",
       "Type             62\n",
       "2000             34\n",
       "Type.10          33\n",
       "Series            0\n",
       "MDG               0\n",
       "SeriesCode        0\n",
       "Country           0\n",
       "CountryCode       0\n",
       "dtype: int64"
      ]
     },
     "execution_count": 8,
     "metadata": {},
     "output_type": "execute_result"
    }
   ],
   "source": [
    "# New Dataframe missing values in descending order\n",
    "mdg_null_columns=mdg_drop_null.columns[mdg_drop_null.isnull().any()]\n",
    "mdg_drop_null[mdg_drop_null.columns].isnull().sum().sort_values(ascending=False)"
   ]
  },
  {
   "cell_type": "code",
   "execution_count": 9,
   "metadata": {},
   "outputs": [
    {
     "data": {
      "text/plain": [
       "Index(['CountryCode', 'Country', 'SeriesCode', 'MDG', 'Series', '1990', 'Type',\n",
       "       '1991', 'Type.1', '1992', 'Type.2', '1993', 'Type.3', '1994', 'Type.4',\n",
       "       '1995', 'Type.5', '1996', 'Type.6', '1997', 'Type.7', '1998', 'Type.8',\n",
       "       '1999', 'Type.9', '2000', 'Type.10', '2001', 'Type.11', '2002',\n",
       "       'Type.12', '2003', 'Type.13', '2004', 'Type.14', '2005', 'Type.15',\n",
       "       '2006', 'Type.16', '2007', 'Type.17', '2008', 'Type.18', '2009',\n",
       "       'Type.19', '2010', 'Type.20', '2011', 'Type.21', '2014', 'Type.24'],\n",
       "      dtype='object')"
      ]
     },
     "execution_count": 9,
     "metadata": {},
     "output_type": "execute_result"
    }
   ],
   "source": [
    "#droping Footnote columns to have consistancy in the data\n",
    "mdg_drop_null.columns.drop(['Footnotes','Footnotes.10','Footnotes.15','Footnotes.20'])\n"
   ]
  },
  {
   "cell_type": "code",
   "execution_count": 10,
   "metadata": {},
   "outputs": [
    {
     "data": {
      "text/plain": [
       "array(['Afghanistan', 'Albania', 'Algeria', 'American Samoa', 'Andorra',\n",
       "       'Angola', 'Anguilla', 'Antigua and Barbuda', 'Argentina',\n",
       "       'Armenia', 'Aruba', 'Australia', 'Austria', 'Azerbaijan',\n",
       "       'Bahamas', 'Bahrain', 'Bangladesh', 'Barbados', 'Belarus',\n",
       "       'Belgium', 'Belize', 'Benin', 'Bermuda', 'Bhutan', 'Bolivia',\n",
       "       'Bosnia and Herzegovina', 'Botswana', 'Brazil',\n",
       "       'British Virgin Islands', 'Brunei Darussalam', 'Bulgaria',\n",
       "       'Burkina Faso', 'Burundi', 'Cambodia', 'Cameroon', 'Canada',\n",
       "       'Cape Verde', 'Cayman Islands', 'Central African Republic', 'Chad',\n",
       "       'Chile', 'China', 'China, Hong Kong Special Administrative Region',\n",
       "       'China, Macao Special Administrative Region', 'Colombia',\n",
       "       'Comoros', 'Congo', 'Cook Islands', 'Costa Rica', \"Cote d'Ivoire\",\n",
       "       'Croatia', 'Cuba', 'Cyprus', 'Czech Republic',\n",
       "       'Democratic Republic of the Congo', 'Denmark', 'Djibouti',\n",
       "       'Dominica', 'Dominican Republic', 'Ecuador', 'Egypt',\n",
       "       'El Salvador', 'Equatorial Guinea', 'Eritrea', 'Estonia',\n",
       "       'Ethiopia', 'Faeroe Islands', 'Falkland Islands (Malvinas)',\n",
       "       'Fiji', 'Finland', 'France', 'French Guiana', 'French Polynesia',\n",
       "       'Gabon', 'Gambia', 'Georgia', 'Germany', 'Ghana', 'Gibraltar',\n",
       "       'Greece', 'Greenland', 'Grenada', 'Guadeloupe', 'Guam',\n",
       "       'Guatemala', 'Guinea', 'Guinea-Bissau', 'Guyana', 'Haiti',\n",
       "       'Honduras', 'Hungary', 'Iceland', 'India', 'Indonesia',\n",
       "       'Iran (Islamic Republic of)', 'Iraq', 'Ireland', 'Israel', 'Italy',\n",
       "       'Jamaica', 'Japan', 'Jordan', 'Kazakhstan', 'Kenya', 'Kiribati',\n",
       "       \"Korea, Democratic People's Republic of\", 'Korea, Republic of',\n",
       "       'Kuwait', 'Kyrgyzstan', \"Lao People's Democratic Republic\",\n",
       "       'Latvia', 'Lebanon', 'Lesotho', 'Liberia',\n",
       "       'Libyan Arab Jamahiriya', 'Liechtenstein', 'Lithuania',\n",
       "       'Luxembourg', 'Madagascar', 'Malawi', 'Malaysia', 'Maldives',\n",
       "       'Mali', 'Malta', 'Marshall Islands', 'Martinique', 'Mauritania',\n",
       "       'Mauritius', 'Mayotte', 'Mexico',\n",
       "       'Micronesia, Federated States of', 'Monaco', 'Mongolia',\n",
       "       'Montenegro', 'Montserrat', 'Morocco', 'Mozambique', 'Myanmar',\n",
       "       'Namibia', 'Nauru', 'Nepal', 'Netherlands', 'Netherlands Antilles',\n",
       "       'New Caledonia', 'New Zealand', 'Nicaragua', 'Niger', 'Nigeria',\n",
       "       'Niue', 'Northern Mariana Islands', 'Norway', 'Oman', 'Pakistan',\n",
       "       'Palau', 'Panama', 'Papua New Guinea', 'Paraguay', 'Peru',\n",
       "       'Philippines', 'Poland', 'Portugal', 'Puerto Rico', 'Qatar',\n",
       "       'Republic of Moldova', 'Reunion', 'Romania', 'Russian Federation',\n",
       "       'Rwanda', 'Saint Helena', 'Saint Kitts and Nevis', 'Saint Lucia',\n",
       "       'Saint Pierre and Miquelon', 'Saint Vincent and the Grenadines',\n",
       "       'Samoa', 'San Marino', 'Sao Tome and Principe', 'Saudi Arabia',\n",
       "       'Senegal', 'Serbia', 'Serbia and Montenegro', 'Seychelles',\n",
       "       'Sierra Leone', 'Singapore', 'Slovakia', 'Slovenia',\n",
       "       'Solomon Islands', 'Somalia', 'South Africa', 'South Sudan',\n",
       "       'Spain', 'Sri Lanka', 'State of Palestine', 'Sudan',\n",
       "       'Sudan (former)', 'Suriname', 'Swaziland', 'Sweden', 'Switzerland',\n",
       "       'Syrian Arab Republic', 'Tajikistan', 'Thailand',\n",
       "       'The former Yugoslav Republic of Macedonia', 'Timor-Leste', 'Togo',\n",
       "       'Tokelau', 'Tonga', 'Trinidad and Tobago', 'Tunisia', 'Turkey',\n",
       "       'Turkmenistan', 'Turks and Caicos Islands', 'Tuvalu', 'Uganda',\n",
       "       'Ukraine', 'United Arab Emirates', 'United Kingdom',\n",
       "       'United Republic of Tanzania', 'United States',\n",
       "       'United States Virgin Islands', 'Uruguay', 'Uzbekistan', 'Vanuatu',\n",
       "       'Venezuela', 'Viet Nam', 'Wallis and Futuna Islands',\n",
       "       'Western Sahara', 'Yemen',\n",
       "       'Yugoslavia [former Socialist Federal Republic]', 'Zambia',\n",
       "       'Zimbabwe'], dtype=object)"
      ]
     },
     "execution_count": 10,
     "metadata": {},
     "output_type": "execute_result"
    }
   ],
   "source": [
    "mdg_data.Country.unique()\n"
   ]
  },
  {
   "cell_type": "markdown",
   "metadata": {},
   "source": [
    "#### Filling all null values with average per country"
   ]
  },
  {
   "cell_type": "code",
   "execution_count": 11,
   "metadata": {},
   "outputs": [
    {
     "data": {
      "text/html": [
       "<div>\n",
       "<style scoped>\n",
       "    .dataframe tbody tr th:only-of-type {\n",
       "        vertical-align: middle;\n",
       "    }\n",
       "\n",
       "    .dataframe tbody tr th {\n",
       "        vertical-align: top;\n",
       "    }\n",
       "\n",
       "    .dataframe thead th {\n",
       "        text-align: right;\n",
       "    }\n",
       "</style>\n",
       "<table border=\"1\" class=\"dataframe\">\n",
       "  <thead>\n",
       "    <tr style=\"text-align: right;\">\n",
       "      <th></th>\n",
       "      <th>CountryCode</th>\n",
       "      <th>Country</th>\n",
       "      <th>SeriesCode</th>\n",
       "      <th>MDG</th>\n",
       "      <th>Series</th>\n",
       "      <th>1990</th>\n",
       "      <th>Footnotes</th>\n",
       "      <th>Type</th>\n",
       "      <th>1991</th>\n",
       "      <th>Type.1</th>\n",
       "      <th>...</th>\n",
       "      <th>Type.18</th>\n",
       "      <th>2009</th>\n",
       "      <th>Type.19</th>\n",
       "      <th>2010</th>\n",
       "      <th>Footnotes.20</th>\n",
       "      <th>Type.20</th>\n",
       "      <th>2011</th>\n",
       "      <th>Type.21</th>\n",
       "      <th>2014</th>\n",
       "      <th>Type.24</th>\n",
       "    </tr>\n",
       "  </thead>\n",
       "  <tbody>\n",
       "    <tr>\n",
       "      <td>0</td>\n",
       "      <td>4</td>\n",
       "      <td>Afghanistan</td>\n",
       "      <td>567</td>\n",
       "      <td>Y</td>\n",
       "      <td>Proportion of land area covered by forest, per...</td>\n",
       "      <td>2.1</td>\n",
       "      <td>NaN</td>\n",
       "      <td>E</td>\n",
       "      <td>NaN</td>\n",
       "      <td>NaN</td>\n",
       "      <td>...</td>\n",
       "      <td>NaN</td>\n",
       "      <td>NaN</td>\n",
       "      <td>NaN</td>\n",
       "      <td>2.1</td>\n",
       "      <td>NaN</td>\n",
       "      <td>E</td>\n",
       "      <td>NaN</td>\n",
       "      <td>NaN</td>\n",
       "      <td>NaN</td>\n",
       "      <td>NaN</td>\n",
       "    </tr>\n",
       "    <tr>\n",
       "      <td>1</td>\n",
       "      <td>4</td>\n",
       "      <td>Afghanistan</td>\n",
       "      <td>749</td>\n",
       "      <td>Y</td>\n",
       "      <td>Carbon dioxide emissions (CO2), thousand metri...</td>\n",
       "      <td>2676.9</td>\n",
       "      <td>NaN</td>\n",
       "      <td>G</td>\n",
       "      <td>2493.6</td>\n",
       "      <td>G</td>\n",
       "      <td>...</td>\n",
       "      <td>G</td>\n",
       "      <td>6776.6</td>\n",
       "      <td>G</td>\n",
       "      <td>8470.8</td>\n",
       "      <td>NaN</td>\n",
       "      <td>G</td>\n",
       "      <td>12251.4</td>\n",
       "      <td>G</td>\n",
       "      <td>NaN</td>\n",
       "      <td>NaN</td>\n",
       "    </tr>\n",
       "    <tr>\n",
       "      <td>2</td>\n",
       "      <td>4</td>\n",
       "      <td>Afghanistan</td>\n",
       "      <td>616</td>\n",
       "      <td>Y</td>\n",
       "      <td>Terrestrial and marine areas protected to tota...</td>\n",
       "      <td>0.36</td>\n",
       "      <td>NaN</td>\n",
       "      <td>C</td>\n",
       "      <td>NaN</td>\n",
       "      <td>NaN</td>\n",
       "      <td>...</td>\n",
       "      <td>NaN</td>\n",
       "      <td>NaN</td>\n",
       "      <td>NaN</td>\n",
       "      <td>NaN</td>\n",
       "      <td>NaN</td>\n",
       "      <td>NaN</td>\n",
       "      <td>NaN</td>\n",
       "      <td>NaN</td>\n",
       "      <td>0.46</td>\n",
       "      <td>C</td>\n",
       "    </tr>\n",
       "    <tr>\n",
       "      <td>3</td>\n",
       "      <td>8</td>\n",
       "      <td>Albania</td>\n",
       "      <td>567</td>\n",
       "      <td>Y</td>\n",
       "      <td>Proportion of land area covered by forest, per...</td>\n",
       "      <td>28.8</td>\n",
       "      <td>NaN</td>\n",
       "      <td>C</td>\n",
       "      <td>NaN</td>\n",
       "      <td>NaN</td>\n",
       "      <td>...</td>\n",
       "      <td>NaN</td>\n",
       "      <td>NaN</td>\n",
       "      <td>NaN</td>\n",
       "      <td>28.3</td>\n",
       "      <td>NaN</td>\n",
       "      <td>C</td>\n",
       "      <td>NaN</td>\n",
       "      <td>NaN</td>\n",
       "      <td>NaN</td>\n",
       "      <td>NaN</td>\n",
       "    </tr>\n",
       "    <tr>\n",
       "      <td>4</td>\n",
       "      <td>8</td>\n",
       "      <td>Albania</td>\n",
       "      <td>749</td>\n",
       "      <td>Y</td>\n",
       "      <td>Carbon dioxide emissions (CO2), thousand metri...</td>\n",
       "      <td>7488</td>\n",
       "      <td>NaN</td>\n",
       "      <td>G</td>\n",
       "      <td>3971.4</td>\n",
       "      <td>G</td>\n",
       "      <td>...</td>\n",
       "      <td>G</td>\n",
       "      <td>4488.4</td>\n",
       "      <td>G</td>\n",
       "      <td>4415.1</td>\n",
       "      <td>NaN</td>\n",
       "      <td>G</td>\n",
       "      <td>4668.1</td>\n",
       "      <td>G</td>\n",
       "      <td>NaN</td>\n",
       "      <td>NaN</td>\n",
       "    </tr>\n",
       "    <tr>\n",
       "      <td>...</td>\n",
       "      <td>...</td>\n",
       "      <td>...</td>\n",
       "      <td>...</td>\n",
       "      <td>...</td>\n",
       "      <td>...</td>\n",
       "      <td>...</td>\n",
       "      <td>...</td>\n",
       "      <td>...</td>\n",
       "      <td>...</td>\n",
       "      <td>...</td>\n",
       "      <td>...</td>\n",
       "      <td>...</td>\n",
       "      <td>...</td>\n",
       "      <td>...</td>\n",
       "      <td>...</td>\n",
       "      <td>...</td>\n",
       "      <td>...</td>\n",
       "      <td>...</td>\n",
       "      <td>...</td>\n",
       "      <td>...</td>\n",
       "      <td>...</td>\n",
       "    </tr>\n",
       "    <tr>\n",
       "      <td>685</td>\n",
       "      <td>894</td>\n",
       "      <td>Zambia</td>\n",
       "      <td>749</td>\n",
       "      <td>Y</td>\n",
       "      <td>Carbon dioxide emissions (CO2), thousand metri...</td>\n",
       "      <td>2445.9</td>\n",
       "      <td>NaN</td>\n",
       "      <td>G</td>\n",
       "      <td>2416.6</td>\n",
       "      <td>G</td>\n",
       "      <td>...</td>\n",
       "      <td>G</td>\n",
       "      <td>2486.2</td>\n",
       "      <td>G</td>\n",
       "      <td>2673.2</td>\n",
       "      <td>NaN</td>\n",
       "      <td>G</td>\n",
       "      <td>3047.3</td>\n",
       "      <td>G</td>\n",
       "      <td>NaN</td>\n",
       "      <td>NaN</td>\n",
       "    </tr>\n",
       "    <tr>\n",
       "      <td>686</td>\n",
       "      <td>894</td>\n",
       "      <td>Zambia</td>\n",
       "      <td>616</td>\n",
       "      <td>Y</td>\n",
       "      <td>Terrestrial and marine areas protected to tota...</td>\n",
       "      <td>36.05</td>\n",
       "      <td>NaN</td>\n",
       "      <td>C</td>\n",
       "      <td>NaN</td>\n",
       "      <td>NaN</td>\n",
       "      <td>...</td>\n",
       "      <td>NaN</td>\n",
       "      <td>NaN</td>\n",
       "      <td>NaN</td>\n",
       "      <td>NaN</td>\n",
       "      <td>NaN</td>\n",
       "      <td>NaN</td>\n",
       "      <td>NaN</td>\n",
       "      <td>NaN</td>\n",
       "      <td>37.85</td>\n",
       "      <td>C</td>\n",
       "    </tr>\n",
       "    <tr>\n",
       "      <td>687</td>\n",
       "      <td>716</td>\n",
       "      <td>Zimbabwe</td>\n",
       "      <td>567</td>\n",
       "      <td>Y</td>\n",
       "      <td>Proportion of land area covered by forest, per...</td>\n",
       "      <td>57.3</td>\n",
       "      <td>NaN</td>\n",
       "      <td>C</td>\n",
       "      <td>NaN</td>\n",
       "      <td>NaN</td>\n",
       "      <td>...</td>\n",
       "      <td>NaN</td>\n",
       "      <td>NaN</td>\n",
       "      <td>NaN</td>\n",
       "      <td>40.4</td>\n",
       "      <td>NaN</td>\n",
       "      <td>C</td>\n",
       "      <td>NaN</td>\n",
       "      <td>NaN</td>\n",
       "      <td>NaN</td>\n",
       "      <td>NaN</td>\n",
       "    </tr>\n",
       "    <tr>\n",
       "      <td>688</td>\n",
       "      <td>716</td>\n",
       "      <td>Zimbabwe</td>\n",
       "      <td>749</td>\n",
       "      <td>Y</td>\n",
       "      <td>Carbon dioxide emissions (CO2), thousand metri...</td>\n",
       "      <td>15504.1</td>\n",
       "      <td>NaN</td>\n",
       "      <td>G</td>\n",
       "      <td>15823.1</td>\n",
       "      <td>G</td>\n",
       "      <td>...</td>\n",
       "      <td>G</td>\n",
       "      <td>8239.7</td>\n",
       "      <td>G</td>\n",
       "      <td>9028.2</td>\n",
       "      <td>NaN</td>\n",
       "      <td>G</td>\n",
       "      <td>9860.6</td>\n",
       "      <td>G</td>\n",
       "      <td>NaN</td>\n",
       "      <td>NaN</td>\n",
       "    </tr>\n",
       "    <tr>\n",
       "      <td>689</td>\n",
       "      <td>716</td>\n",
       "      <td>Zimbabwe</td>\n",
       "      <td>616</td>\n",
       "      <td>Y</td>\n",
       "      <td>Terrestrial and marine areas protected to tota...</td>\n",
       "      <td>16.9</td>\n",
       "      <td>NaN</td>\n",
       "      <td>C</td>\n",
       "      <td>NaN</td>\n",
       "      <td>NaN</td>\n",
       "      <td>...</td>\n",
       "      <td>NaN</td>\n",
       "      <td>NaN</td>\n",
       "      <td>NaN</td>\n",
       "      <td>NaN</td>\n",
       "      <td>NaN</td>\n",
       "      <td>NaN</td>\n",
       "      <td>NaN</td>\n",
       "      <td>NaN</td>\n",
       "      <td>26.61</td>\n",
       "      <td>C</td>\n",
       "    </tr>\n",
       "  </tbody>\n",
       "</table>\n",
       "<p>690 rows × 55 columns</p>\n",
       "</div>"
      ],
      "text/plain": [
       "     CountryCode      Country  SeriesCode MDG  \\\n",
       "0              4  Afghanistan         567   Y   \n",
       "1              4  Afghanistan         749   Y   \n",
       "2              4  Afghanistan         616   Y   \n",
       "3              8      Albania         567   Y   \n",
       "4              8      Albania         749   Y   \n",
       "..           ...          ...         ...  ..   \n",
       "685          894       Zambia         749   Y   \n",
       "686          894       Zambia         616   Y   \n",
       "687          716     Zimbabwe         567   Y   \n",
       "688          716     Zimbabwe         749   Y   \n",
       "689          716     Zimbabwe         616   Y   \n",
       "\n",
       "                                                Series     1990 Footnotes  \\\n",
       "0    Proportion of land area covered by forest, per...      2.1       NaN   \n",
       "1    Carbon dioxide emissions (CO2), thousand metri...   2676.9       NaN   \n",
       "2    Terrestrial and marine areas protected to tota...     0.36       NaN   \n",
       "3    Proportion of land area covered by forest, per...     28.8       NaN   \n",
       "4    Carbon dioxide emissions (CO2), thousand metri...     7488       NaN   \n",
       "..                                                 ...      ...       ...   \n",
       "685  Carbon dioxide emissions (CO2), thousand metri...   2445.9       NaN   \n",
       "686  Terrestrial and marine areas protected to tota...    36.05       NaN   \n",
       "687  Proportion of land area covered by forest, per...     57.3       NaN   \n",
       "688  Carbon dioxide emissions (CO2), thousand metri...  15504.1       NaN   \n",
       "689  Terrestrial and marine areas protected to tota...     16.9       NaN   \n",
       "\n",
       "    Type     1991 Type.1  ... Type.18    2009 Type.19    2010 Footnotes.20  \\\n",
       "0      E      NaN    NaN  ...     NaN     NaN     NaN     2.1          NaN   \n",
       "1      G   2493.6      G  ...       G  6776.6       G  8470.8          NaN   \n",
       "2      C      NaN    NaN  ...     NaN     NaN     NaN     NaN          NaN   \n",
       "3      C      NaN    NaN  ...     NaN     NaN     NaN    28.3          NaN   \n",
       "4      G   3971.4      G  ...       G  4488.4       G  4415.1          NaN   \n",
       "..   ...      ...    ...  ...     ...     ...     ...     ...          ...   \n",
       "685    G   2416.6      G  ...       G  2486.2       G  2673.2          NaN   \n",
       "686    C      NaN    NaN  ...     NaN     NaN     NaN     NaN          NaN   \n",
       "687    C      NaN    NaN  ...     NaN     NaN     NaN    40.4          NaN   \n",
       "688    G  15823.1      G  ...       G  8239.7       G  9028.2          NaN   \n",
       "689    C      NaN    NaN  ...     NaN     NaN     NaN     NaN          NaN   \n",
       "\n",
       "    Type.20     2011 Type.21   2014 Type.24  \n",
       "0         E      NaN     NaN    NaN     NaN  \n",
       "1         G  12251.4       G    NaN     NaN  \n",
       "2       NaN      NaN     NaN   0.46       C  \n",
       "3         C      NaN     NaN    NaN     NaN  \n",
       "4         G   4668.1       G    NaN     NaN  \n",
       "..      ...      ...     ...    ...     ...  \n",
       "685       G   3047.3       G    NaN     NaN  \n",
       "686     NaN      NaN     NaN  37.85       C  \n",
       "687       C      NaN     NaN    NaN     NaN  \n",
       "688       G   9860.6       G    NaN     NaN  \n",
       "689     NaN      NaN     NaN  26.61       C  \n",
       "\n",
       "[690 rows x 55 columns]"
      ]
     },
     "execution_count": 11,
     "metadata": {},
     "output_type": "execute_result"
    }
   ],
   "source": [
    "mdg_new = mdg_drop_null\n",
    "mdg_new = mdg_new.fillna(mdg_new.mean(axis='rows'))\n",
    "\n",
    "mdg_new"
   ]
  },
  {
   "cell_type": "markdown",
   "metadata": {},
   "source": [
    " # 1. Countries that are represented. Missing values are there by country, year and series."
   ]
  },
  {
   "cell_type": "markdown",
   "metadata": {},
   "source": [
    " #### Number of country represented"
   ]
  },
  {
   "cell_type": "code",
   "execution_count": 13,
   "metadata": {},
   "outputs": [
    {
     "data": {
      "text/plain": [
       "230"
      ]
     },
     "execution_count": 13,
     "metadata": {},
     "output_type": "execute_result"
    }
   ],
   "source": [
    "mdg_data['Country'].nunique()"
   ]
  },
  {
   "cell_type": "markdown",
   "metadata": {},
   "source": [
    " ### Missing values by Country, Year, Series"
   ]
  },
  {
   "cell_type": "code",
   "execution_count": 14,
   "metadata": {},
   "outputs": [
    {
     "data": {
      "text/plain": [
       "Country\n",
       "Yugoslavia [former Socialist Federal Republic]    266\n",
       "Sudan                                             264\n",
       "South Sudan                                       264\n",
       "Monaco                                            260\n",
       "United States Virgin Islands                      256\n",
       "San Marino                                        256\n",
       "Mayotte                                           256\n",
       "Puerto Rico                                       256\n",
       "Tuvalu                                            256\n",
       "Guam                                              256\n",
       "Tokelau                                           256\n",
       "American Samoa                                    256\n",
       "Northern Mariana Islands                          256\n",
       "Western Sahara                                    256\n",
       "Liechtenstein                                     246\n",
       "Montenegro                                        244\n",
       "Serbia                                            244\n",
       "Lesotho                                           242\n",
       "Serbia and Montenegro                             242\n",
       "Wallis and Futuna Islands                         240\n",
       "Timor-Leste                                       236\n",
       "State of Palestine                                226\n",
       "Anguilla                                          226\n",
       "Micronesia, Federated States of                   226\n",
       "Andorra                                           222\n",
       "Turks and Caicos Islands                          222\n",
       "Somalia                                           220\n",
       "Eritrea                                           220\n",
       "China, Hong Kong Special Administrative Region    220\n",
       "China, Macao Special Administrative Region        220\n",
       "Saint Helena                                      218\n",
       "Gibraltar                                         218\n",
       "Saint Pierre and Miquelon                         218\n",
       "Sudan (former)                                    218\n",
       "Czech Republic                                    216\n",
       "Croatia                                           216\n",
       "Slovakia                                          216\n",
       "Lithuania                                         216\n",
       "Estonia                                           216\n",
       "Palau                                             216\n",
       "Bosnia and Herzegovina                            216\n",
       "Russian Federation                                216\n",
       "Georgia                                           216\n",
       "Slovenia                                          216\n",
       "Republic of Moldova                               216\n",
       "Azerbaijan                                        216\n",
       "Tajikistan                                        216\n",
       "Ukraine                                           216\n",
       "Armenia                                           216\n",
       "Kazakhstan                                        216\n",
       "dtype: int64"
      ]
     },
     "metadata": {},
     "output_type": "display_data"
    },
    {
     "data": {
      "text/plain": [
       "Country\n",
       "Italy                                     212\n",
       "Panama                                    212\n",
       "Oman                                      212\n",
       "Liberia                                   212\n",
       "Marshall Islands                          212\n",
       "Malta                                     212\n",
       "Mali                                      212\n",
       "Maldives                                  212\n",
       "Malaysia                                  212\n",
       "Malawi                                    212\n",
       "Madagascar                                212\n",
       "Luxembourg                                212\n",
       "Zambia                                    212\n",
       "Lebanon                                   212\n",
       "Norway                                    212\n",
       "Lao People's Democratic Republic          212\n",
       "Kuwait                                    212\n",
       "Korea, Republic of                        212\n",
       "Korea, Democratic People's Republic of    212\n",
       "Kiribati                                  212\n",
       "Kenya                                     212\n",
       "Jordan                                    212\n",
       "Japan                                     212\n",
       "Jamaica                                   212\n",
       "Martinique                                212\n",
       "Afghanistan                               212\n",
       "Mauritania                                212\n",
       "Nauru                                     212\n",
       "Niue                                      212\n",
       "Nigeria                                   212\n",
       "Niger                                     212\n",
       "Nicaragua                                 212\n",
       "New Zealand                               212\n",
       "New Caledonia                             212\n",
       "Netherlands Antilles                      212\n",
       "Nepal                                     212\n",
       "Netherlands                               212\n",
       "Namibia                                   212\n",
       "Myanmar                                   212\n",
       "Mozambique                                212\n",
       "Morocco                                   212\n",
       "Montserrat                                212\n",
       "Mongolia                                  212\n",
       "Mexico                                    212\n",
       "Mauritius                                 212\n",
       "Finland                                   208\n",
       "China                                     208\n",
       "Poland                                    208\n",
       "Hungary                                   208\n",
       "French Guiana                             208\n",
       "dtype: int64"
      ]
     },
     "metadata": {},
     "output_type": "display_data"
    }
   ],
   "source": [
    "#missing values by country in ascending order\n",
    "display(mdg_data.groupby('Country').apply(lambda x: x.isnull().sum().sum()).sort_values(ascending=False).head(50))\n",
    "display(mdg_data.groupby('Country').apply(lambda x: x.isnull().sum().sum()).sort_values(ascending=False).tail(50))"
   ]
  },
  {
   "cell_type": "code",
   "execution_count": 15,
   "metadata": {},
   "outputs": [
    {
     "data": {
      "text/plain": [
       "Series\n",
       "Terrestrial and marine areas protected to total territorial area, percentage    19362\n",
       "Proportion of land area covered by forest, percentage                           18892\n",
       "Carbon dioxide emissions (CO2), thousand metric tons of CO2 (CDIAC)             11550\n",
       "dtype: int64"
      ]
     },
     "execution_count": 15,
     "metadata": {},
     "output_type": "execute_result"
    }
   ],
   "source": [
    "# missing values by series\n",
    "mdg_data.groupby('Series').apply(lambda x: x.isnull().sum().sum()).sort_values(ascending=False)"
   ]
  },
  {
   "cell_type": "code",
   "execution_count": 16,
   "metadata": {},
   "outputs": [
    {
     "data": {
      "text/plain": [
       "2019    690\n",
       "2017    690\n",
       "2016    690\n",
       "2015    690\n",
       "2013    690\n",
       "2012    690\n",
       "2018    690\n",
       "1991    508\n",
       "1993    486\n",
       "1992    486\n",
       "1994    485\n",
       "1996    484\n",
       "1995    483\n",
       "1997    481\n",
       "1998    481\n",
       "1999    481\n",
       "2001    479\n",
       "2004    478\n",
       "2002    478\n",
       "2003    478\n",
       "2006    476\n",
       "2007    475\n",
       "2008    475\n",
       "2009    475\n",
       "2011    475\n",
       "2014    467\n",
       "2005    254\n",
       "2010    252\n",
       "1990     63\n",
       "2000     34\n",
       "dtype: int64"
      ]
     },
     "execution_count": 16,
     "metadata": {},
     "output_type": "execute_result"
    }
   ],
   "source": [
    "# Missing values by year\n",
    "mdg_data.loc[: , ('1990','1991','1992','1993','1994','1995','1996','1997','1998','1999','2000','2001','2002','2003','2004','2005','2006','2007','2008','2009','2010','2011','2012','2013','2014','2015','2016','2017','2018','2019')].isnull().sum().sort_values(ascending = False)"
   ]
  },
  {
   "cell_type": "markdown",
   "metadata": {},
   "source": [
    " "
   ]
  },
  {
   "cell_type": "markdown",
   "metadata": {},
   "source": [
    " "
   ]
  },
  {
   "cell_type": "markdown",
   "metadata": {},
   "source": [
    "# 2. Top and bottom 5 countries in terms of C02 emissions in 1990 and their emissions and how they changed by 2011"
   ]
  },
  {
   "cell_type": "code",
   "execution_count": 17,
   "metadata": {},
   "outputs": [
    {
     "ename": "NameError",
     "evalue": "name 'df2' is not defined",
     "output_type": "error",
     "traceback": [
      "\u001b[1;31m---------------------------------------------------------------------------\u001b[0m",
      "\u001b[1;31mNameError\u001b[0m                                 Traceback (most recent call last)",
      "\u001b[1;32m<ipython-input-17-56c48634de83>\u001b[0m in \u001b[0;36m<module>\u001b[1;34m\u001b[0m\n\u001b[0;32m      1\u001b[0m \u001b[1;31m# Slicing the dataframes for 1990 and 2011\u001b[0m\u001b[1;33m\u001b[0m\u001b[1;33m\u001b[0m\u001b[1;33m\u001b[0m\u001b[0m\n\u001b[0;32m      2\u001b[0m \u001b[1;31m#1990\u001b[0m\u001b[1;33m\u001b[0m\u001b[1;33m\u001b[0m\u001b[1;33m\u001b[0m\u001b[0m\n\u001b[1;32m----> 3\u001b[1;33m \u001b[0mdf_90\u001b[0m \u001b[1;33m=\u001b[0m \u001b[0mdf2\u001b[0m\u001b[1;33m.\u001b[0m\u001b[0mloc\u001b[0m\u001b[1;33m[\u001b[0m\u001b[1;33m:\u001b[0m\u001b[1;33m,\u001b[0m \u001b[1;33m(\u001b[0m\u001b[1;34m'Country'\u001b[0m\u001b[1;33m,\u001b[0m\u001b[1;34m'1990'\u001b[0m\u001b[1;33m)\u001b[0m \u001b[1;33m]\u001b[0m\u001b[1;33m\u001b[0m\u001b[1;33m\u001b[0m\u001b[0m\n\u001b[0m\u001b[0;32m      4\u001b[0m \u001b[0mdisplay\u001b[0m\u001b[1;33m(\u001b[0m\u001b[0mdf_90\u001b[0m\u001b[1;33m)\u001b[0m\u001b[1;33m\u001b[0m\u001b[1;33m\u001b[0m\u001b[0m\n\u001b[0;32m      5\u001b[0m \u001b[1;33m\u001b[0m\u001b[0m\n",
      "\u001b[1;31mNameError\u001b[0m: name 'df2' is not defined"
     ]
    }
   ],
   "source": [
    "# Slicing the dataframes for 1990 and 2011\n",
    "#1990\n",
    "df_90 = df2.loc[:, ('Country','1990') ]\n",
    "display(df_90)\n",
    "\n",
    "#2011\n",
    "df_11 = df2.loc[:, ('Country','2011') ]\n",
    "display(df_11)"
   ]
  },
  {
   "cell_type": "code",
   "execution_count": null,
   "metadata": {},
   "outputs": [],
   "source": [
    "#filling NaN values with '0' \n",
    "#1990\n",
    "df_90['1990'] = df_90['1990'].fillna(0)\n",
    "display(df_90)\n",
    "\n",
    "#2011\n",
    "df_11['2011'] = df_11['2011'].fillna(0)\n",
    "display(df_11)"
   ]
  },
  {
   "cell_type": "code",
   "execution_count": null,
   "metadata": {},
   "outputs": [],
   "source": [
    "#Groupby Country sum\n",
    "df5 = df_90.groupby('Country')['1990'].apply(lambda x : x.astype(float).sum()) #1990\n",
    "df6 = df_11.groupby('Country')['2011'].apply(lambda x : x.astype(float).sum()) #2011"
   ]
  },
  {
   "cell_type": "code",
   "execution_count": null,
   "metadata": {
    "scrolled": true
   },
   "outputs": [],
   "source": [
    "display(df5.reset_index().sort_values(['1990'],ascending=False))\n",
    "display(df6.reset_index().sort_values(['2011'],ascending=False))\n",
    "\n"
   ]
  },
  {
   "cell_type": "markdown",
   "metadata": {},
   "source": [
    "  ### 1990\n",
    "##### The top 5  countries and their emission \n",
    "* United States = 4823599.85\n",
    "* China = 2460773.08\n",
    "* Japan = 1094358.17\n",
    "* India = 690601.04\n",
    "* United Kingdom = 555919.37 \n",
    "##### The bottom 5  countries and their emission\n",
    "* Sudan = 1.28\n",
    "* Monaco = 0.18\n",
    "* Serbia and Montenegro = 0.00\n",
    "* Tokelau = 0.00\n",
    "* San Marino = 0.00\n",
    "\n",
    " ### 2011\n",
    "##### The top 5  countries and their emission \n",
    "* China\t= 9019518.2\n",
    "* United States = 5305569.6\n",
    "* India = 2074344.9\n",
    "* Russian Federation = 1808073.0\n",
    "* Japan\t= 1187657.0 \n",
    "##### The bottom 5  countries and their emission\n",
    "* Guam\t0.0\n",
    "* Serbia and Montenegro\t0.0\n",
    "* South Sudan\t0.0\n",
    "* Sudan\t0.0\n",
    "* Mayotte 0.0\n",
    "\n"
   ]
  },
  {
   "cell_type": "markdown",
   "metadata": {},
   "source": [
    " Four countries remained within the Top 5 , in 1990 and 2011, Russian Federation replaced United Kindom in 2011 from 1990 top 5.\n",
    " The bottom 5 completely with non of the countries that were in th bottom 5 in 1990, appearing again in botton 5 in 2011.\n",
    "\n"
   ]
  },
  {
   "cell_type": "markdown",
   "metadata": {},
   "source": [
    " "
   ]
  },
  {
   "cell_type": "markdown",
   "metadata": {},
   "source": [
    "# 3. Mean and median of 1990\n"
   ]
  },
  {
   "cell_type": "code",
   "execution_count": null,
   "metadata": {},
   "outputs": [],
   "source": [
    "display(df5.describe())"
   ]
  },
  {
   "cell_type": "markdown",
   "metadata": {},
   "source": [
    "Mean = 71 685,03 \n",
    "median = 1 236.96\n",
    "\n",
    "The median being very small compared to the mean, it means the any many small numbers compared to largest number, yet the largest numbers are so large that they affect the average."
   ]
  },
  {
   "cell_type": "code",
   "execution_count": null,
   "metadata": {},
   "outputs": [],
   "source": [
    "df5.median()"
   ]
  },
  {
   "cell_type": "code",
   "execution_count": null,
   "metadata": {},
   "outputs": [],
   "source": [
    "(16487557.04 + 2*2998.60)/230"
   ]
  },
  {
   "cell_type": "markdown",
   "metadata": {},
   "source": [
    "# 4. The minimum, maximum and interquartile range of the CO2 emissions for 1990"
   ]
  },
  {
   "cell_type": "markdown",
   "metadata": {},
   "source": [
    "* The minimum = 0\n",
    "* The maximum = 4823599.85\n",
    "\n",
    "* Q1 = 857.52\n",
    "* Q2 = 1 236.96\n",
    "* Q3 = 21 386.62\n",
    "\n",
    "** Based on the information, the distribution of the data is negatively skewed(to the left)"
   ]
  },
  {
   "cell_type": "markdown",
   "metadata": {},
   "source": [
    " "
   ]
  },
  {
   "cell_type": "markdown",
   "metadata": {},
   "source": [
    "# 5.  Histogram of the CO2 emissions for 1990\n"
   ]
  },
  {
   "cell_type": "code",
   "execution_count": null,
   "metadata": {},
   "outputs": [],
   "source": [
    "# df5 = df_90.groupby('Country')['1990'].apply(lambda x : x.astype(float).sum())\n",
    "# df5.plot(kind = 'hist', bins = 10)\n",
    "f, axes = plt.subplots(figsize=(7, 7), sharex=True)\n",
    "sns.despine(left=True)\n",
    "# Protected Area histogram\n",
    "df5 = df_90\n",
    "from matplotlib.pyplot import hist\n",
    "df5 = pd.DataFrame({\n",
    "    'Country': np.random.randn(100),\n",
    "    '1990': 100 * np.random.rand()\n",
    "})\n",
    "\n",
    "_ = hist(df5.Country, weights=df5['1990'])\n"
   ]
  },
  {
   "cell_type": "markdown",
   "metadata": {},
   "source": [
    "The shape of the histogram is skewed to the left as expected"
   ]
  },
  {
   "cell_type": "markdown",
   "metadata": {},
   "source": [
    " "
   ]
  },
  {
   "cell_type": "markdown",
   "metadata": {},
   "source": [
    "# 6. The standard deviation and standard error of the mean in 1990"
   ]
  },
  {
   "cell_type": "code",
   "execution_count": null,
   "metadata": {},
   "outputs": [],
   "source": [
    "# the standard deviation\n",
    "df5['1990'].std()"
   ]
  },
  {
   "cell_type": "code",
   "execution_count": null,
   "metadata": {},
   "outputs": [],
   "source": [
    "# Standard error\n",
    "df5['1990'].sem()"
   ]
  },
  {
   "cell_type": "markdown",
   "metadata": {},
   "source": [
    " "
   ]
  },
  {
   "cell_type": "markdown",
   "metadata": {},
   "source": [
    "# 7. line graph to show C02 emissions in Brazil, Russia, China, India, the USA and South Africa over time"
   ]
  },
  {
   "cell_type": "code",
   "execution_count": null,
   "metadata": {},
   "outputs": [],
   "source": [
    "#index positions\n",
    "bra = df2['Country'][df2['Country']=='Brazil']\n",
    "rus = df2['Country'][df2['Country']=='Russian Federation']\n",
    "chi = df2['Country'][df2['Country']=='China']\n",
    "ind = df2['Country'][df2['Country']=='India']\n",
    "usa = df2['Country'][df2['Country']=='United States']\n",
    "rsa = df2['Country'][df2['Country']=='South Africa']\n",
    "\n",
    "display(bra)\n",
    "display(rus)\n",
    "display(chi)\n",
    "display(ind)\n",
    "display(usa)\n",
    "display(rsa)\n"
   ]
  },
  {
   "cell_type": "code",
   "execution_count": null,
   "metadata": {},
   "outputs": [],
   "source": [
    "#slicing the dataframe\n",
    "df_cou = df2.loc[(81,82,83,123,124,125,276,277,278,498,499,500,561,562,563,651,652,653), ('Country','1990', '1991', '1992', '1993', '1994', '1995', '1996', '1997', '1998', '1999', '2000', '2001', '2002', '2003', '2004', '2005', '2006', '2007', '2008', '2009', '2010', '2011', '2014') ].reset_index(drop=True)"
   ]
  },
  {
   "cell_type": "code",
   "execution_count": null,
   "metadata": {},
   "outputs": [],
   "source": [
    "df_cou.head()\n"
   ]
  },
  {
   "cell_type": "code",
   "execution_count": null,
   "metadata": {},
   "outputs": [],
   "source": [
    "# Fill NaN with '0'\n",
    "df_cou = df_cou.fillna(0)"
   ]
  },
  {
   "cell_type": "code",
   "execution_count": null,
   "metadata": {},
   "outputs": [],
   "source": [
    "df_cou.head()"
   ]
  },
  {
   "cell_type": "code",
   "execution_count": null,
   "metadata": {},
   "outputs": [],
   "source": [
    "#summing the emmisions by country\n",
    "df_group = df_cou.groupby('Country')[('1990', '1991', '1992', '1993', '1994', '1995', '1996', '1997', '1998', '1999', '2000', '2001', '2002', '2003', '2004', '2005', '2006', '2007', '2008', '2009', '2010', '2011', '2014')].apply(lambda x : x.astype(float).sum()).reset_index()\n",
    "df_group"
   ]
  },
  {
   "cell_type": "code",
   "execution_count": null,
   "metadata": {},
   "outputs": [],
   "source": []
  },
  {
   "cell_type": "markdown",
   "metadata": {},
   "source": [
    "#### line graph"
   ]
  },
  {
   "cell_type": "code",
   "execution_count": null,
   "metadata": {},
   "outputs": [],
   "source": [
    "# fig, ax = plt.subplots(figsize=(15,7) )\n",
    "# df_group.plot(ax=ax)\n",
    "\n",
    "df_gt = df_group.set_index('Country').T\n",
    "\n",
    "\n",
    "fig, ax = plt.subplots(figsize=(15,7))\n",
    "ax.set_title('line graph showing C02 emissions of Countries')\n",
    "ax.set_ylabel('Emissions')\n",
    "ax.set_xlabel(\"Year\")\n",
    "_ = df_gt.plot(ax=ax,linestyle='--', marker='o')"
   ]
  },
  {
   "cell_type": "markdown",
   "metadata": {},
   "source": [
    "* Brazil and South Africa has slightly increasing trend over the years until 2011\n",
    "* India has also  been increasing at a constant rate over years until 2011\n",
    "* Rusian Federation has been almost at a consitant from 1995 until 2011, droping from 1992\n",
    "* USA has been increasing then later slighty dropped until 2011\n",
    "* China has a rapid increasing trend from 1990 to 2011, surpassing USA after 2005, USA has been leading until 2005\n",
    "\n",
    "* All countries tremendously dropped in 2014."
   ]
  },
  {
   "cell_type": "markdown",
   "metadata": {},
   "source": [
    "# 8. The mean and standard deviation for land area covered by forest in 1990"
   ]
  },
  {
   "cell_type": "code",
   "execution_count": null,
   "metadata": {},
   "outputs": [],
   "source": [
    "# dataframe where land area is covered by forest\n",
    "df_for = df2[((df2.SeriesCode == 567))]\n",
    "df_for.head()"
   ]
  },
  {
   "cell_type": "code",
   "execution_count": null,
   "metadata": {},
   "outputs": [],
   "source": [
    "# 1990 datafram for land covered by forest\n",
    "dfor_90 = df_for.loc[:, ('Country','1990') ].reset_index(drop = True)\n",
    "dfor_90"
   ]
  },
  {
   "cell_type": "code",
   "execution_count": null,
   "metadata": {},
   "outputs": [],
   "source": [
    "#filling NaN values with '0' \n",
    "#1990\n",
    "dfor_90['1990'] = dfor_90['1990'].fillna(0)\n",
    "dfor_90"
   ]
  },
  {
   "cell_type": "code",
   "execution_count": null,
   "metadata": {},
   "outputs": [],
   "source": [
    "# mean\n",
    "dfor_90['1990'].astype(float).mean()"
   ]
  },
  {
   "cell_type": "code",
   "execution_count": null,
   "metadata": {},
   "outputs": [],
   "source": [
    "# Standard deviation\n",
    "dfor_90['1990'].astype(float).std()"
   ]
  },
  {
   "cell_type": "markdown",
   "metadata": {},
   "source": [
    "A larger standard devation indicates thay data are more spread out"
   ]
  },
  {
   "cell_type": "markdown",
   "metadata": {},
   "source": [
    " "
   ]
  },
  {
   "cell_type": "markdown",
   "metadata": {},
   "source": [
    "# 9. Histograms for land area covered by forest and percentage of area protected in 1990"
   ]
  },
  {
   "cell_type": "code",
   "execution_count": null,
   "metadata": {},
   "outputs": [],
   "source": [
    "# the protected area in 1990\n",
    "df_pro = df2[((df2.SeriesCode == 616))]\n",
    "df_pro.head()"
   ]
  },
  {
   "cell_type": "code",
   "execution_count": null,
   "metadata": {},
   "outputs": [],
   "source": [
    "# slicing \n",
    "dfpro_90 = df_pro.loc[:, ('Country','1990') ].reset_index(drop = True)\n",
    "dfpro_90"
   ]
  },
  {
   "cell_type": "code",
   "execution_count": null,
   "metadata": {},
   "outputs": [],
   "source": [
    "#filling NaN values with '0' \n",
    "#1990\n",
    "dfpro_90['1990'] = dfpro_90['1990'].fillna(0)\n",
    "dfpro_90"
   ]
  },
  {
   "cell_type": "code",
   "execution_count": null,
   "metadata": {},
   "outputs": [],
   "source": [
    "# Protected land Area histogram\n",
    "dfprol_90 = dfpro_90\n",
    "from matplotlib.pyplot import hist\n",
    "dfprol_90 = pd.DataFrame({\n",
    "    'Country': np.random.randn(100),\n",
    "    '1990': 100 * np.random.rand()\n",
    "})\n",
    "_ = hist(dfprol_90.Country, weights=dfprol_90['1990'])\n"
   ]
  },
  {
   "cell_type": "code",
   "execution_count": null,
   "metadata": {},
   "outputs": [],
   "source": [
    "plt.hist(dfpro_90['1990'].astype(float), bins=10)\n",
    "plt.show()"
   ]
  },
  {
   "cell_type": "code",
   "execution_count": null,
   "metadata": {},
   "outputs": [],
   "source": [
    "# Protected Area histogram\n",
    "dforl_90 = dfor_90\n",
    "from matplotlib.pyplot import hist\n",
    "dforl_90 = pd.DataFrame({\n",
    "    'Country': np.random.randn(100),\n",
    "    '1990': 100 * np.random.rand()\n",
    "})\n",
    "_ = hist(dforl_90.Country, weights=dforl_90['1990'])\n"
   ]
  },
  {
   "cell_type": "code",
   "execution_count": null,
   "metadata": {},
   "outputs": [],
   "source": [
    "plt.hist(dfor_90['1990'].astype(float), bins=10)\n",
    "plt.show()"
   ]
  },
  {
   "cell_type": "markdown",
   "metadata": {},
   "source": [
    " "
   ]
  },
  {
   "cell_type": "markdown",
   "metadata": {},
   "source": [
    " "
   ]
  },
  {
   "cell_type": "markdown",
   "metadata": {},
   "source": [
    " "
   ]
  },
  {
   "cell_type": "markdown",
   "metadata": {},
   "source": [
    "# 10. Scatterplot with a regression line using seaborn.regplot to show the relationship between the proportion of land area covered by forest and the percentage of area protected by land in 2000"
   ]
  },
  {
   "cell_type": "code",
   "execution_count": null,
   "metadata": {},
   "outputs": [],
   "source": [
    "#slicing the dataframe for \n",
    "\n",
    "dfor_2000 = df_for.loc[:, ('Country','2000') ].fillna(0).reset_index(drop = True)\n",
    "display(dfor_2000)\n",
    "\n",
    "dfpro_2000 = df_pro.loc[:, ('Country','2000') ].fillna(0).reset_index(drop = True)\n",
    "display(dfpro_2000)"
   ]
  },
  {
   "cell_type": "code",
   "execution_count": null,
   "metadata": {
    "scrolled": true
   },
   "outputs": [],
   "source": []
  },
  {
   "cell_type": "code",
   "execution_count": null,
   "metadata": {},
   "outputs": [],
   "source": [
    "#concatenating DataFrames along columns\n",
    "dfcon = pd.concat([dfor_2000,dfpro_2000['2000']], axis=1)"
   ]
  },
  {
   "cell_type": "code",
   "execution_count": null,
   "metadata": {},
   "outputs": [],
   "source": [
    "#renaming both '2000' columns\n",
    "dfcon.columns = [\"Country\", \"for_2000\", \"lan_2000\"]\n",
    "dfcon"
   ]
  },
  {
   "cell_type": "code",
   "execution_count": null,
   "metadata": {},
   "outputs": [],
   "source": [
    "#regression plot \n",
    "sns.regplot(data=dfcon, x=dfcon[\"for_2000\"].astype(float), y=dfcon[\"lan_2000\"].astype(float))\n",
    "plt.show()"
   ]
  },
  {
   "cell_type": "markdown",
   "metadata": {},
   "source": [
    "  "
   ]
  },
  {
   "cell_type": "code",
   "execution_count": null,
   "metadata": {},
   "outputs": [],
   "source": []
  },
  {
   "cell_type": "markdown",
   "metadata": {},
   "source": [
    "# 11.log transform variables in order to calculate a correlation coefficient. Log transform variables and show the transformed distributions in a histogram."
   ]
  },
  {
   "cell_type": "code",
   "execution_count": null,
   "metadata": {},
   "outputs": [],
   "source": [
    "dfcon['log_for_2000'] = np.log10(dfcon['for_2000'].astype(float))\n",
    "dfcon['log_lan_2000'] = np.log10(dfcon['lan_2000'].astype(float))\n",
    "display(dfcon)\n",
    "#slicing transformed columns\n",
    "dflog = dfcon.loc[ : , ('Country', 'log_for_2000', 'log_lan_2000')]\n",
    "display(dflog)"
   ]
  },
  {
   "cell_type": "code",
   "execution_count": null,
   "metadata": {},
   "outputs": [],
   "source": []
  }
 ],
 "metadata": {
  "kernelspec": {
   "display_name": "Python 3",
   "language": "python",
   "name": "python3"
  },
  "language_info": {
   "codemirror_mode": {
    "name": "ipython",
    "version": 3
   },
   "file_extension": ".py",
   "mimetype": "text/x-python",
   "name": "python",
   "nbconvert_exporter": "python",
   "pygments_lexer": "ipython3",
   "version": "3.7.4"
  }
 },
 "nbformat": 4,
 "nbformat_minor": 2
}
